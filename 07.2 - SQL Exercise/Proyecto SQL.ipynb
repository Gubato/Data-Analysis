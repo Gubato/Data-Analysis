{
 "cells": [
  {
   "cell_type": "markdown",
   "id": "d6f6ce68",
   "metadata": {},
   "source": [
    "# Proyecto final SQL - Luis Gutiérrez"
   ]
  },
  {
   "cell_type": "code",
   "execution_count": 2,
   "id": "0e69334d",
   "metadata": {},
   "outputs": [],
   "source": [
    "# Conexion a la base de datos\n",
    "\n",
    "import pandas as pd\n",
    "from sqlalchemy import create_engine\n",
    "\n",
    "db_config = {'user': 'practicum_student',         # nombre de usuario\n",
    "             'pwd': 's65BlTKV3faNIGhmvJVzOqhs', # contraseña\n",
    "             'host': 'rc1b-wcoijxj3yxfsf3fs.mdb.yandexcloud.net',\n",
    "             'port': 6432,              # puerto de conexión\n",
    "             'db': 'data-analyst-final-project-db'}          # nombre de la base de datos\n",
    "\n",
    "connection_string = 'postgresql://{}:{}@{}:{}/{}'.format(db_config['user'],\n",
    "                                                                     db_config['pwd'],\n",
    "                                                                       db_config['host'],\n",
    "                                                                       db_config['port'],\n",
    "                                                                       db_config['db'])\n",
    "\n",
    "engine = create_engine(connection_string, connect_args={'sslmode':'require'})"
   ]
  },
  {
   "cell_type": "markdown",
   "id": "efae4574",
   "metadata": {},
   "source": [
    "## Revisión de todas las tablas"
   ]
  },
  {
   "cell_type": "code",
   "execution_count": 3,
   "id": "bbaf47ad",
   "metadata": {},
   "outputs": [
    {
     "data": {
      "application/vnd.microsoft.datawrangler.viewer.v0+json": {
       "columns": [
        {
         "name": "index",
         "rawType": "int64",
         "type": "integer"
        },
        {
         "name": "book_id",
         "rawType": "int64",
         "type": "integer"
        },
        {
         "name": "author_id",
         "rawType": "int64",
         "type": "integer"
        },
        {
         "name": "title",
         "rawType": "object",
         "type": "string"
        },
        {
         "name": "num_pages",
         "rawType": "int64",
         "type": "integer"
        },
        {
         "name": "publication_date",
         "rawType": "object",
         "type": "unknown"
        },
        {
         "name": "publisher_id",
         "rawType": "int64",
         "type": "integer"
        }
       ],
       "conversionMethod": "pd.DataFrame",
       "ref": "c68b4798-1256-4710-8659-9728b13be58c",
       "rows": [
        [
         "0",
         "1",
         "546",
         "'Salem's Lot",
         "594",
         "2005-11-01",
         "93"
        ],
        [
         "1",
         "2",
         "465",
         "1 000 Places to See Before You Die",
         "992",
         "2003-05-22",
         "336"
        ],
        [
         "2",
         "3",
         "407",
         "13 Little Blue Envelopes (Little Blue Envelope  #1)",
         "322",
         "2010-12-21",
         "135"
        ],
        [
         "3",
         "4",
         "82",
         "1491: New Revelations of the Americas Before Columbus",
         "541",
         "2006-10-10",
         "309"
        ],
        [
         "4",
         "5",
         "125",
         "1776",
         "386",
         "2006-07-04",
         "268"
        ],
        [
         "5",
         "6",
         "257",
         "1st to Die (Women's Murder Club  #1)",
         "424",
         "2005-05-20",
         "116"
        ],
        [
         "6",
         "7",
         "258",
         "2nd Chance (Women's Murder Club  #2)",
         "400",
         "2005-05-20",
         "116"
        ],
        [
         "7",
         "8",
         "260",
         "4th of July (Women's Murder Club  #4)",
         "448",
         "2006-06-01",
         "318"
        ],
        [
         "8",
         "9",
         "563",
         "A Beautiful Mind",
         "461",
         "2002-02-04",
         "104"
        ],
        [
         "9",
         "10",
         "445",
         "A Bend in the Road",
         "341",
         "2005-04-01",
         "116"
        ],
        [
         "10",
         "11",
         "130",
         "A Breath of Snow and Ashes (Outlander  #6)",
         "980",
         "2006-08-29",
         "83"
        ],
        [
         "11",
         "12",
         "541",
         "A Brief History of Time",
         "212",
         "1998-09-01",
         "36"
        ],
        [
         "12",
         "13",
         "359",
         "A Caress of Twilight (Merry Gentry  #2)",
         "348",
         "2005-03-15",
         "33"
        ],
        [
         "13",
         "14",
         "85",
         "A Christmas Carol and Other Christmas Writings",
         "288",
         "2003-10-30",
         "217"
        ],
        [
         "14",
         "15",
         "198",
         "A Clash of Kings  (A Song of Ice and Fire  #2)",
         "969",
         "2002-05-28",
         "35"
        ],
        [
         "15",
         "16",
         "505",
         "A Crown of Swords (The Wheel of Time  #7)",
         "880",
         "1997-11-15",
         "297"
        ],
        [
         "16",
         "17",
         "94",
         "A Dirty Job (Grim Reaper  #1)",
         "387",
         "2006-03-21",
         "331"
        ],
        [
         "17",
         "18",
         "129",
         "A Drink Before the War (Kenzie & Gennaro  #1)",
         "282",
         "2003-09-15",
         "178"
        ],
        [
         "18",
         "19",
         "517",
         "A Fine Balance",
         "603",
         "2001-11-30",
         "309"
        ],
        [
         "19",
         "20",
         "349",
         "A Fistful of Charms (The Hollows  #4)",
         "510",
         "2006-06-27",
         "143"
        ],
        [
         "20",
         "21",
         "440",
         "A Game of You (The Sandman  #5)",
         "192",
         "1999-03-10",
         "305"
        ],
        [
         "21",
         "22",
         "368",
         "A Great and Terrible Beauty (Gemma Doyle #1)",
         "403",
         "2003-12-09",
         "276"
        ],
        [
         "22",
         "23",
         "571",
         "A Hat Full of Sky (Discworld  #32; Tiffany Aching  #2)",
         "352",
         "2005-05-05",
         "66"
        ],
        [
         "23",
         "24",
         "118",
         "A Heartbreaking Work of Staggering Genius",
         "485",
         "2001-02-13",
         "309"
        ],
        [
         "24",
         "25",
         "333",
         "A History of God: The 4 000-Year Quest of Judaism  Christianity  and Islam",
         "460",
         "2004-03-02",
         "115"
        ],
        [
         "25",
         "26",
         "351",
         "A Hunger Like No Other (Immortals After Dark  #1)",
         "356",
         "2006-04-01",
         "231"
        ],
        [
         "26",
         "27",
         "171",
         "A Lesson Before Dying",
         "256",
         "1997-09-28",
         "309"
        ],
        [
         "27",
         "28",
         "534",
         "A Light in the Attic",
         "176",
         "2002-10-07",
         "146"
        ],
        [
         "28",
         "29",
         "176",
         "A Little Princess",
         "242",
         "2002-02-26",
         "212"
        ],
        [
         "29",
         "30",
         "447",
         "A Long Way Down",
         "368",
         "2006-05-02",
         "247"
        ],
        [
         "30",
         "31",
         "233",
         "A Long Way Gone: Memoirs of a Boy Soldier",
         "229",
         "2007-02-13",
         "252"
        ],
        [
         "31",
         "32",
         "495",
         "A Long Way from Chicago (A Long Way from Chicago  #1)",
         "160",
         "2004-04-12",
         "235"
        ],
        [
         "32",
         "33",
         "353",
         "A Man Without a Country",
         "160",
         "2007-01-16",
         "243"
        ],
        [
         "33",
         "34",
         "268",
         "A Map of the World",
         "400",
         "1999-12-03",
         "16"
        ],
        [
         "34",
         "35",
         "254",
         "A Million Little Pieces",
         "515",
         "2005-09-22",
         "16"
        ],
        [
         "35",
         "36",
         "169",
         "A Moveable Feast",
         "192",
         "2012-09-06",
         "309"
        ],
        [
         "36",
         "37",
         "3",
         "A Murder Is Announced (Miss Marple  #5)",
         "288",
         "2006-09-30",
         "50"
        ],
        [
         "37",
         "38",
         "302",
         "A Painted House",
         "384",
         "2004-02-03",
         "35"
        ],
        [
         "38",
         "39",
         "148",
         "A Passage to India",
         "376",
         "2005-08-30",
         "212"
        ],
        [
         "39",
         "40",
         "225",
         "A People's History of the United States",
         "729",
         "2005-08-02",
         "129"
        ],
        [
         "40",
         "41",
         "256",
         "A Portrait of the Artist as a Young Man",
         "329",
         "2003-03-25",
         "217"
        ],
        [
         "41",
         "42",
         "153",
         "A Princess of Mars (Barsoom  #1)",
         "186",
         "2007-01-30",
         "212"
        ],
        [
         "42",
         "43",
         "377",
         "A Quick Bite (Argeneau #1)",
         "360",
         "2020-03-31",
         "28"
        ],
        [
         "43",
         "44",
         "604",
         "A Room of One's Own",
         "112",
         "2000-01-01",
         "212"
        ],
        [
         "44",
         "45",
         "147",
         "A Room with a View",
         "119",
         "2005-01-01",
         "90"
        ],
        [
         "45",
         "46",
         "477",
         "A Scanner Darkly",
         "219",
         "2006-08-17",
         "114"
        ],
        [
         "46",
         "47",
         "308",
         "A Separate Peace",
         "208",
         "2003-09-30",
         "258"
        ],
        [
         "47",
         "48",
         "56",
         "A Short History of Nearly Everything",
         "544",
         "2004-09-14",
         "56"
        ],
        [
         "48",
         "49",
         "569",
         "A Streetcar Named Desire",
         "107",
         "1952-12-01",
         "97"
        ],
        [
         "49",
         "50",
         "269",
         "A Thousand Acres",
         "371",
         "2003-12-02",
         "15"
        ]
       ],
       "shape": {
        "columns": 6,
        "rows": 1000
       }
      },
      "text/html": [
       "<div>\n",
       "<style scoped>\n",
       "    .dataframe tbody tr th:only-of-type {\n",
       "        vertical-align: middle;\n",
       "    }\n",
       "\n",
       "    .dataframe tbody tr th {\n",
       "        vertical-align: top;\n",
       "    }\n",
       "\n",
       "    .dataframe thead th {\n",
       "        text-align: right;\n",
       "    }\n",
       "</style>\n",
       "<table border=\"1\" class=\"dataframe\">\n",
       "  <thead>\n",
       "    <tr style=\"text-align: right;\">\n",
       "      <th></th>\n",
       "      <th>book_id</th>\n",
       "      <th>author_id</th>\n",
       "      <th>title</th>\n",
       "      <th>num_pages</th>\n",
       "      <th>publication_date</th>\n",
       "      <th>publisher_id</th>\n",
       "    </tr>\n",
       "  </thead>\n",
       "  <tbody>\n",
       "    <tr>\n",
       "      <th>0</th>\n",
       "      <td>1</td>\n",
       "      <td>546</td>\n",
       "      <td>'Salem's Lot</td>\n",
       "      <td>594</td>\n",
       "      <td>2005-11-01</td>\n",
       "      <td>93</td>\n",
       "    </tr>\n",
       "    <tr>\n",
       "      <th>1</th>\n",
       "      <td>2</td>\n",
       "      <td>465</td>\n",
       "      <td>1 000 Places to See Before You Die</td>\n",
       "      <td>992</td>\n",
       "      <td>2003-05-22</td>\n",
       "      <td>336</td>\n",
       "    </tr>\n",
       "    <tr>\n",
       "      <th>2</th>\n",
       "      <td>3</td>\n",
       "      <td>407</td>\n",
       "      <td>13 Little Blue Envelopes (Little Blue Envelope...</td>\n",
       "      <td>322</td>\n",
       "      <td>2010-12-21</td>\n",
       "      <td>135</td>\n",
       "    </tr>\n",
       "    <tr>\n",
       "      <th>3</th>\n",
       "      <td>4</td>\n",
       "      <td>82</td>\n",
       "      <td>1491: New Revelations of the Americas Before C...</td>\n",
       "      <td>541</td>\n",
       "      <td>2006-10-10</td>\n",
       "      <td>309</td>\n",
       "    </tr>\n",
       "    <tr>\n",
       "      <th>4</th>\n",
       "      <td>5</td>\n",
       "      <td>125</td>\n",
       "      <td>1776</td>\n",
       "      <td>386</td>\n",
       "      <td>2006-07-04</td>\n",
       "      <td>268</td>\n",
       "    </tr>\n",
       "    <tr>\n",
       "      <th>...</th>\n",
       "      <td>...</td>\n",
       "      <td>...</td>\n",
       "      <td>...</td>\n",
       "      <td>...</td>\n",
       "      <td>...</td>\n",
       "      <td>...</td>\n",
       "    </tr>\n",
       "    <tr>\n",
       "      <th>995</th>\n",
       "      <td>996</td>\n",
       "      <td>571</td>\n",
       "      <td>Wyrd Sisters (Discworld  #6; Witches #2)</td>\n",
       "      <td>265</td>\n",
       "      <td>2001-02-06</td>\n",
       "      <td>147</td>\n",
       "    </tr>\n",
       "    <tr>\n",
       "      <th>996</th>\n",
       "      <td>997</td>\n",
       "      <td>454</td>\n",
       "      <td>Xenocide (Ender's Saga  #3)</td>\n",
       "      <td>592</td>\n",
       "      <td>1996-07-15</td>\n",
       "      <td>297</td>\n",
       "    </tr>\n",
       "    <tr>\n",
       "      <th>997</th>\n",
       "      <td>998</td>\n",
       "      <td>201</td>\n",
       "      <td>Year of Wonders</td>\n",
       "      <td>358</td>\n",
       "      <td>2002-04-30</td>\n",
       "      <td>212</td>\n",
       "    </tr>\n",
       "    <tr>\n",
       "      <th>998</th>\n",
       "      <td>999</td>\n",
       "      <td>94</td>\n",
       "      <td>You Suck (A Love Story  #2)</td>\n",
       "      <td>328</td>\n",
       "      <td>2007-01-16</td>\n",
       "      <td>331</td>\n",
       "    </tr>\n",
       "    <tr>\n",
       "      <th>999</th>\n",
       "      <td>1000</td>\n",
       "      <td>509</td>\n",
       "      <td>Zen and the Art of Motorcycle Maintenance: An ...</td>\n",
       "      <td>540</td>\n",
       "      <td>2006-04-25</td>\n",
       "      <td>143</td>\n",
       "    </tr>\n",
       "  </tbody>\n",
       "</table>\n",
       "<p>1000 rows × 6 columns</p>\n",
       "</div>"
      ],
      "text/plain": [
       "     book_id  author_id                                              title  \\\n",
       "0          1        546                                       'Salem's Lot   \n",
       "1          2        465                 1 000 Places to See Before You Die   \n",
       "2          3        407  13 Little Blue Envelopes (Little Blue Envelope...   \n",
       "3          4         82  1491: New Revelations of the Americas Before C...   \n",
       "4          5        125                                               1776   \n",
       "..       ...        ...                                                ...   \n",
       "995      996        571           Wyrd Sisters (Discworld  #6; Witches #2)   \n",
       "996      997        454                        Xenocide (Ender's Saga  #3)   \n",
       "997      998        201                                    Year of Wonders   \n",
       "998      999         94                        You Suck (A Love Story  #2)   \n",
       "999     1000        509  Zen and the Art of Motorcycle Maintenance: An ...   \n",
       "\n",
       "     num_pages publication_date  publisher_id  \n",
       "0          594       2005-11-01            93  \n",
       "1          992       2003-05-22           336  \n",
       "2          322       2010-12-21           135  \n",
       "3          541       2006-10-10           309  \n",
       "4          386       2006-07-04           268  \n",
       "..         ...              ...           ...  \n",
       "995        265       2001-02-06           147  \n",
       "996        592       1996-07-15           297  \n",
       "997        358       2002-04-30           212  \n",
       "998        328       2007-01-16           331  \n",
       "999        540       2006-04-25           143  \n",
       "\n",
       "[1000 rows x 6 columns]"
      ]
     },
     "execution_count": 3,
     "metadata": {},
     "output_type": "execute_result"
    }
   ],
   "source": [
    "# Tabla books\n",
    "\n",
    "query_books = '''\n",
    "                SELECT * FROM books\n",
    "            \n",
    "                '''\n",
    "\n",
    "pd.io.sql.read_sql(query_books, con = engine)"
   ]
  },
  {
   "cell_type": "code",
   "execution_count": 4,
   "id": "9da6aa03",
   "metadata": {},
   "outputs": [
    {
     "data": {
      "application/vnd.microsoft.datawrangler.viewer.v0+json": {
       "columns": [
        {
         "name": "index",
         "rawType": "int64",
         "type": "integer"
        },
        {
         "name": "author_id",
         "rawType": "int64",
         "type": "integer"
        },
        {
         "name": "author",
         "rawType": "object",
         "type": "string"
        }
       ],
       "conversionMethod": "pd.DataFrame",
       "ref": "536e51a2-a042-42fc-85e1-96796f0d36bb",
       "rows": [
        [
         "0",
         "1",
         "A.S. Byatt"
        ],
        [
         "1",
         "2",
         "Aesop/Laura Harris/Laura Gibbs"
        ],
        [
         "2",
         "3",
         "Agatha Christie"
        ],
        [
         "3",
         "4",
         "Alan Brennert"
        ],
        [
         "4",
         "5",
         "Alan Moore/David   Lloyd"
        ],
        [
         "5",
         "6",
         "Alan Paton"
        ],
        [
         "6",
         "7",
         "Albert Camus/Justin O'Brien"
        ],
        [
         "7",
         "8",
         "Aldous Huxley"
        ],
        [
         "8",
         "9",
         "Aldous Huxley/Christopher Hitchens"
        ],
        [
         "9",
         "10",
         "Aleksandr Solzhenitsyn/H.T. Willetts"
        ],
        [
         "10",
         "11",
         "Alexander McCall Smith"
        ],
        [
         "11",
         "12",
         "Alexander Pushkin/James E. Falen"
        ],
        [
         "12",
         "13",
         "Alexandre Dumas/Robin Buss"
        ],
        [
         "13",
         "14",
         "Alice Hoffman"
        ],
        [
         "14",
         "15",
         "Alice Walker"
        ],
        [
         "15",
         "16",
         "Alison Bechdel"
        ],
        [
         "16",
         "17",
         "Allen Ginsberg/William Carlos Williams"
        ],
        [
         "17",
         "18",
         "Amy Sedaris"
        ],
        [
         "18",
         "19",
         "Amy Tan"
        ],
        [
         "19",
         "20",
         "Andy Warhol"
        ],
        [
         "20",
         "21",
         "Anita Diamant"
        ],
        [
         "21",
         "22",
         "Anita Shreve"
        ],
        [
         "22",
         "23",
         "Ann Brashares"
        ],
        [
         "23",
         "24",
         "Ann Patchett"
        ],
        [
         "24",
         "25",
         "Ann Rule"
        ],
        [
         "25",
         "26",
         "Ann-Marie MacDonald"
        ],
        [
         "26",
         "27",
         "Anna Quindlen"
        ],
        [
         "27",
         "28",
         "Anna Sewell"
        ],
        [
         "28",
         "29",
         "Anne Fadiman"
        ],
        [
         "29",
         "30",
         "Anne Lamott"
        ],
        [
         "30",
         "31",
         "Anne McCaffrey"
        ],
        [
         "31",
         "32",
         "Anne Rice"
        ],
        [
         "32",
         "33",
         "Anonymous/N.K. Sandars"
        ],
        [
         "33",
         "34",
         "Anthony Bourdain"
        ],
        [
         "34",
         "35",
         "Aristophanes/Sarah Ruden"
        ],
        [
         "35",
         "36",
         "Art Spiegelman"
        ],
        [
         "36",
         "37",
         "Arthur  Miller/Christopher Bigsby"
        ],
        [
         "37",
         "38",
         "Arthur Conan Doyle/Anne Perry/Sidney Paget"
        ],
        [
         "38",
         "39",
         "Arthur Golden"
        ],
        [
         "39",
         "40",
         "Astrid Lindgren/Florence Lamborn/Louis S. Glanzman"
        ],
        [
         "40",
         "41",
         "Atul Gawande/Susanne Kuhlmann-Krieg"
        ],
        [
         "41",
         "42",
         "Audrey Penn/Ruth E. Harper/Nancy M. Leak"
        ],
        [
         "42",
         "43",
         "Augusten Burroughs"
        ],
        [
         "43",
         "44",
         "Ayn Rand"
        ],
        [
         "44",
         "45",
         "Ayn Rand/Leonard Peikoff"
        ],
        [
         "45",
         "46",
         "Azar Nafisi"
        ],
        [
         "46",
         "47",
         "Barack Obama"
        ],
        [
         "47",
         "48",
         "Barbara Ehrenreich"
        ],
        [
         "48",
         "49",
         "Barbara Kingsolver"
        ],
        [
         "49",
         "50",
         "Barbara Kingsolver/Steven L. Hopp/Camille Kingsolver/Richard A. Houser"
        ]
       ],
       "shape": {
        "columns": 2,
        "rows": 636
       }
      },
      "text/html": [
       "<div>\n",
       "<style scoped>\n",
       "    .dataframe tbody tr th:only-of-type {\n",
       "        vertical-align: middle;\n",
       "    }\n",
       "\n",
       "    .dataframe tbody tr th {\n",
       "        vertical-align: top;\n",
       "    }\n",
       "\n",
       "    .dataframe thead th {\n",
       "        text-align: right;\n",
       "    }\n",
       "</style>\n",
       "<table border=\"1\" class=\"dataframe\">\n",
       "  <thead>\n",
       "    <tr style=\"text-align: right;\">\n",
       "      <th></th>\n",
       "      <th>author_id</th>\n",
       "      <th>author</th>\n",
       "    </tr>\n",
       "  </thead>\n",
       "  <tbody>\n",
       "    <tr>\n",
       "      <th>0</th>\n",
       "      <td>1</td>\n",
       "      <td>A.S. Byatt</td>\n",
       "    </tr>\n",
       "    <tr>\n",
       "      <th>1</th>\n",
       "      <td>2</td>\n",
       "      <td>Aesop/Laura Harris/Laura Gibbs</td>\n",
       "    </tr>\n",
       "    <tr>\n",
       "      <th>2</th>\n",
       "      <td>3</td>\n",
       "      <td>Agatha Christie</td>\n",
       "    </tr>\n",
       "    <tr>\n",
       "      <th>3</th>\n",
       "      <td>4</td>\n",
       "      <td>Alan Brennert</td>\n",
       "    </tr>\n",
       "    <tr>\n",
       "      <th>4</th>\n",
       "      <td>5</td>\n",
       "      <td>Alan Moore/David   Lloyd</td>\n",
       "    </tr>\n",
       "    <tr>\n",
       "      <th>...</th>\n",
       "      <td>...</td>\n",
       "      <td>...</td>\n",
       "    </tr>\n",
       "    <tr>\n",
       "      <th>631</th>\n",
       "      <td>632</td>\n",
       "      <td>William Strunk Jr./E.B. White</td>\n",
       "    </tr>\n",
       "    <tr>\n",
       "      <th>632</th>\n",
       "      <td>633</td>\n",
       "      <td>Zadie Smith</td>\n",
       "    </tr>\n",
       "    <tr>\n",
       "      <th>633</th>\n",
       "      <td>634</td>\n",
       "      <td>Zilpha Keatley Snyder</td>\n",
       "    </tr>\n",
       "    <tr>\n",
       "      <th>634</th>\n",
       "      <td>635</td>\n",
       "      <td>Zora Neale Hurston</td>\n",
       "    </tr>\n",
       "    <tr>\n",
       "      <th>635</th>\n",
       "      <td>636</td>\n",
       "      <td>Åsne Seierstad/Ingrid Christopherson</td>\n",
       "    </tr>\n",
       "  </tbody>\n",
       "</table>\n",
       "<p>636 rows × 2 columns</p>\n",
       "</div>"
      ],
      "text/plain": [
       "     author_id                                author\n",
       "0            1                            A.S. Byatt\n",
       "1            2        Aesop/Laura Harris/Laura Gibbs\n",
       "2            3                       Agatha Christie\n",
       "3            4                         Alan Brennert\n",
       "4            5              Alan Moore/David   Lloyd\n",
       "..         ...                                   ...\n",
       "631        632         William Strunk Jr./E.B. White\n",
       "632        633                           Zadie Smith\n",
       "633        634                 Zilpha Keatley Snyder\n",
       "634        635                    Zora Neale Hurston\n",
       "635        636  Åsne Seierstad/Ingrid Christopherson\n",
       "\n",
       "[636 rows x 2 columns]"
      ]
     },
     "execution_count": 4,
     "metadata": {},
     "output_type": "execute_result"
    }
   ],
   "source": [
    "# Tabla authors\n",
    "\n",
    "query_authors = '''\n",
    "                SELECT * FROM authors\n",
    "            \n",
    "                '''\n",
    "\n",
    "pd.io.sql.read_sql(query_authors, con = engine)"
   ]
  },
  {
   "cell_type": "code",
   "execution_count": 5,
   "id": "953bf747",
   "metadata": {},
   "outputs": [
    {
     "data": {
      "application/vnd.microsoft.datawrangler.viewer.v0+json": {
       "columns": [
        {
         "name": "index",
         "rawType": "int64",
         "type": "integer"
        },
        {
         "name": "rating_id",
         "rawType": "int64",
         "type": "integer"
        },
        {
         "name": "book_id",
         "rawType": "int64",
         "type": "integer"
        },
        {
         "name": "username",
         "rawType": "object",
         "type": "string"
        },
        {
         "name": "rating",
         "rawType": "int64",
         "type": "integer"
        }
       ],
       "conversionMethod": "pd.DataFrame",
       "ref": "64966df6-d4b2-4af2-a3d8-0678414f026d",
       "rows": [
        [
         "0",
         "1",
         "1",
         "ryanfranco",
         "4"
        ],
        [
         "1",
         "2",
         "1",
         "grantpatricia",
         "2"
        ],
        [
         "2",
         "3",
         "1",
         "brandtandrea",
         "5"
        ],
        [
         "3",
         "4",
         "2",
         "lorichen",
         "3"
        ],
        [
         "4",
         "5",
         "2",
         "mariokeller",
         "2"
        ],
        [
         "5",
         "6",
         "3",
         "johnsonamanda",
         "4"
        ],
        [
         "6",
         "7",
         "3",
         "scotttamara",
         "5"
        ],
        [
         "7",
         "8",
         "3",
         "lesliegibbs",
         "5"
        ],
        [
         "8",
         "9",
         "4",
         "abbottjames",
         "5"
        ],
        [
         "9",
         "10",
         "4",
         "valenciaanne",
         "4"
        ],
        [
         "10",
         "11",
         "5",
         "jeromebowen",
         "4"
        ],
        [
         "11",
         "12",
         "5",
         "staylor",
         "4"
        ],
        [
         "12",
         "13",
         "5",
         "susan85",
         "3"
        ],
        [
         "13",
         "14",
         "5",
         "npowers",
         "4"
        ],
        [
         "14",
         "15",
         "5",
         "znelson",
         "5"
        ],
        [
         "15",
         "16",
         "5",
         "thomas49",
         "4"
        ],
        [
         "16",
         "17",
         "6",
         "eallen",
         "2"
        ],
        [
         "17",
         "18",
         "6",
         "shermannatalie",
         "3"
        ],
        [
         "18",
         "19",
         "6",
         "martinadam",
         "3"
        ],
        [
         "19",
         "20",
         "6",
         "serranoangela",
         "5"
        ],
        [
         "20",
         "21",
         "6",
         "adamsabigail",
         "5"
        ],
        [
         "21",
         "22",
         "6",
         "sfitzgerald",
         "3"
        ],
        [
         "22",
         "23",
         "6",
         "walter49",
         "4"
        ],
        [
         "23",
         "24",
         "6",
         "jasongoodman",
         "2"
        ],
        [
         "24",
         "25",
         "6",
         "jeromebowen",
         "4"
        ],
        [
         "25",
         "26",
         "6",
         "shannonsutton",
         "4"
        ],
        [
         "26",
         "27",
         "7",
         "kevin78",
         "2"
        ],
        [
         "27",
         "28",
         "7",
         "carla64",
         "4"
        ],
        [
         "28",
         "29",
         "7",
         "robert56",
         "3"
        ],
        [
         "29",
         "30",
         "8",
         "williamsangela",
         "5"
        ],
        [
         "30",
         "31",
         "8",
         "cassandra90",
         "5"
        ],
        [
         "31",
         "32",
         "8",
         "richard89",
         "2"
        ],
        [
         "32",
         "33",
         "9",
         "lesliegibbs",
         "4"
        ],
        [
         "33",
         "34",
         "9",
         "ashleymalone",
         "4"
        ],
        [
         "34",
         "35",
         "9",
         "thomas49",
         "5"
        ],
        [
         "35",
         "36",
         "9",
         "williamsangela",
         "4"
        ],
        [
         "36",
         "37",
         "10",
         "ehall",
         "4"
        ],
        [
         "37",
         "38",
         "10",
         "tara26",
         "2"
        ],
        [
         "38",
         "39",
         "10",
         "tanya01",
         "3"
        ],
        [
         "39",
         "40",
         "10",
         "lharvey",
         "3"
        ],
        [
         "40",
         "41",
         "10",
         "ryan01",
         "4"
        ],
        [
         "41",
         "42",
         "11",
         "richard89",
         "4"
        ],
        [
         "42",
         "43",
         "11",
         "laura42",
         "3"
        ],
        [
         "43",
         "44",
         "11",
         "jessica49",
         "5"
        ],
        [
         "44",
         "45",
         "11",
         "stacyfrost",
         "5"
        ],
        [
         "45",
         "46",
         "12",
         "brentpowers",
         "4"
        ],
        [
         "46",
         "47",
         "12",
         "ryanfranco",
         "4"
        ],
        [
         "47",
         "48",
         "12",
         "isaiahreyes",
         "5"
        ],
        [
         "48",
         "49",
         "12",
         "ncurry",
         "3"
        ],
        [
         "49",
         "50",
         "12",
         "amymckenzie",
         "4"
        ]
       ],
       "shape": {
        "columns": 4,
        "rows": 6456
       }
      },
      "text/html": [
       "<div>\n",
       "<style scoped>\n",
       "    .dataframe tbody tr th:only-of-type {\n",
       "        vertical-align: middle;\n",
       "    }\n",
       "\n",
       "    .dataframe tbody tr th {\n",
       "        vertical-align: top;\n",
       "    }\n",
       "\n",
       "    .dataframe thead th {\n",
       "        text-align: right;\n",
       "    }\n",
       "</style>\n",
       "<table border=\"1\" class=\"dataframe\">\n",
       "  <thead>\n",
       "    <tr style=\"text-align: right;\">\n",
       "      <th></th>\n",
       "      <th>rating_id</th>\n",
       "      <th>book_id</th>\n",
       "      <th>username</th>\n",
       "      <th>rating</th>\n",
       "    </tr>\n",
       "  </thead>\n",
       "  <tbody>\n",
       "    <tr>\n",
       "      <th>0</th>\n",
       "      <td>1</td>\n",
       "      <td>1</td>\n",
       "      <td>ryanfranco</td>\n",
       "      <td>4</td>\n",
       "    </tr>\n",
       "    <tr>\n",
       "      <th>1</th>\n",
       "      <td>2</td>\n",
       "      <td>1</td>\n",
       "      <td>grantpatricia</td>\n",
       "      <td>2</td>\n",
       "    </tr>\n",
       "    <tr>\n",
       "      <th>2</th>\n",
       "      <td>3</td>\n",
       "      <td>1</td>\n",
       "      <td>brandtandrea</td>\n",
       "      <td>5</td>\n",
       "    </tr>\n",
       "    <tr>\n",
       "      <th>3</th>\n",
       "      <td>4</td>\n",
       "      <td>2</td>\n",
       "      <td>lorichen</td>\n",
       "      <td>3</td>\n",
       "    </tr>\n",
       "    <tr>\n",
       "      <th>4</th>\n",
       "      <td>5</td>\n",
       "      <td>2</td>\n",
       "      <td>mariokeller</td>\n",
       "      <td>2</td>\n",
       "    </tr>\n",
       "    <tr>\n",
       "      <th>...</th>\n",
       "      <td>...</td>\n",
       "      <td>...</td>\n",
       "      <td>...</td>\n",
       "      <td>...</td>\n",
       "    </tr>\n",
       "    <tr>\n",
       "      <th>6451</th>\n",
       "      <td>6452</td>\n",
       "      <td>1000</td>\n",
       "      <td>carolrodriguez</td>\n",
       "      <td>4</td>\n",
       "    </tr>\n",
       "    <tr>\n",
       "      <th>6452</th>\n",
       "      <td>6453</td>\n",
       "      <td>1000</td>\n",
       "      <td>wendy18</td>\n",
       "      <td>4</td>\n",
       "    </tr>\n",
       "    <tr>\n",
       "      <th>6453</th>\n",
       "      <td>6454</td>\n",
       "      <td>1000</td>\n",
       "      <td>jarvispaul</td>\n",
       "      <td>5</td>\n",
       "    </tr>\n",
       "    <tr>\n",
       "      <th>6454</th>\n",
       "      <td>6455</td>\n",
       "      <td>1000</td>\n",
       "      <td>zross</td>\n",
       "      <td>2</td>\n",
       "    </tr>\n",
       "    <tr>\n",
       "      <th>6455</th>\n",
       "      <td>6456</td>\n",
       "      <td>1000</td>\n",
       "      <td>fharris</td>\n",
       "      <td>5</td>\n",
       "    </tr>\n",
       "  </tbody>\n",
       "</table>\n",
       "<p>6456 rows × 4 columns</p>\n",
       "</div>"
      ],
      "text/plain": [
       "      rating_id  book_id        username  rating\n",
       "0             1        1      ryanfranco       4\n",
       "1             2        1   grantpatricia       2\n",
       "2             3        1    brandtandrea       5\n",
       "3             4        2        lorichen       3\n",
       "4             5        2     mariokeller       2\n",
       "...         ...      ...             ...     ...\n",
       "6451       6452     1000  carolrodriguez       4\n",
       "6452       6453     1000         wendy18       4\n",
       "6453       6454     1000      jarvispaul       5\n",
       "6454       6455     1000           zross       2\n",
       "6455       6456     1000         fharris       5\n",
       "\n",
       "[6456 rows x 4 columns]"
      ]
     },
     "execution_count": 5,
     "metadata": {},
     "output_type": "execute_result"
    }
   ],
   "source": [
    "# Tabla ratings\n",
    "\n",
    "query_ratings = '''\n",
    "            SELECT * FROM ratings\n",
    "            \n",
    "            '''\n",
    "\n",
    "pd.io.sql.read_sql(query_ratings, con = engine)"
   ]
  },
  {
   "cell_type": "code",
   "execution_count": 6,
   "id": "78faa278",
   "metadata": {},
   "outputs": [
    {
     "data": {
      "application/vnd.microsoft.datawrangler.viewer.v0+json": {
       "columns": [
        {
         "name": "index",
         "rawType": "int64",
         "type": "integer"
        },
        {
         "name": "review_id",
         "rawType": "int64",
         "type": "integer"
        },
        {
         "name": "book_id",
         "rawType": "int64",
         "type": "integer"
        },
        {
         "name": "username",
         "rawType": "object",
         "type": "string"
        },
        {
         "name": "text",
         "rawType": "object",
         "type": "string"
        }
       ],
       "conversionMethod": "pd.DataFrame",
       "ref": "8a36f730-d7f3-42c4-bdfb-967b94aef3e7",
       "rows": [
        [
         "0",
         "1",
         "1",
         "brandtandrea",
         "Mention society tell send professor analysis. Over provide race technology continue these."
        ],
        [
         "1",
         "2",
         "1",
         "ryanfranco",
         "Foot glass pretty audience hit themselves. Among admit investment argue security."
        ],
        [
         "2",
         "3",
         "2",
         "lorichen",
         "Listen treat keep worry. Miss husband tax but person sport treatment industry. Kitchen decision deep the. Social party body the."
        ],
        [
         "3",
         "4",
         "3",
         "johnsonamanda",
         "Finally month interesting blue could nature cultural bit. Prepare beat finish grow that smile teach. Dream me play near."
        ],
        [
         "4",
         "5",
         "3",
         "scotttamara",
         "Nation purpose heavy give wait song will. List dinner another whole positive radio fast. Music staff many green."
        ],
        [
         "5",
         "6",
         "3",
         "lesliegibbs",
         "Analysis no several cause international."
        ],
        [
         "6",
         "7",
         "4",
         "valenciaanne",
         "One there cost another. Say type save. With personal where occur direction foot. Half sit role want."
        ],
        [
         "7",
         "8",
         "4",
         "abbottjames",
         "Within enough mother. There at system full recent play recognize."
        ],
        [
         "8",
         "9",
         "5",
         "npowers",
         "Thank now focus realize economy focus fly. Item step fine war. Western service history anything."
        ],
        [
         "9",
         "10",
         "5",
         "staylor",
         "Game push lot reduce where remember. Including song travel hair foot. Director always myself past story chance reason."
        ],
        [
         "10",
         "11",
         "5",
         "thomas49",
         "Their physical over rise. Couple doctor seven western. Word compare financial late."
        ],
        [
         "11",
         "12",
         "5",
         "znelson",
         "Explain individual record wonder we must turn memory. Southern culture recently day."
        ],
        [
         "12",
         "13",
         "6",
         "walter49",
         "Western anyone until executive. Add teach ago ten me firm brother. Include her which when role kitchen but father. Economic east record though above west."
        ],
        [
         "13",
         "14",
         "6",
         "jasongoodman",
         "Much responsibility feel fund media. Wind music property buy. Game real every bill four general."
        ],
        [
         "14",
         "15",
         "6",
         "eallen",
         "Money arm first above."
        ],
        [
         "15",
         "16",
         "6",
         "sfitzgerald",
         "Miss effort gun strong surface civil. Resource young behind teach."
        ],
        [
         "16",
         "17",
         "7",
         "carla64",
         "Poor have radio environment it reduce build. Senior institution these necessary may word. Talk admit popular street door shake professor."
        ],
        [
         "17",
         "18",
         "7",
         "kevin78",
         "Feel really serve quickly fight. Anyone daughter office remain. Rule I system tell mind talk everything."
        ],
        [
         "18",
         "19",
         "7",
         "robert56",
         "Energy doctor cup. Nice low room out other."
        ],
        [
         "19",
         "20",
         "8",
         "richard89",
         "Sister statement than reflect. Crime hot guess sometimes all walk else."
        ],
        [
         "20",
         "21",
         "8",
         "cassandra90",
         "Blue at simple ok project. Film old firm away."
        ],
        [
         "21",
         "22",
         "8",
         "williamsangela",
         "Organization record might. Various loss political front suffer safe."
        ],
        [
         "22",
         "23",
         "9",
         "williamsangela",
         "Plan doctor man admit news. Market thousand truth voice set why. Often several system read across scientist view to."
        ],
        [
         "23",
         "24",
         "9",
         "lesliegibbs",
         "This station bad edge rather perform. Senior indeed say. Worker factor wear see between together."
        ],
        [
         "24",
         "25",
         "10",
         "ehall",
         "Blue girl check. American fill social happy. Enjoy region Congress your ok. Region environmental set."
        ],
        [
         "25",
         "26",
         "10",
         "lharvey",
         "Finally son economy or partner will particularly. Process office star yard every."
        ],
        [
         "26",
         "27",
         "10",
         "tanya01",
         "Price care never key significant or. Artist voice time enjoy. Front population draw."
        ],
        [
         "27",
         "28",
         "11",
         "stacyfrost",
         "School inside order trade ever account. Me change total college worker whether method want. Eye great soon beyond collection billion eat. Final phone adult."
        ],
        [
         "28",
         "29",
         "11",
         "laura42",
         "Weight themselves wonder ten feel now. Husband meeting compare blood. Matter us agree improve spring likely each."
        ],
        [
         "29",
         "30",
         "11",
         "richard89",
         "Far visit rich describe. Heart blue generation he itself value."
        ],
        [
         "30",
         "31",
         "12",
         "ryanfranco",
         "Whether until picture factor court eye. Note director two kid for control five. Letter fine other alone shoulder tough party."
        ],
        [
         "31",
         "32",
         "12",
         "isaiahreyes",
         "Sense large serious piece. Recent phone window notice fast."
        ],
        [
         "32",
         "33",
         "12",
         "daniel19",
         "Source director once not fly once even. Fall century body cut thousand company. She democratic man age yourself."
        ],
        [
         "33",
         "34",
         "12",
         "amy97",
         "Safe individual both impact very yes wide allow. College nor wide nature buy second."
        ],
        [
         "34",
         "35",
         "13",
         "todd65",
         "Natural general husband least value. Receive particular shoulder. Rather although fight eat recently tax."
        ],
        [
         "35",
         "36",
         "13",
         "scotttamara",
         "From senior that long. Stand offer consider rule population traditional."
        ],
        [
         "36",
         "37",
         "14",
         "ulowe",
         "Eight without entire. Else own effort open city focus little manage."
        ],
        [
         "37",
         "38",
         "15",
         "patriciajohnson",
         "Movement window boy threat kid. Name and writer in card discover large."
        ],
        [
         "38",
         "39",
         "15",
         "martinyvonne",
         "Read myself recently few production name. Big central individual."
        ],
        [
         "39",
         "40",
         "15",
         "martinadam",
         "Deal fund decision management million black message American. Either whatever page hot bed. Through president model style country management loss late."
        ],
        [
         "40",
         "41",
         "15",
         "ncurry",
         "Message huge study network set. Television charge notice kitchen effort understand political."
        ],
        [
         "41",
         "42",
         "15",
         "nicole53",
         "End reach area sea tend reflect. Without range firm color responsibility into. Ever raise news challenge stuff seek smile matter."
        ],
        [
         "42",
         "43",
         "16",
         "ncurry",
         "Arrive world adult which practice. Measure any green will technology always."
        ],
        [
         "43",
         "44",
         "16",
         "abbottjames",
         "Traditional represent he method that. Term huge few southern source. When collection herself I. Daughter accept realize scientist behind focus."
        ],
        [
         "44",
         "45",
         "16",
         "kingandrew",
         "Hit crime mother human want plant. Officer his imagine. Watch serious skill fish."
        ],
        [
         "45",
         "46",
         "17",
         "wsingleton",
         "Environment imagine present simple part. Reflect happen sing minute different various author."
        ],
        [
         "46",
         "47",
         "17",
         "wknight",
         "Imagine project imagine beyond police represent sound let. Beat center newspaper usually. Yard contain site great approach."
        ],
        [
         "47",
         "48",
         "17",
         "kevin78",
         "Material whether offer product culture happen themselves. Half ahead bag approach most exist. Country their price realize."
        ],
        [
         "48",
         "49",
         "17",
         "dmiller",
         "Prevent community bit administration school information century. Traditional foot reveal officer class seek drive. Right leader us huge."
        ],
        [
         "49",
         "50",
         "18",
         "shafferrobert",
         "Feel lead employee it small minute. Republican exactly left be account offer improve."
        ]
       ],
       "shape": {
        "columns": 4,
        "rows": 2793
       }
      },
      "text/html": [
       "<div>\n",
       "<style scoped>\n",
       "    .dataframe tbody tr th:only-of-type {\n",
       "        vertical-align: middle;\n",
       "    }\n",
       "\n",
       "    .dataframe tbody tr th {\n",
       "        vertical-align: top;\n",
       "    }\n",
       "\n",
       "    .dataframe thead th {\n",
       "        text-align: right;\n",
       "    }\n",
       "</style>\n",
       "<table border=\"1\" class=\"dataframe\">\n",
       "  <thead>\n",
       "    <tr style=\"text-align: right;\">\n",
       "      <th></th>\n",
       "      <th>review_id</th>\n",
       "      <th>book_id</th>\n",
       "      <th>username</th>\n",
       "      <th>text</th>\n",
       "    </tr>\n",
       "  </thead>\n",
       "  <tbody>\n",
       "    <tr>\n",
       "      <th>0</th>\n",
       "      <td>1</td>\n",
       "      <td>1</td>\n",
       "      <td>brandtandrea</td>\n",
       "      <td>Mention society tell send professor analysis. ...</td>\n",
       "    </tr>\n",
       "    <tr>\n",
       "      <th>1</th>\n",
       "      <td>2</td>\n",
       "      <td>1</td>\n",
       "      <td>ryanfranco</td>\n",
       "      <td>Foot glass pretty audience hit themselves. Amo...</td>\n",
       "    </tr>\n",
       "    <tr>\n",
       "      <th>2</th>\n",
       "      <td>3</td>\n",
       "      <td>2</td>\n",
       "      <td>lorichen</td>\n",
       "      <td>Listen treat keep worry. Miss husband tax but ...</td>\n",
       "    </tr>\n",
       "    <tr>\n",
       "      <th>3</th>\n",
       "      <td>4</td>\n",
       "      <td>3</td>\n",
       "      <td>johnsonamanda</td>\n",
       "      <td>Finally month interesting blue could nature cu...</td>\n",
       "    </tr>\n",
       "    <tr>\n",
       "      <th>4</th>\n",
       "      <td>5</td>\n",
       "      <td>3</td>\n",
       "      <td>scotttamara</td>\n",
       "      <td>Nation purpose heavy give wait song will. List...</td>\n",
       "    </tr>\n",
       "    <tr>\n",
       "      <th>...</th>\n",
       "      <td>...</td>\n",
       "      <td>...</td>\n",
       "      <td>...</td>\n",
       "      <td>...</td>\n",
       "    </tr>\n",
       "    <tr>\n",
       "      <th>2788</th>\n",
       "      <td>2789</td>\n",
       "      <td>999</td>\n",
       "      <td>martinadam</td>\n",
       "      <td>Later hospital turn easy community. Fact same ...</td>\n",
       "    </tr>\n",
       "    <tr>\n",
       "      <th>2789</th>\n",
       "      <td>2790</td>\n",
       "      <td>1000</td>\n",
       "      <td>wknight</td>\n",
       "      <td>Change lose answer close pressure. Spend so now.</td>\n",
       "    </tr>\n",
       "    <tr>\n",
       "      <th>2790</th>\n",
       "      <td>2791</td>\n",
       "      <td>1000</td>\n",
       "      <td>carolrodriguez</td>\n",
       "      <td>Authority go who television entire hair guy po...</td>\n",
       "    </tr>\n",
       "    <tr>\n",
       "      <th>2791</th>\n",
       "      <td>2792</td>\n",
       "      <td>1000</td>\n",
       "      <td>wendy18</td>\n",
       "      <td>Or western offer wonder ask. More hear phone f...</td>\n",
       "    </tr>\n",
       "    <tr>\n",
       "      <th>2792</th>\n",
       "      <td>2793</td>\n",
       "      <td>1000</td>\n",
       "      <td>jarvispaul</td>\n",
       "      <td>Republican staff bit eat material measure plan...</td>\n",
       "    </tr>\n",
       "  </tbody>\n",
       "</table>\n",
       "<p>2793 rows × 4 columns</p>\n",
       "</div>"
      ],
      "text/plain": [
       "      review_id  book_id        username  \\\n",
       "0             1        1    brandtandrea   \n",
       "1             2        1      ryanfranco   \n",
       "2             3        2        lorichen   \n",
       "3             4        3   johnsonamanda   \n",
       "4             5        3     scotttamara   \n",
       "...         ...      ...             ...   \n",
       "2788       2789      999      martinadam   \n",
       "2789       2790     1000         wknight   \n",
       "2790       2791     1000  carolrodriguez   \n",
       "2791       2792     1000         wendy18   \n",
       "2792       2793     1000      jarvispaul   \n",
       "\n",
       "                                                   text  \n",
       "0     Mention society tell send professor analysis. ...  \n",
       "1     Foot glass pretty audience hit themselves. Amo...  \n",
       "2     Listen treat keep worry. Miss husband tax but ...  \n",
       "3     Finally month interesting blue could nature cu...  \n",
       "4     Nation purpose heavy give wait song will. List...  \n",
       "...                                                 ...  \n",
       "2788  Later hospital turn easy community. Fact same ...  \n",
       "2789   Change lose answer close pressure. Spend so now.  \n",
       "2790  Authority go who television entire hair guy po...  \n",
       "2791  Or western offer wonder ask. More hear phone f...  \n",
       "2792  Republican staff bit eat material measure plan...  \n",
       "\n",
       "[2793 rows x 4 columns]"
      ]
     },
     "execution_count": 6,
     "metadata": {},
     "output_type": "execute_result"
    }
   ],
   "source": [
    "# Tabla reviews\n",
    "\n",
    "query_reviews = '''\n",
    "                SELECT * FROM reviews\n",
    "\n",
    "            '''\n",
    "\n",
    "pd.io.sql.read_sql(query_reviews, con = engine)"
   ]
  },
  {
   "cell_type": "code",
   "execution_count": 7,
   "id": "4f6895d8",
   "metadata": {},
   "outputs": [
    {
     "data": {
      "application/vnd.microsoft.datawrangler.viewer.v0+json": {
       "columns": [
        {
         "name": "index",
         "rawType": "int64",
         "type": "integer"
        },
        {
         "name": "publisher_id",
         "rawType": "int64",
         "type": "integer"
        },
        {
         "name": "publisher",
         "rawType": "object",
         "type": "string"
        }
       ],
       "conversionMethod": "pd.DataFrame",
       "ref": "c34f79da-ac72-4777-baa1-de7682280d0c",
       "rows": [
        [
         "0",
         "1",
         "Ace"
        ],
        [
         "1",
         "2",
         "Ace Book"
        ],
        [
         "2",
         "3",
         "Ace Books"
        ],
        [
         "3",
         "4",
         "Ace Hardcover"
        ],
        [
         "4",
         "5",
         "Addison Wesley Publishing Company"
        ],
        [
         "5",
         "6",
         "Aladdin"
        ],
        [
         "6",
         "7",
         "Aladdin Paperbacks"
        ],
        [
         "7",
         "8",
         "Albin Michel"
        ],
        [
         "8",
         "9",
         "Alfred A. Knopf"
        ],
        [
         "9",
         "10",
         "Alfred A. Knopf Books for Young Readers"
        ],
        [
         "10",
         "11",
         "Alfred A. Knopf Borzoi Books"
        ],
        [
         "11",
         "12",
         "Algonquin Books"
        ],
        [
         "12",
         "13",
         "Allen & Ulwin"
        ],
        [
         "13",
         "14",
         "Amistad"
        ],
        [
         "14",
         "15",
         "Anchor"
        ],
        [
         "15",
         "16",
         "Anchor Books"
        ],
        [
         "16",
         "17",
         "Anchor Books/Knopf Doubleday Publishing Group"
        ],
        [
         "17",
         "18",
         "Andrews McMeel Publishing"
        ],
        [
         "18",
         "19",
         "Applewood Books"
        ],
        [
         "19",
         "20",
         "Arrow"
        ],
        [
         "20",
         "21",
         "Arrow Books"
        ],
        [
         "21",
         "22",
         "Arrow Books Ltd"
        ],
        [
         "22",
         "23",
         "Arthur A. Levine Books"
        ],
        [
         "23",
         "24",
         "Arthur A. Levine Books / Scholastic Inc."
        ],
        [
         "24",
         "25",
         "Atheneum Books for Young Readers"
        ],
        [
         "25",
         "26",
         "Atheneum Books for Young Readers: Richard Jackson Books"
        ],
        [
         "26",
         "27",
         "Atria Books"
        ],
        [
         "27",
         "28",
         "Avon"
        ],
        [
         "28",
         "29",
         "Avon Books"
        ],
        [
         "29",
         "30",
         "BALLANTINE BOOKS"
        ],
        [
         "30",
         "31",
         "Back Bay Books"
        ],
        [
         "31",
         "32",
         "Baen Books"
        ],
        [
         "32",
         "33",
         "Ballantine Books"
        ],
        [
         "33",
         "34",
         "Ballantine Books (NY)"
        ],
        [
         "34",
         "35",
         "Bantam"
        ],
        [
         "35",
         "36",
         "Bantam Books"
        ],
        [
         "36",
         "37",
         "Bantam Books  Inc."
        ],
        [
         "37",
         "38",
         "Bantam Classics"
        ],
        [
         "38",
         "39",
         "Bantam Doubleday Dell (NYC)"
        ],
        [
         "39",
         "40",
         "Bantam Spectra"
        ],
        [
         "40",
         "41",
         "Bantem Press"
        ],
        [
         "41",
         "42",
         "Barnes  Noble Classics"
        ],
        [
         "42",
         "43",
         "Barnes & Noble"
        ],
        [
         "43",
         "44",
         "Beacon Press"
        ],
        [
         "44",
         "45",
         "Berkley"
        ],
        [
         "45",
         "46",
         "Berkley Books"
        ],
        [
         "46",
         "47",
         "Berkley Hardcover"
        ],
        [
         "47",
         "48",
         "Berkley Publishing Group"
        ],
        [
         "48",
         "49",
         "Black Dog & Leventhal"
        ],
        [
         "49",
         "50",
         "Black Dog & Leventhal Publishers"
        ]
       ],
       "shape": {
        "columns": 2,
        "rows": 340
       }
      },
      "text/html": [
       "<div>\n",
       "<style scoped>\n",
       "    .dataframe tbody tr th:only-of-type {\n",
       "        vertical-align: middle;\n",
       "    }\n",
       "\n",
       "    .dataframe tbody tr th {\n",
       "        vertical-align: top;\n",
       "    }\n",
       "\n",
       "    .dataframe thead th {\n",
       "        text-align: right;\n",
       "    }\n",
       "</style>\n",
       "<table border=\"1\" class=\"dataframe\">\n",
       "  <thead>\n",
       "    <tr style=\"text-align: right;\">\n",
       "      <th></th>\n",
       "      <th>publisher_id</th>\n",
       "      <th>publisher</th>\n",
       "    </tr>\n",
       "  </thead>\n",
       "  <tbody>\n",
       "    <tr>\n",
       "      <th>0</th>\n",
       "      <td>1</td>\n",
       "      <td>Ace</td>\n",
       "    </tr>\n",
       "    <tr>\n",
       "      <th>1</th>\n",
       "      <td>2</td>\n",
       "      <td>Ace Book</td>\n",
       "    </tr>\n",
       "    <tr>\n",
       "      <th>2</th>\n",
       "      <td>3</td>\n",
       "      <td>Ace Books</td>\n",
       "    </tr>\n",
       "    <tr>\n",
       "      <th>3</th>\n",
       "      <td>4</td>\n",
       "      <td>Ace Hardcover</td>\n",
       "    </tr>\n",
       "    <tr>\n",
       "      <th>4</th>\n",
       "      <td>5</td>\n",
       "      <td>Addison Wesley Publishing Company</td>\n",
       "    </tr>\n",
       "    <tr>\n",
       "      <th>...</th>\n",
       "      <td>...</td>\n",
       "      <td>...</td>\n",
       "    </tr>\n",
       "    <tr>\n",
       "      <th>335</th>\n",
       "      <td>336</td>\n",
       "      <td>Workman Publishing Company</td>\n",
       "    </tr>\n",
       "    <tr>\n",
       "      <th>336</th>\n",
       "      <td>337</td>\n",
       "      <td>Wyatt Book</td>\n",
       "    </tr>\n",
       "    <tr>\n",
       "      <th>337</th>\n",
       "      <td>338</td>\n",
       "      <td>Yale University Press</td>\n",
       "    </tr>\n",
       "    <tr>\n",
       "      <th>338</th>\n",
       "      <td>339</td>\n",
       "      <td>Yearling</td>\n",
       "    </tr>\n",
       "    <tr>\n",
       "      <th>339</th>\n",
       "      <td>340</td>\n",
       "      <td>Yearling Books</td>\n",
       "    </tr>\n",
       "  </tbody>\n",
       "</table>\n",
       "<p>340 rows × 2 columns</p>\n",
       "</div>"
      ],
      "text/plain": [
       "     publisher_id                          publisher\n",
       "0               1                                Ace\n",
       "1               2                           Ace Book\n",
       "2               3                          Ace Books\n",
       "3               4                      Ace Hardcover\n",
       "4               5  Addison Wesley Publishing Company\n",
       "..            ...                                ...\n",
       "335           336         Workman Publishing Company\n",
       "336           337                         Wyatt Book\n",
       "337           338              Yale University Press\n",
       "338           339                           Yearling\n",
       "339           340                     Yearling Books\n",
       "\n",
       "[340 rows x 2 columns]"
      ]
     },
     "execution_count": 7,
     "metadata": {},
     "output_type": "execute_result"
    }
   ],
   "source": [
    "# Tabla publishers\n",
    "\n",
    "query_publishers = ''' \n",
    "                    SELECT * FROM publishers\n",
    "\n",
    "\n",
    "                '''\n",
    "\n",
    "pd.io.sql.read_sql(query_publishers, con = engine)"
   ]
  },
  {
   "cell_type": "markdown",
   "id": "83102d9c",
   "metadata": {},
   "source": [
    "## Ejercicio 1"
   ]
  },
  {
   "cell_type": "markdown",
   "id": "368ceefa",
   "metadata": {},
   "source": [
    "- Encuentra el número de libros publicados después del 1 de enero de 2000."
   ]
  },
  {
   "cell_type": "code",
   "execution_count": 8,
   "id": "d837ec3c",
   "metadata": {},
   "outputs": [
    {
     "data": {
      "application/vnd.microsoft.datawrangler.viewer.v0+json": {
       "columns": [
        {
         "name": "index",
         "rawType": "int64",
         "type": "integer"
        },
        {
         "name": "book_count",
         "rawType": "int64",
         "type": "integer"
        }
       ],
       "conversionMethod": "pd.DataFrame",
       "ref": "72b9cd1b-ed07-4782-8915-bb9218ee8cde",
       "rows": [
        [
         "0",
         "819"
        ]
       ],
       "shape": {
        "columns": 1,
        "rows": 1
       }
      },
      "text/html": [
       "<div>\n",
       "<style scoped>\n",
       "    .dataframe tbody tr th:only-of-type {\n",
       "        vertical-align: middle;\n",
       "    }\n",
       "\n",
       "    .dataframe tbody tr th {\n",
       "        vertical-align: top;\n",
       "    }\n",
       "\n",
       "    .dataframe thead th {\n",
       "        text-align: right;\n",
       "    }\n",
       "</style>\n",
       "<table border=\"1\" class=\"dataframe\">\n",
       "  <thead>\n",
       "    <tr style=\"text-align: right;\">\n",
       "      <th></th>\n",
       "      <th>book_count</th>\n",
       "    </tr>\n",
       "  </thead>\n",
       "  <tbody>\n",
       "    <tr>\n",
       "      <th>0</th>\n",
       "      <td>819</td>\n",
       "    </tr>\n",
       "  </tbody>\n",
       "</table>\n",
       "</div>"
      ],
      "text/plain": [
       "   book_count\n",
       "0         819"
      ]
     },
     "execution_count": 8,
     "metadata": {},
     "output_type": "execute_result"
    }
   ],
   "source": [
    "query1 = '''\n",
    "        SELECT\n",
    "            COUNT(book_id) AS book_count\n",
    "        FROM\n",
    "            books\n",
    "        WHERE\n",
    "            publication_date::DATE > '2000-01-01'\n",
    "'''\n",
    "\n",
    "pd.io.sql.read_sql(query1, con = engine)"
   ]
  },
  {
   "cell_type": "markdown",
   "id": "ca604c0c",
   "metadata": {},
   "source": [
    "    - Tenemos 819 libros publicados después del 01 de enero de 2000"
   ]
  },
  {
   "cell_type": "markdown",
   "id": "98a9d0c2",
   "metadata": {},
   "source": [
    "## Ejercicio 2"
   ]
  },
  {
   "cell_type": "markdown",
   "id": "23ff8fcd",
   "metadata": {},
   "source": [
    "- Encuentra el número de reseñas de usuarios y la calificación promedio para cada libro."
   ]
  },
  {
   "cell_type": "code",
   "execution_count": 9,
   "id": "9ad9c9b6",
   "metadata": {},
   "outputs": [
    {
     "data": {
      "application/vnd.microsoft.datawrangler.viewer.v0+json": {
       "columns": [
        {
         "name": "index",
         "rawType": "int64",
         "type": "integer"
        },
        {
         "name": "book_id",
         "rawType": "int64",
         "type": "integer"
        },
        {
         "name": "title",
         "rawType": "object",
         "type": "string"
        },
        {
         "name": "review_count",
         "rawType": "float64",
         "type": "float"
        },
        {
         "name": "mean_rating",
         "rawType": "float64",
         "type": "float"
        }
       ],
       "conversionMethod": "pd.DataFrame",
       "ref": "45d5a092-c85e-4974-b736-228f8cba5545",
       "rows": [
        [
         "0",
         "652",
         "The Body in the Library (Miss Marple  #3)",
         "2.0",
         "4.5"
        ],
        [
         "1",
         "273",
         "Galápagos",
         "2.0",
         "4.5"
        ],
        [
         "2",
         "51",
         "A Tree Grows in Brooklyn",
         "5.0",
         "4.25"
        ],
        [
         "3",
         "951",
         "Undaunted Courage: The Pioneering First Mission to Explore America's Wild Frontier",
         "2.0",
         "4.0"
        ],
        [
         "4",
         "839",
         "The Prophet",
         "4.0",
         "4.285714285714286"
        ],
        [
         "5",
         "70",
         "American Gods (American Gods  #1)",
         "5.0",
         "4.0"
        ],
        [
         "6",
         "350",
         "Influence: The Psychology of Persuasion",
         "3.0",
         "4.333333333333333"
        ],
        [
         "7",
         "758",
         "The Idiot",
         "3.0",
         "4.25"
        ],
        [
         "8",
         "539",
         "Rebecca",
         "4.0",
         "4.0"
        ],
        [
         "9",
         "874",
         "The Source",
         "2.0",
         "3.5"
        ],
        [
         "10",
         "278",
         "Ghost Story",
         "2.0",
         "2.6666666666666665"
        ],
        [
         "11",
         "946",
         "Twenty Love Poems and a Song of Despair",
         "2.0",
         "4.5"
        ],
        [
         "12",
         "176",
         "Danny the Champion of the World",
         "2.0",
         "4.0"
        ],
        [
         "13",
         "576",
         "Slapstick  or Lonesome No More!",
         "2.0",
         "3.0"
        ],
        [
         "14",
         "292",
         "Half of a Yellow Sun",
         "3.0",
         "3.3333333333333335"
        ],
        [
         "15",
         "929",
         "Thunderstruck",
         "2.0",
         "2.5"
        ],
        [
         "16",
         "663",
         "The Brethren",
         "2.0",
         "4.0"
        ],
        [
         "17",
         "770",
         "The King of Torts",
         "3.0",
         "4.0"
        ],
        [
         "18",
         "271",
         "Fun Home: A Family Tragicomic",
         "2.0",
         "4.0"
        ],
        [
         "19",
         "22",
         "A Great and Terrible Beauty (Gemma Doyle #1)",
         "4.0",
         "3.2857142857142856"
        ],
        [
         "20",
         "417",
         "Man's Search for Meaning",
         "5.0",
         "4.0"
        ],
        [
         "21",
         "764",
         "The Island of Doctor Moreau",
         "3.0",
         "4.0"
        ],
        [
         "22",
         "556",
         "Second Foundation (Foundation #3)",
         "3.0",
         "4.0"
        ],
        [
         "23",
         "529",
         "Queen of Babble (Queen of Babble  #1)",
         "3.0",
         "4.0"
        ],
        [
         "24",
         "638",
         "The Bachman Books",
         "1.0",
         "3.3333333333333335"
        ],
        [
         "25",
         "791",
         "The Magus",
         "2.0",
         "4.0"
        ],
        [
         "26",
         "775",
         "The Last of the Mohicans (The Leatherstocking Tales #2)",
         "3.0",
         "4.0"
        ],
        [
         "27",
         "940",
         "True Believer (Jeremy Marsh & Lexie Darnell  #1)",
         "3.0",
         "4.333333333333333"
        ],
        [
         "28",
         "390",
         "Light in August",
         "2.0",
         "5.0"
        ],
        [
         "29",
         "173",
         "Cursor's Fury (Codex Alera  #3)",
         "2.0",
         "4.5"
        ],
        [
         "30",
         "42",
         "A Princess of Mars (Barsoom  #1)",
         "2.0",
         "4.5"
        ],
        [
         "31",
         "189",
         "Different Seasons",
         "3.0",
         "3.2"
        ],
        [
         "32",
         "876",
         "The Stranger Beside Me: Ted Bundy: The Shocking Inside Story",
         "2.0",
         "3.0"
        ],
        [
         "33",
         "161",
         "Consider the Lobster and Other Essays",
         "2.0",
         "3.0"
        ],
        [
         "34",
         "113",
         "Blink: The Power of Thinking Without Thinking",
         "5.0",
         "3.875"
        ],
        [
         "35",
         "632",
         "The Andromeda Strain (Andromeda  #1)",
         "3.0",
         "3.625"
        ],
        [
         "36",
         "658",
         "The Book of Three (The Chronicles of Prydain  #1)",
         "3.0",
         "3.6666666666666665"
        ],
        [
         "37",
         "120",
         "Body Double (Rizzoli & Isles  #4)",
         "2.0",
         "4.0"
        ],
        [
         "38",
         "802",
         "The Moon is a Harsh Mistress",
         "3.0",
         "3.75"
        ],
        [
         "39",
         "578",
         "Small Gods (Discworld  #13)",
         "3.0",
         "4.0"
        ],
        [
         "40",
         "815",
         "The Once and Future King (The Once and Future King  #1-4)",
         "3.0",
         "4.666666666666667"
        ],
        [
         "41",
         "695",
         "The Curious Incident of the Dog in the Night-Time",
         "6.0",
         "4.081081081081081"
        ],
        [
         "42",
         "440",
         "Misery",
         "4.0",
         "4.066666666666666"
        ],
        [
         "43",
         "794",
         "The Mermaid Chair",
         "3.0",
         "2.3333333333333335"
        ],
        [
         "44",
         "57",
         "Act of Treason (Mitch Rapp  #9)",
         "2.0",
         "5.0"
        ],
        [
         "45",
         "19",
         "A Fine Balance",
         "4.0",
         "4.0"
        ],
        [
         "46",
         "160",
         "Congo",
         "2.0",
         "3.6666666666666665"
        ],
        [
         "47",
         "644",
         "The Birth of Venus",
         "3.0",
         "3.25"
        ],
        [
         "48",
         "824",
         "The Picture of Dorian Gray",
         "5.0",
         "4.0"
        ],
        [
         "49",
         "508",
         "Peter and the Shadow Thieves (Peter and the Starcatchers  #2)",
         "2.0",
         "4.0"
        ]
       ],
       "shape": {
        "columns": 4,
        "rows": 1000
       }
      },
      "text/html": [
       "<div>\n",
       "<style scoped>\n",
       "    .dataframe tbody tr th:only-of-type {\n",
       "        vertical-align: middle;\n",
       "    }\n",
       "\n",
       "    .dataframe tbody tr th {\n",
       "        vertical-align: top;\n",
       "    }\n",
       "\n",
       "    .dataframe thead th {\n",
       "        text-align: right;\n",
       "    }\n",
       "</style>\n",
       "<table border=\"1\" class=\"dataframe\">\n",
       "  <thead>\n",
       "    <tr style=\"text-align: right;\">\n",
       "      <th></th>\n",
       "      <th>book_id</th>\n",
       "      <th>title</th>\n",
       "      <th>review_count</th>\n",
       "      <th>mean_rating</th>\n",
       "    </tr>\n",
       "  </thead>\n",
       "  <tbody>\n",
       "    <tr>\n",
       "      <th>0</th>\n",
       "      <td>652</td>\n",
       "      <td>The Body in the Library (Miss Marple  #3)</td>\n",
       "      <td>2.0</td>\n",
       "      <td>4.500000</td>\n",
       "    </tr>\n",
       "    <tr>\n",
       "      <th>1</th>\n",
       "      <td>273</td>\n",
       "      <td>Galápagos</td>\n",
       "      <td>2.0</td>\n",
       "      <td>4.500000</td>\n",
       "    </tr>\n",
       "    <tr>\n",
       "      <th>2</th>\n",
       "      <td>51</td>\n",
       "      <td>A Tree Grows in Brooklyn</td>\n",
       "      <td>5.0</td>\n",
       "      <td>4.250000</td>\n",
       "    </tr>\n",
       "    <tr>\n",
       "      <th>3</th>\n",
       "      <td>951</td>\n",
       "      <td>Undaunted Courage: The Pioneering First Missio...</td>\n",
       "      <td>2.0</td>\n",
       "      <td>4.000000</td>\n",
       "    </tr>\n",
       "    <tr>\n",
       "      <th>4</th>\n",
       "      <td>839</td>\n",
       "      <td>The Prophet</td>\n",
       "      <td>4.0</td>\n",
       "      <td>4.285714</td>\n",
       "    </tr>\n",
       "    <tr>\n",
       "      <th>...</th>\n",
       "      <td>...</td>\n",
       "      <td>...</td>\n",
       "      <td>...</td>\n",
       "      <td>...</td>\n",
       "    </tr>\n",
       "    <tr>\n",
       "      <th>995</th>\n",
       "      <td>64</td>\n",
       "      <td>Alice in Wonderland</td>\n",
       "      <td>4.0</td>\n",
       "      <td>4.230769</td>\n",
       "    </tr>\n",
       "    <tr>\n",
       "      <th>996</th>\n",
       "      <td>55</td>\n",
       "      <td>A Woman of Substance (Emma Harte Saga #1)</td>\n",
       "      <td>2.0</td>\n",
       "      <td>5.000000</td>\n",
       "    </tr>\n",
       "    <tr>\n",
       "      <th>997</th>\n",
       "      <td>148</td>\n",
       "      <td>Christine</td>\n",
       "      <td>3.0</td>\n",
       "      <td>3.428571</td>\n",
       "    </tr>\n",
       "    <tr>\n",
       "      <th>998</th>\n",
       "      <td>790</td>\n",
       "      <td>The Magicians' Guild (Black Magician Trilogy  #1)</td>\n",
       "      <td>2.0</td>\n",
       "      <td>3.500000</td>\n",
       "    </tr>\n",
       "    <tr>\n",
       "      <th>999</th>\n",
       "      <td>828</td>\n",
       "      <td>The Plot Against America</td>\n",
       "      <td>2.0</td>\n",
       "      <td>3.000000</td>\n",
       "    </tr>\n",
       "  </tbody>\n",
       "</table>\n",
       "<p>1000 rows × 4 columns</p>\n",
       "</div>"
      ],
      "text/plain": [
       "     book_id                                              title  review_count  \\\n",
       "0        652          The Body in the Library (Miss Marple  #3)           2.0   \n",
       "1        273                                          Galápagos           2.0   \n",
       "2         51                           A Tree Grows in Brooklyn           5.0   \n",
       "3        951  Undaunted Courage: The Pioneering First Missio...           2.0   \n",
       "4        839                                        The Prophet           4.0   \n",
       "..       ...                                                ...           ...   \n",
       "995       64                                Alice in Wonderland           4.0   \n",
       "996       55          A Woman of Substance (Emma Harte Saga #1)           2.0   \n",
       "997      148                                          Christine           3.0   \n",
       "998      790  The Magicians' Guild (Black Magician Trilogy  #1)           2.0   \n",
       "999      828                           The Plot Against America           2.0   \n",
       "\n",
       "     mean_rating  \n",
       "0       4.500000  \n",
       "1       4.500000  \n",
       "2       4.250000  \n",
       "3       4.000000  \n",
       "4       4.285714  \n",
       "..           ...  \n",
       "995     4.230769  \n",
       "996     5.000000  \n",
       "997     3.428571  \n",
       "998     3.500000  \n",
       "999     3.000000  \n",
       "\n",
       "[1000 rows x 4 columns]"
      ]
     },
     "execution_count": 9,
     "metadata": {},
     "output_type": "execute_result"
    }
   ],
   "source": [
    "query2 = '''\n",
    "        SELECT\n",
    "            b.book_id,\n",
    "            b.title,\n",
    "            r.review_count,\n",
    "            rt.mean_rating\n",
    "        FROM\n",
    "            books b\n",
    "        LEFT JOIN (\n",
    "            SELECT book_id, COUNT(text) AS review_count\n",
    "            FROM reviews\n",
    "            GROUP BY book_id\n",
    "        ) r ON b.book_id = r.book_id\n",
    "        LEFT JOIN (\n",
    "            SELECT book_id, AVG(rating) AS mean_rating\n",
    "            FROM ratings\n",
    "            GROUP BY book_id\n",
    "        ) rt ON b.book_id = rt.book_id\n",
    "\n",
    "'''\n",
    "\n",
    "pd.io.sql.read_sql(query2, con = engine)"
   ]
  },
  {
   "cell_type": "markdown",
   "id": "f69f0c5e",
   "metadata": {},
   "source": [
    "## Ejercicio 3"
   ]
  },
  {
   "cell_type": "markdown",
   "id": "68f503e0",
   "metadata": {},
   "source": [
    "- Identifica la editorial que ha publicado el mayor número de libros con más de 50 páginas (esto te ayudará a excluir folletos y publicaciones similares de tu análisis)."
   ]
  },
  {
   "cell_type": "code",
   "execution_count": 10,
   "id": "ab1fb6c4",
   "metadata": {},
   "outputs": [
    {
     "data": {
      "application/vnd.microsoft.datawrangler.viewer.v0+json": {
       "columns": [
        {
         "name": "index",
         "rawType": "int64",
         "type": "integer"
        },
        {
         "name": "publisher_id",
         "rawType": "int64",
         "type": "integer"
        },
        {
         "name": "publisher",
         "rawType": "object",
         "type": "string"
        },
        {
         "name": "book_count",
         "rawType": "int64",
         "type": "integer"
        }
       ],
       "conversionMethod": "pd.DataFrame",
       "ref": "108f8677-d5a5-479f-9d38-86f40cf09f54",
       "rows": [
        [
         "0",
         "212",
         "Penguin Books",
         "42"
        ],
        [
         "1",
         "309",
         "Vintage",
         "31"
        ],
        [
         "2",
         "116",
         "Grand Central Publishing",
         "25"
        ],
        [
         "3",
         "217",
         "Penguin Classics",
         "24"
        ],
        [
         "4",
         "33",
         "Ballantine Books",
         "19"
        ],
        [
         "5",
         "35",
         "Bantam",
         "19"
        ],
        [
         "6",
         "45",
         "Berkley",
         "17"
        ],
        [
         "7",
         "284",
         "St. Martin's Press",
         "14"
        ],
        [
         "8",
         "46",
         "Berkley Books",
         "14"
        ],
        [
         "9",
         "333",
         "William Morrow Paperbacks",
         "13"
        ],
        [
         "10",
         "83",
         "Delta",
         "13"
        ],
        [
         "11",
         "133",
         "HarperCollins",
         "12"
        ],
        [
         "12",
         "176",
         "Little  Brown and Company",
         "12"
        ],
        [
         "13",
         "129",
         "Harper Perennial",
         "12"
        ],
        [
         "14",
         "297",
         "Tor Books",
         "11"
        ],
        [
         "15",
         "31",
         "Back Bay Books",
         "11"
        ],
        [
         "16",
         "265",
         "Signet",
         "10"
        ],
        [
         "17",
         "178",
         "Mariner Books",
         "10"
        ],
        [
         "18",
         "229",
         "Pocket Books",
         "10"
        ],
        [
         "19",
         "143",
         "HarperTorch",
         "10"
        ],
        [
         "20",
         "210",
         "Penguin",
         "10"
        ],
        [
         "21",
         "305",
         "Vertigo",
         "10"
        ],
        [
         "22",
         "268",
         "Simon  Schuster",
         "9"
        ],
        [
         "23",
         "274",
         "Simon Pulse",
         "9"
        ],
        [
         "24",
         "16",
         "Anchor Books",
         "9"
        ],
        [
         "25",
         "15",
         "Anchor",
         "9"
        ],
        [
         "26",
         "329",
         "Washington Square Press",
         "9"
        ],
        [
         "27",
         "183",
         "Modern Library",
         "9"
        ],
        [
         "28",
         "243",
         "Random House Trade Paperbacks",
         "9"
        ],
        [
         "29",
         "82",
         "Dell Publishing Company",
         "8"
        ],
        [
         "30",
         "88",
         "Dial Press",
         "7"
        ],
        [
         "31",
         "258",
         "Scribner",
         "7"
        ],
        [
         "32",
         "144",
         "HarperTrophy",
         "7"
        ],
        [
         "33",
         "235",
         "Puffin Books",
         "7"
        ],
        [
         "34",
         "326",
         "Warner Books",
         "7"
        ],
        [
         "35",
         "96",
         "Dover Publications",
         "6"
        ],
        [
         "36",
         "130",
         "Harper Perennial Modern Classics",
         "6"
        ],
        [
         "37",
         "122",
         "Hachette Books",
         "6"
        ],
        [
         "38",
         "279",
         "Spectra",
         "6"
        ],
        [
         "39",
         "223",
         "Picador USA",
         "6"
        ],
        [
         "40",
         "237",
         "Random House",
         "6"
        ],
        [
         "41",
         "226",
         "Plume",
         "6"
        ],
        [
         "42",
         "50",
         "Black Dog & Leventhal Publishers",
         "6"
        ],
        [
         "43",
         "267",
         "Signet Classics",
         "6"
        ],
        [
         "44",
         "56",
         "Broadway Books",
         "6"
        ],
        [
         "45",
         "186",
         "NAL",
         "5"
        ],
        [
         "46",
         "135",
         "HarperCollins Publishers",
         "5"
        ],
        [
         "47",
         "203",
         "Oxford University Press",
         "5"
        ],
        [
         "48",
         "331",
         "William Morrow",
         "5"
        ],
        [
         "49",
         "315",
         "Vintage International",
         "5"
        ]
       ],
       "shape": {
        "columns": 3,
        "rows": 334
       }
      },
      "text/html": [
       "<div>\n",
       "<style scoped>\n",
       "    .dataframe tbody tr th:only-of-type {\n",
       "        vertical-align: middle;\n",
       "    }\n",
       "\n",
       "    .dataframe tbody tr th {\n",
       "        vertical-align: top;\n",
       "    }\n",
       "\n",
       "    .dataframe thead th {\n",
       "        text-align: right;\n",
       "    }\n",
       "</style>\n",
       "<table border=\"1\" class=\"dataframe\">\n",
       "  <thead>\n",
       "    <tr style=\"text-align: right;\">\n",
       "      <th></th>\n",
       "      <th>publisher_id</th>\n",
       "      <th>publisher</th>\n",
       "      <th>book_count</th>\n",
       "    </tr>\n",
       "  </thead>\n",
       "  <tbody>\n",
       "    <tr>\n",
       "      <th>0</th>\n",
       "      <td>212</td>\n",
       "      <td>Penguin Books</td>\n",
       "      <td>42</td>\n",
       "    </tr>\n",
       "    <tr>\n",
       "      <th>1</th>\n",
       "      <td>309</td>\n",
       "      <td>Vintage</td>\n",
       "      <td>31</td>\n",
       "    </tr>\n",
       "    <tr>\n",
       "      <th>2</th>\n",
       "      <td>116</td>\n",
       "      <td>Grand Central Publishing</td>\n",
       "      <td>25</td>\n",
       "    </tr>\n",
       "    <tr>\n",
       "      <th>3</th>\n",
       "      <td>217</td>\n",
       "      <td>Penguin Classics</td>\n",
       "      <td>24</td>\n",
       "    </tr>\n",
       "    <tr>\n",
       "      <th>4</th>\n",
       "      <td>33</td>\n",
       "      <td>Ballantine Books</td>\n",
       "      <td>19</td>\n",
       "    </tr>\n",
       "    <tr>\n",
       "      <th>...</th>\n",
       "      <td>...</td>\n",
       "      <td>...</td>\n",
       "      <td>...</td>\n",
       "    </tr>\n",
       "    <tr>\n",
       "      <th>329</th>\n",
       "      <td>148</td>\n",
       "      <td>Harvard Business Review Press</td>\n",
       "      <td>1</td>\n",
       "    </tr>\n",
       "    <tr>\n",
       "      <th>330</th>\n",
       "      <td>302</td>\n",
       "      <td>Tyndale House Publishers</td>\n",
       "      <td>1</td>\n",
       "    </tr>\n",
       "    <tr>\n",
       "      <th>331</th>\n",
       "      <td>66</td>\n",
       "      <td>Corgi Childrens</td>\n",
       "      <td>1</td>\n",
       "    </tr>\n",
       "    <tr>\n",
       "      <th>332</th>\n",
       "      <td>230</td>\n",
       "      <td>Pocket Books / Simon &amp; Schuster  Inc.</td>\n",
       "      <td>1</td>\n",
       "    </tr>\n",
       "    <tr>\n",
       "      <th>333</th>\n",
       "      <td>199</td>\n",
       "      <td>Orchard Books</td>\n",
       "      <td>1</td>\n",
       "    </tr>\n",
       "  </tbody>\n",
       "</table>\n",
       "<p>334 rows × 3 columns</p>\n",
       "</div>"
      ],
      "text/plain": [
       "     publisher_id                              publisher  book_count\n",
       "0             212                          Penguin Books          42\n",
       "1             309                                Vintage          31\n",
       "2             116               Grand Central Publishing          25\n",
       "3             217                       Penguin Classics          24\n",
       "4              33                       Ballantine Books          19\n",
       "..            ...                                    ...         ...\n",
       "329           148          Harvard Business Review Press           1\n",
       "330           302               Tyndale House Publishers           1\n",
       "331            66                        Corgi Childrens           1\n",
       "332           230  Pocket Books / Simon & Schuster  Inc.           1\n",
       "333           199                          Orchard Books           1\n",
       "\n",
       "[334 rows x 3 columns]"
      ]
     },
     "execution_count": 10,
     "metadata": {},
     "output_type": "execute_result"
    }
   ],
   "source": [
    "query3 = '''  \n",
    "        SELECT\n",
    "            b.publisher_id,\n",
    "            p.publisher,\n",
    "            COUNT(b.book_id) as book_count\n",
    "        FROM\n",
    "            books b\n",
    "        LEFT JOIN publishers p ON b.publisher_id = p.publisher_id\n",
    "        WHERE \n",
    "            b.num_pages > 50\n",
    "        GROUP BY\n",
    "            b.publisher_id, p.publisher\n",
    "        ORDER BY\n",
    "            book_count DESC\n",
    "\n",
    "'''\n",
    "\n",
    "pd.io.sql.read_sql(query3, con=engine)"
   ]
  },
  {
   "cell_type": "markdown",
   "id": "1324fa70",
   "metadata": {},
   "source": [
    "    - Penguin Books se lleva el trono en publicación de libros"
   ]
  },
  {
   "cell_type": "markdown",
   "id": "d7698d92",
   "metadata": {},
   "source": [
    "## Ejercicio 4"
   ]
  },
  {
   "cell_type": "markdown",
   "id": "f5fdc245",
   "metadata": {},
   "source": [
    "- Identifica al autor que tiene la más alta calificación promedio del libro: mira solo los libros con al menos 50 calificaciones."
   ]
  },
  {
   "cell_type": "code",
   "execution_count": 11,
   "id": "0494a43b",
   "metadata": {},
   "outputs": [
    {
     "data": {
      "application/vnd.microsoft.datawrangler.viewer.v0+json": {
       "columns": [
        {
         "name": "index",
         "rawType": "int64",
         "type": "integer"
        },
        {
         "name": "author",
         "rawType": "object",
         "type": "string"
        },
        {
         "name": "title",
         "rawType": "object",
         "type": "string"
        },
        {
         "name": "rating_count",
         "rawType": "int64",
         "type": "integer"
        },
        {
         "name": "avg_rating",
         "rawType": "float64",
         "type": "float"
        }
       ],
       "conversionMethod": "pd.DataFrame",
       "ref": "f8d5e1f6-ccce-441d-97f6-59886b9e7104",
       "rows": [
        [
         "0",
         "J.K. Rowling/Mary GrandPré",
         "Harry Potter and the Prisoner of Azkaban (Harry Potter  #3)",
         "82",
         "4.414634146341464"
        ],
        [
         "1",
         "J.R.R. Tolkien",
         "The Fellowship of the Ring (The Lord of the Rings  #1)",
         "74",
         "4.391891891891892"
        ],
        [
         "2",
         "J.K. Rowling/Mary GrandPré",
         "Harry Potter and the Chamber of Secrets (Harry Potter  #2)",
         "80",
         "4.2875"
        ],
        [
         "3",
         "Markus Zusak/Cao Xuân Việt Khương",
         "The Book Thief",
         "53",
         "4.264150943396227"
        ],
        [
         "4",
         "J.K. Rowling/Mary GrandPré",
         "Harry Potter and the Half-Blood Prince (Harry Potter  #6)",
         "73",
         "4.2465753424657535"
        ],
        [
         "5",
         "Louisa May Alcott",
         "Little Women",
         "52",
         "4.1923076923076925"
        ],
        [
         "6",
         "J.K. Rowling/Mary GrandPré",
         "Harry Potter and the Order of the Phoenix (Harry Potter  #5)",
         "75",
         "4.1866666666666665"
        ],
        [
         "7",
         "J.R.R. Tolkien",
         "The Hobbit  or There and Back Again",
         "88",
         "4.125"
        ],
        [
         "8",
         "Arthur Golden",
         "Memoirs of a Geisha",
         "56",
         "4.107142857142857"
        ],
        [
         "9",
         "Rick Riordan",
         "The Lightning Thief (Percy Jackson and the Olympians  #1)",
         "62",
         "4.080645161290323"
        ],
        [
         "10",
         "William Golding",
         "Lord of the Flies",
         "71",
         "3.9014084507042255"
        ],
        [
         "11",
         "Dan Brown",
         "The Da Vinci Code (Robert Langdon  #2)",
         "59",
         "3.830508474576271"
        ],
        [
         "12",
         "J.D. Salinger",
         "The Catcher in the Rye",
         "86",
         "3.8255813953488373"
        ],
        [
         "13",
         "Paulo Coelho/Alan R. Clarke/Özdemir İnce",
         "The Alchemist",
         "57",
         "3.789473684210526"
        ],
        [
         "14",
         "William Shakespeare/Paul Werstine/Barbara A. Mowat",
         "Romeo and Juliet",
         "66",
         "3.787878787878788"
        ],
        [
         "15",
         "Lois Lowry",
         "The Giver (The Giver  #1)",
         "56",
         "3.75"
        ],
        [
         "16",
         "George Orwell/Boris Grabnar/Peter Škerl",
         "Animal Farm",
         "74",
         "3.72972972972973"
        ],
        [
         "17",
         "Dan Brown",
         "Angels & Demons (Robert Langdon  #1)",
         "84",
         "3.6785714285714284"
        ],
        [
         "18",
         "Stephenie Meyer",
         "Twilight (Twilight  #1)",
         "160",
         "3.6625"
        ],
        [
         "19",
         "John Steinbeck",
         "Of Mice and Men",
         "61",
         "3.622950819672131"
        ]
       ],
       "shape": {
        "columns": 4,
        "rows": 20
       }
      },
      "text/html": [
       "<div>\n",
       "<style scoped>\n",
       "    .dataframe tbody tr th:only-of-type {\n",
       "        vertical-align: middle;\n",
       "    }\n",
       "\n",
       "    .dataframe tbody tr th {\n",
       "        vertical-align: top;\n",
       "    }\n",
       "\n",
       "    .dataframe thead th {\n",
       "        text-align: right;\n",
       "    }\n",
       "</style>\n",
       "<table border=\"1\" class=\"dataframe\">\n",
       "  <thead>\n",
       "    <tr style=\"text-align: right;\">\n",
       "      <th></th>\n",
       "      <th>author</th>\n",
       "      <th>title</th>\n",
       "      <th>rating_count</th>\n",
       "      <th>avg_rating</th>\n",
       "    </tr>\n",
       "  </thead>\n",
       "  <tbody>\n",
       "    <tr>\n",
       "      <th>0</th>\n",
       "      <td>J.K. Rowling/Mary GrandPré</td>\n",
       "      <td>Harry Potter and the Prisoner of Azkaban (Harr...</td>\n",
       "      <td>82</td>\n",
       "      <td>4.414634</td>\n",
       "    </tr>\n",
       "    <tr>\n",
       "      <th>1</th>\n",
       "      <td>J.R.R. Tolkien</td>\n",
       "      <td>The Fellowship of the Ring (The Lord of the Ri...</td>\n",
       "      <td>74</td>\n",
       "      <td>4.391892</td>\n",
       "    </tr>\n",
       "    <tr>\n",
       "      <th>2</th>\n",
       "      <td>J.K. Rowling/Mary GrandPré</td>\n",
       "      <td>Harry Potter and the Chamber of Secrets (Harry...</td>\n",
       "      <td>80</td>\n",
       "      <td>4.287500</td>\n",
       "    </tr>\n",
       "    <tr>\n",
       "      <th>3</th>\n",
       "      <td>Markus Zusak/Cao Xuân Việt Khương</td>\n",
       "      <td>The Book Thief</td>\n",
       "      <td>53</td>\n",
       "      <td>4.264151</td>\n",
       "    </tr>\n",
       "    <tr>\n",
       "      <th>4</th>\n",
       "      <td>J.K. Rowling/Mary GrandPré</td>\n",
       "      <td>Harry Potter and the Half-Blood Prince (Harry ...</td>\n",
       "      <td>73</td>\n",
       "      <td>4.246575</td>\n",
       "    </tr>\n",
       "    <tr>\n",
       "      <th>5</th>\n",
       "      <td>Louisa May Alcott</td>\n",
       "      <td>Little Women</td>\n",
       "      <td>52</td>\n",
       "      <td>4.192308</td>\n",
       "    </tr>\n",
       "    <tr>\n",
       "      <th>6</th>\n",
       "      <td>J.K. Rowling/Mary GrandPré</td>\n",
       "      <td>Harry Potter and the Order of the Phoenix (Har...</td>\n",
       "      <td>75</td>\n",
       "      <td>4.186667</td>\n",
       "    </tr>\n",
       "    <tr>\n",
       "      <th>7</th>\n",
       "      <td>J.R.R. Tolkien</td>\n",
       "      <td>The Hobbit  or There and Back Again</td>\n",
       "      <td>88</td>\n",
       "      <td>4.125000</td>\n",
       "    </tr>\n",
       "    <tr>\n",
       "      <th>8</th>\n",
       "      <td>Arthur Golden</td>\n",
       "      <td>Memoirs of a Geisha</td>\n",
       "      <td>56</td>\n",
       "      <td>4.107143</td>\n",
       "    </tr>\n",
       "    <tr>\n",
       "      <th>9</th>\n",
       "      <td>Rick Riordan</td>\n",
       "      <td>The Lightning Thief (Percy Jackson and the Oly...</td>\n",
       "      <td>62</td>\n",
       "      <td>4.080645</td>\n",
       "    </tr>\n",
       "    <tr>\n",
       "      <th>10</th>\n",
       "      <td>William Golding</td>\n",
       "      <td>Lord of the Flies</td>\n",
       "      <td>71</td>\n",
       "      <td>3.901408</td>\n",
       "    </tr>\n",
       "    <tr>\n",
       "      <th>11</th>\n",
       "      <td>Dan Brown</td>\n",
       "      <td>The Da Vinci Code (Robert Langdon  #2)</td>\n",
       "      <td>59</td>\n",
       "      <td>3.830508</td>\n",
       "    </tr>\n",
       "    <tr>\n",
       "      <th>12</th>\n",
       "      <td>J.D. Salinger</td>\n",
       "      <td>The Catcher in the Rye</td>\n",
       "      <td>86</td>\n",
       "      <td>3.825581</td>\n",
       "    </tr>\n",
       "    <tr>\n",
       "      <th>13</th>\n",
       "      <td>Paulo Coelho/Alan R. Clarke/Özdemir İnce</td>\n",
       "      <td>The Alchemist</td>\n",
       "      <td>57</td>\n",
       "      <td>3.789474</td>\n",
       "    </tr>\n",
       "    <tr>\n",
       "      <th>14</th>\n",
       "      <td>William Shakespeare/Paul Werstine/Barbara A. M...</td>\n",
       "      <td>Romeo and Juliet</td>\n",
       "      <td>66</td>\n",
       "      <td>3.787879</td>\n",
       "    </tr>\n",
       "    <tr>\n",
       "      <th>15</th>\n",
       "      <td>Lois Lowry</td>\n",
       "      <td>The Giver (The Giver  #1)</td>\n",
       "      <td>56</td>\n",
       "      <td>3.750000</td>\n",
       "    </tr>\n",
       "    <tr>\n",
       "      <th>16</th>\n",
       "      <td>George Orwell/Boris Grabnar/Peter Škerl</td>\n",
       "      <td>Animal Farm</td>\n",
       "      <td>74</td>\n",
       "      <td>3.729730</td>\n",
       "    </tr>\n",
       "    <tr>\n",
       "      <th>17</th>\n",
       "      <td>Dan Brown</td>\n",
       "      <td>Angels &amp; Demons (Robert Langdon  #1)</td>\n",
       "      <td>84</td>\n",
       "      <td>3.678571</td>\n",
       "    </tr>\n",
       "    <tr>\n",
       "      <th>18</th>\n",
       "      <td>Stephenie Meyer</td>\n",
       "      <td>Twilight (Twilight  #1)</td>\n",
       "      <td>160</td>\n",
       "      <td>3.662500</td>\n",
       "    </tr>\n",
       "    <tr>\n",
       "      <th>19</th>\n",
       "      <td>John Steinbeck</td>\n",
       "      <td>Of Mice and Men</td>\n",
       "      <td>61</td>\n",
       "      <td>3.622951</td>\n",
       "    </tr>\n",
       "  </tbody>\n",
       "</table>\n",
       "</div>"
      ],
      "text/plain": [
       "                                               author  \\\n",
       "0                          J.K. Rowling/Mary GrandPré   \n",
       "1                                      J.R.R. Tolkien   \n",
       "2                          J.K. Rowling/Mary GrandPré   \n",
       "3                   Markus Zusak/Cao Xuân Việt Khương   \n",
       "4                          J.K. Rowling/Mary GrandPré   \n",
       "5                                   Louisa May Alcott   \n",
       "6                          J.K. Rowling/Mary GrandPré   \n",
       "7                                      J.R.R. Tolkien   \n",
       "8                                       Arthur Golden   \n",
       "9                                        Rick Riordan   \n",
       "10                                    William Golding   \n",
       "11                                          Dan Brown   \n",
       "12                                      J.D. Salinger   \n",
       "13           Paulo Coelho/Alan R. Clarke/Özdemir İnce   \n",
       "14  William Shakespeare/Paul Werstine/Barbara A. M...   \n",
       "15                                         Lois Lowry   \n",
       "16            George Orwell/Boris Grabnar/Peter Škerl   \n",
       "17                                          Dan Brown   \n",
       "18                                    Stephenie Meyer   \n",
       "19                                     John Steinbeck   \n",
       "\n",
       "                                                title  rating_count  \\\n",
       "0   Harry Potter and the Prisoner of Azkaban (Harr...            82   \n",
       "1   The Fellowship of the Ring (The Lord of the Ri...            74   \n",
       "2   Harry Potter and the Chamber of Secrets (Harry...            80   \n",
       "3                                      The Book Thief            53   \n",
       "4   Harry Potter and the Half-Blood Prince (Harry ...            73   \n",
       "5                                        Little Women            52   \n",
       "6   Harry Potter and the Order of the Phoenix (Har...            75   \n",
       "7                 The Hobbit  or There and Back Again            88   \n",
       "8                                 Memoirs of a Geisha            56   \n",
       "9   The Lightning Thief (Percy Jackson and the Oly...            62   \n",
       "10                                  Lord of the Flies            71   \n",
       "11             The Da Vinci Code (Robert Langdon  #2)            59   \n",
       "12                             The Catcher in the Rye            86   \n",
       "13                                      The Alchemist            57   \n",
       "14                                   Romeo and Juliet            66   \n",
       "15                          The Giver (The Giver  #1)            56   \n",
       "16                                        Animal Farm            74   \n",
       "17               Angels & Demons (Robert Langdon  #1)            84   \n",
       "18                            Twilight (Twilight  #1)           160   \n",
       "19                                    Of Mice and Men            61   \n",
       "\n",
       "    avg_rating  \n",
       "0     4.414634  \n",
       "1     4.391892  \n",
       "2     4.287500  \n",
       "3     4.264151  \n",
       "4     4.246575  \n",
       "5     4.192308  \n",
       "6     4.186667  \n",
       "7     4.125000  \n",
       "8     4.107143  \n",
       "9     4.080645  \n",
       "10    3.901408  \n",
       "11    3.830508  \n",
       "12    3.825581  \n",
       "13    3.789474  \n",
       "14    3.787879  \n",
       "15    3.750000  \n",
       "16    3.729730  \n",
       "17    3.678571  \n",
       "18    3.662500  \n",
       "19    3.622951  "
      ]
     },
     "execution_count": 11,
     "metadata": {},
     "output_type": "execute_result"
    }
   ],
   "source": [
    "query4 = '''  \n",
    "        SELECT\n",
    "            a.author,\n",
    "            b.title,\n",
    "            COUNT(rt.rating_id) AS rating_count,\n",
    "            AVG(rt.rating) AS avg_rating\n",
    "        FROM\n",
    "            authors a\n",
    "        INNER JOIN books b ON a.author_id = b.author_id\n",
    "        LEFT JOIN ratings rt ON b.book_id = rt.book_id\n",
    "        GROUP BY\n",
    "            a.author, b.title\n",
    "        HAVING\n",
    "            COUNT(rt.rating_id) > 50\n",
    "        ORDER BY\n",
    "            avg_rating DESC\n",
    "\n",
    "'''\n",
    "\n",
    "pd.io.sql.read_sql(query4, con= engine)"
   ]
  },
  {
   "cell_type": "markdown",
   "id": "07e991d0",
   "metadata": {},
   "source": [
    "    - J.K. Rowling y Mary GrandPré tienen la mejor calificación promedio con Harry Potter y el Prisionero de Azkabán."
   ]
  },
  {
   "cell_type": "markdown",
   "id": "6a45b8af",
   "metadata": {},
   "source": [
    "## Ejercicio 5"
   ]
  },
  {
   "cell_type": "markdown",
   "id": "4f839019",
   "metadata": {},
   "source": [
    "- Encuentra el número promedio de reseñas de texto entre los usuarios que calificaron más de 50 libros."
   ]
  },
  {
   "cell_type": "code",
   "execution_count": 12,
   "id": "4890cb8f",
   "metadata": {},
   "outputs": [
    {
     "data": {
      "application/vnd.microsoft.datawrangler.viewer.v0+json": {
       "columns": [
        {
         "name": "index",
         "rawType": "int64",
         "type": "integer"
        },
        {
         "name": "avg_text_reviews",
         "rawType": "float64",
         "type": "float"
        }
       ],
       "conversionMethod": "pd.DataFrame",
       "ref": "9e5b872f-f7fe-4432-9ff9-185e891d4fb1",
       "rows": [
        [
         "0",
         "17.45625"
        ]
       ],
       "shape": {
        "columns": 1,
        "rows": 1
       }
      },
      "text/html": [
       "<div>\n",
       "<style scoped>\n",
       "    .dataframe tbody tr th:only-of-type {\n",
       "        vertical-align: middle;\n",
       "    }\n",
       "\n",
       "    .dataframe tbody tr th {\n",
       "        vertical-align: top;\n",
       "    }\n",
       "\n",
       "    .dataframe thead th {\n",
       "        text-align: right;\n",
       "    }\n",
       "</style>\n",
       "<table border=\"1\" class=\"dataframe\">\n",
       "  <thead>\n",
       "    <tr style=\"text-align: right;\">\n",
       "      <th></th>\n",
       "      <th>avg_text_reviews</th>\n",
       "    </tr>\n",
       "  </thead>\n",
       "  <tbody>\n",
       "    <tr>\n",
       "      <th>0</th>\n",
       "      <td>17.45625</td>\n",
       "    </tr>\n",
       "  </tbody>\n",
       "</table>\n",
       "</div>"
      ],
      "text/plain": [
       "   avg_text_reviews\n",
       "0          17.45625"
      ]
     },
     "execution_count": 12,
     "metadata": {},
     "output_type": "execute_result"
    }
   ],
   "source": [
    "query5 = '''  \n",
    "        SELECT\n",
    "            AVG(num_textreviews) AS avg_text_reviews\n",
    "        FROM (\n",
    "            SELECT\n",
    "                r.username,\n",
    "                COUNT(DISTINCT rt.rating_id) AS num_ratings,\n",
    "                COUNT(DISTINCT r.review_id) AS num_textreviews\n",
    "            FROM\n",
    "                reviews r\n",
    "            INNER JOIN ratings rt ON r.username = rt.username\n",
    "            GROUP BY\n",
    "                r.username\n",
    "            HAVING\n",
    "                COUNT(rt.rating) > 50\n",
    "        ) AS user_summary;\n",
    "'''\n",
    "\n",
    "pd.io.sql.read_sql(query5, con= engine)"
   ]
  },
  {
   "cell_type": "markdown",
   "id": "3f95eb7d",
   "metadata": {},
   "source": [
    "    - Tenemos un promedio de 17 reviews de texto para los usuarios que calificaron más de 50 libros."
   ]
  }
 ],
 "metadata": {
  "kernelspec": {
   "display_name": "Python 3",
   "language": "python",
   "name": "python3"
  },
  "language_info": {
   "codemirror_mode": {
    "name": "ipython",
    "version": 3
   },
   "file_extension": ".py",
   "mimetype": "text/x-python",
   "name": "python",
   "nbconvert_exporter": "python",
   "pygments_lexer": "ipython3",
   "version": "3.12.6"
  }
 },
 "nbformat": 4,
 "nbformat_minor": 5
}
