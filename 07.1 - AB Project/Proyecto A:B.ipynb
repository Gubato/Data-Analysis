{
 "cells": [
  {
   "cell_type": "markdown",
   "id": "92d40ae9",
   "metadata": {},
   "source": [
    "# Proyecto final A/B - Luis Gutiérrez"
   ]
  },
  {
   "cell_type": "code",
   "execution_count": 289,
   "id": "2c47c9a8",
   "metadata": {},
   "outputs": [],
   "source": [
    "# Importar librerías\n",
    "\n",
    "import pandas as pd\n",
    "import numpy as np\n",
    "from matplotlib import pyplot as plt\n",
    "from statsmodels.stats.proportion import proportions_ztest"
   ]
  },
  {
   "cell_type": "code",
   "execution_count": 290,
   "id": "47fc0841",
   "metadata": {},
   "outputs": [],
   "source": [
    "# Importar datasets\n",
    "\n",
    "df_campaigns = pd.read_csv('ab_project_marketing_events_us.csv')\n",
    "df_user_events = pd.read_csv('final_ab_events_upd_us.csv')\n",
    "df_new_users = pd.read_csv('final_ab_new_users_upd_us.csv')\n",
    "df_ab = pd.read_csv('final_ab_participants_upd_us.csv')"
   ]
  },
  {
   "cell_type": "markdown",
   "id": "205092c3",
   "metadata": {},
   "source": [
    "## Análisis inicial"
   ]
  },
  {
   "cell_type": "markdown",
   "id": "8022d151",
   "metadata": {},
   "source": [
    "### Marketing events"
   ]
  },
  {
   "cell_type": "code",
   "execution_count": 291,
   "id": "83ce7db1",
   "metadata": {},
   "outputs": [
    {
     "name": "stdout",
     "output_type": "stream",
     "text": [
      "<class 'pandas.core.frame.DataFrame'>\n",
      "RangeIndex: 14 entries, 0 to 13\n",
      "Data columns (total 4 columns):\n",
      " #   Column     Non-Null Count  Dtype \n",
      "---  ------     --------------  ----- \n",
      " 0   name       14 non-null     object\n",
      " 1   regions    14 non-null     object\n",
      " 2   start_dt   14 non-null     object\n",
      " 3   finish_dt  14 non-null     object\n",
      "dtypes: object(4)\n",
      "memory usage: 580.0+ bytes\n"
     ]
    }
   ],
   "source": [
    "df_campaigns.info()"
   ]
  },
  {
   "cell_type": "code",
   "execution_count": 292,
   "id": "caa0fe69",
   "metadata": {},
   "outputs": [
    {
     "data": {
      "application/vnd.microsoft.datawrangler.viewer.v0+json": {
       "columns": [
        {
         "name": "index",
         "rawType": "int64",
         "type": "integer"
        },
        {
         "name": "name",
         "rawType": "object",
         "type": "string"
        },
        {
         "name": "regions",
         "rawType": "object",
         "type": "string"
        },
        {
         "name": "start_dt",
         "rawType": "object",
         "type": "string"
        },
        {
         "name": "finish_dt",
         "rawType": "object",
         "type": "string"
        }
       ],
       "conversionMethod": "pd.DataFrame",
       "ref": "5a0d1906-bae6-45e7-9684-0de254929856",
       "rows": [
        [
         "11",
         "Dragon Boat Festival Giveaway",
         "APAC",
         "2020-06-25",
         "2020-07-01"
        ],
        [
         "2",
         "St. Patric's Day Promo",
         "EU, N.America",
         "2020-03-17",
         "2020-03-19"
        ],
        [
         "4",
         "4th of July Promo",
         "N.America",
         "2020-07-04",
         "2020-07-11"
        ],
        [
         "5",
         "Black Friday Ads Campaign",
         "EU, CIS, APAC, N.America",
         "2020-11-26",
         "2020-12-01"
        ],
        [
         "1",
         "St. Valentine's Day Giveaway",
         "EU, CIS, APAC, N.America",
         "2020-02-14",
         "2020-02-16"
        ]
       ],
       "shape": {
        "columns": 4,
        "rows": 5
       }
      },
      "text/html": [
       "<div>\n",
       "<style scoped>\n",
       "    .dataframe tbody tr th:only-of-type {\n",
       "        vertical-align: middle;\n",
       "    }\n",
       "\n",
       "    .dataframe tbody tr th {\n",
       "        vertical-align: top;\n",
       "    }\n",
       "\n",
       "    .dataframe thead th {\n",
       "        text-align: right;\n",
       "    }\n",
       "</style>\n",
       "<table border=\"1\" class=\"dataframe\">\n",
       "  <thead>\n",
       "    <tr style=\"text-align: right;\">\n",
       "      <th></th>\n",
       "      <th>name</th>\n",
       "      <th>regions</th>\n",
       "      <th>start_dt</th>\n",
       "      <th>finish_dt</th>\n",
       "    </tr>\n",
       "  </thead>\n",
       "  <tbody>\n",
       "    <tr>\n",
       "      <th>11</th>\n",
       "      <td>Dragon Boat Festival Giveaway</td>\n",
       "      <td>APAC</td>\n",
       "      <td>2020-06-25</td>\n",
       "      <td>2020-07-01</td>\n",
       "    </tr>\n",
       "    <tr>\n",
       "      <th>2</th>\n",
       "      <td>St. Patric's Day Promo</td>\n",
       "      <td>EU, N.America</td>\n",
       "      <td>2020-03-17</td>\n",
       "      <td>2020-03-19</td>\n",
       "    </tr>\n",
       "    <tr>\n",
       "      <th>4</th>\n",
       "      <td>4th of July Promo</td>\n",
       "      <td>N.America</td>\n",
       "      <td>2020-07-04</td>\n",
       "      <td>2020-07-11</td>\n",
       "    </tr>\n",
       "    <tr>\n",
       "      <th>5</th>\n",
       "      <td>Black Friday Ads Campaign</td>\n",
       "      <td>EU, CIS, APAC, N.America</td>\n",
       "      <td>2020-11-26</td>\n",
       "      <td>2020-12-01</td>\n",
       "    </tr>\n",
       "    <tr>\n",
       "      <th>1</th>\n",
       "      <td>St. Valentine's Day Giveaway</td>\n",
       "      <td>EU, CIS, APAC, N.America</td>\n",
       "      <td>2020-02-14</td>\n",
       "      <td>2020-02-16</td>\n",
       "    </tr>\n",
       "  </tbody>\n",
       "</table>\n",
       "</div>"
      ],
      "text/plain": [
       "                             name                   regions    start_dt  \\\n",
       "11  Dragon Boat Festival Giveaway                      APAC  2020-06-25   \n",
       "2          St. Patric's Day Promo             EU, N.America  2020-03-17   \n",
       "4               4th of July Promo                 N.America  2020-07-04   \n",
       "5       Black Friday Ads Campaign  EU, CIS, APAC, N.America  2020-11-26   \n",
       "1    St. Valentine's Day Giveaway  EU, CIS, APAC, N.America  2020-02-14   \n",
       "\n",
       "     finish_dt  \n",
       "11  2020-07-01  \n",
       "2   2020-03-19  \n",
       "4   2020-07-11  \n",
       "5   2020-12-01  \n",
       "1   2020-02-16  "
      ]
     },
     "execution_count": 292,
     "metadata": {},
     "output_type": "execute_result"
    }
   ],
   "source": [
    "df_campaigns.sample(5)"
   ]
  },
  {
   "cell_type": "code",
   "execution_count": 293,
   "id": "95613faa",
   "metadata": {},
   "outputs": [],
   "source": [
    "# Cambiar datatype de las columnas de fecha\n",
    "\n",
    "dt_cols = ['start_dt', 'finish_dt']\n",
    "\n",
    "for col in dt_cols:\n",
    "    df_campaigns[col] = pd.to_datetime(df_campaigns[col], format = '%Y-%m-%d')\n",
    "\n",
    "# Separar las regiones y tener un renglón para cada evento/region\n",
    "\n",
    "df_campaigns['regions'] = df_campaigns['regions'].str.replace(' ', '').str.split(',')\n",
    "df_campaigns = df_campaigns.explode('regions')"
   ]
  },
  {
   "cell_type": "markdown",
   "id": "3e733346",
   "metadata": {},
   "source": [
    "### Eventos de usuario"
   ]
  },
  {
   "cell_type": "code",
   "execution_count": 294,
   "id": "f464c795",
   "metadata": {},
   "outputs": [
    {
     "name": "stdout",
     "output_type": "stream",
     "text": [
      "<class 'pandas.core.frame.DataFrame'>\n",
      "RangeIndex: 423761 entries, 0 to 423760\n",
      "Data columns (total 4 columns):\n",
      " #   Column      Non-Null Count   Dtype  \n",
      "---  ------      --------------   -----  \n",
      " 0   user_id     423761 non-null  object \n",
      " 1   event_dt    423761 non-null  object \n",
      " 2   event_name  423761 non-null  object \n",
      " 3   details     60314 non-null   float64\n",
      "dtypes: float64(1), object(3)\n",
      "memory usage: 12.9+ MB\n"
     ]
    }
   ],
   "source": [
    "df_user_events.info()"
   ]
  },
  {
   "cell_type": "code",
   "execution_count": 295,
   "id": "7e5ec06d",
   "metadata": {},
   "outputs": [
    {
     "data": {
      "application/vnd.microsoft.datawrangler.viewer.v0+json": {
       "columns": [
        {
         "name": "index",
         "rawType": "int64",
         "type": "integer"
        },
        {
         "name": "user_id",
         "rawType": "object",
         "type": "string"
        },
        {
         "name": "event_dt",
         "rawType": "object",
         "type": "string"
        },
        {
         "name": "event_name",
         "rawType": "object",
         "type": "string"
        },
        {
         "name": "details",
         "rawType": "float64",
         "type": "float"
        }
       ],
       "conversionMethod": "pd.DataFrame",
       "ref": "451273b0-e5ee-45f5-979f-d5e6cb4f41e4",
       "rows": [
        [
         "382967",
         "3D9C6336B01B96CC",
         "2020-12-22 00:09:42",
         "login",
         null
        ],
        [
         "384046",
         "59C51424645FE4ED",
         "2020-12-23 21:02:30",
         "login",
         null
        ],
        [
         "339110",
         "7A1D69361DE05CCE",
         "2020-12-19 19:26:29",
         "login",
         null
        ],
        [
         "332356",
         "16336FDC84BF46FB",
         "2020-12-18 20:22:48",
         "login",
         null
        ],
        [
         "349599",
         "3B6EFBCE997C73EB",
         "2020-12-20 20:56:20",
         "login",
         null
        ]
       ],
       "shape": {
        "columns": 4,
        "rows": 5
       }
      },
      "text/html": [
       "<div>\n",
       "<style scoped>\n",
       "    .dataframe tbody tr th:only-of-type {\n",
       "        vertical-align: middle;\n",
       "    }\n",
       "\n",
       "    .dataframe tbody tr th {\n",
       "        vertical-align: top;\n",
       "    }\n",
       "\n",
       "    .dataframe thead th {\n",
       "        text-align: right;\n",
       "    }\n",
       "</style>\n",
       "<table border=\"1\" class=\"dataframe\">\n",
       "  <thead>\n",
       "    <tr style=\"text-align: right;\">\n",
       "      <th></th>\n",
       "      <th>user_id</th>\n",
       "      <th>event_dt</th>\n",
       "      <th>event_name</th>\n",
       "      <th>details</th>\n",
       "    </tr>\n",
       "  </thead>\n",
       "  <tbody>\n",
       "    <tr>\n",
       "      <th>382967</th>\n",
       "      <td>3D9C6336B01B96CC</td>\n",
       "      <td>2020-12-22 00:09:42</td>\n",
       "      <td>login</td>\n",
       "      <td>NaN</td>\n",
       "    </tr>\n",
       "    <tr>\n",
       "      <th>384046</th>\n",
       "      <td>59C51424645FE4ED</td>\n",
       "      <td>2020-12-23 21:02:30</td>\n",
       "      <td>login</td>\n",
       "      <td>NaN</td>\n",
       "    </tr>\n",
       "    <tr>\n",
       "      <th>339110</th>\n",
       "      <td>7A1D69361DE05CCE</td>\n",
       "      <td>2020-12-19 19:26:29</td>\n",
       "      <td>login</td>\n",
       "      <td>NaN</td>\n",
       "    </tr>\n",
       "    <tr>\n",
       "      <th>332356</th>\n",
       "      <td>16336FDC84BF46FB</td>\n",
       "      <td>2020-12-18 20:22:48</td>\n",
       "      <td>login</td>\n",
       "      <td>NaN</td>\n",
       "    </tr>\n",
       "    <tr>\n",
       "      <th>349599</th>\n",
       "      <td>3B6EFBCE997C73EB</td>\n",
       "      <td>2020-12-20 20:56:20</td>\n",
       "      <td>login</td>\n",
       "      <td>NaN</td>\n",
       "    </tr>\n",
       "  </tbody>\n",
       "</table>\n",
       "</div>"
      ],
      "text/plain": [
       "                 user_id             event_dt event_name  details\n",
       "382967  3D9C6336B01B96CC  2020-12-22 00:09:42      login      NaN\n",
       "384046  59C51424645FE4ED  2020-12-23 21:02:30      login      NaN\n",
       "339110  7A1D69361DE05CCE  2020-12-19 19:26:29      login      NaN\n",
       "332356  16336FDC84BF46FB  2020-12-18 20:22:48      login      NaN\n",
       "349599  3B6EFBCE997C73EB  2020-12-20 20:56:20      login      NaN"
      ]
     },
     "execution_count": 295,
     "metadata": {},
     "output_type": "execute_result"
    }
   ],
   "source": [
    "df_user_events.sample(5)"
   ]
  },
  {
   "cell_type": "code",
   "execution_count": 296,
   "id": "c4917569",
   "metadata": {},
   "outputs": [
    {
     "name": "stdout",
     "output_type": "stream",
     "text": [
      "<class 'pandas.core.frame.DataFrame'>\n",
      "RangeIndex: 423761 entries, 0 to 423760\n",
      "Data columns (total 4 columns):\n",
      " #   Column      Non-Null Count   Dtype         \n",
      "---  ------      --------------   -----         \n",
      " 0   user_id     423761 non-null  object        \n",
      " 1   event_dt    423761 non-null  datetime64[ns]\n",
      " 2   event_name  423761 non-null  object        \n",
      " 3   details     60314 non-null   float64       \n",
      "dtypes: datetime64[ns](1), float64(1), object(2)\n",
      "memory usage: 12.9+ MB\n"
     ]
    }
   ],
   "source": [
    "# Columna event_dt a datatime\n",
    "\n",
    "df_user_events['event_dt'] = pd.to_datetime(df_user_events['event_dt'])\n",
    "\n",
    "df_user_events.info()"
   ]
  },
  {
   "cell_type": "markdown",
   "id": "d7375ad9",
   "metadata": {},
   "source": [
    "- Los valores ausentes en la columna details están asociados a que debe ser una venta y se le coloca el monto en dicha columna, revisemos si no hay problemas"
   ]
  },
  {
   "cell_type": "code",
   "execution_count": 297,
   "id": "ac903795",
   "metadata": {},
   "outputs": [
    {
     "name": "stdout",
     "output_type": "stream",
     "text": [
      "<class 'pandas.core.frame.DataFrame'>\n",
      "Index: 60314 entries, 0 to 60313\n",
      "Data columns (total 4 columns):\n",
      " #   Column      Non-Null Count  Dtype         \n",
      "---  ------      --------------  -----         \n",
      " 0   user_id     60314 non-null  object        \n",
      " 1   event_dt    60314 non-null  datetime64[ns]\n",
      " 2   event_name  60314 non-null  object        \n",
      " 3   details     60314 non-null  float64       \n",
      "dtypes: datetime64[ns](1), float64(1), object(2)\n",
      "memory usage: 2.3+ MB\n"
     ]
    }
   ],
   "source": [
    "df_user_events.query('event_name == \"purchase\"').info()"
   ]
  },
  {
   "cell_type": "markdown",
   "id": "a8584d04",
   "metadata": {},
   "source": [
    "- Confirmamos que todas las purchase tienen un detail asociado."
   ]
  },
  {
   "cell_type": "markdown",
   "id": "88a13c13",
   "metadata": {},
   "source": [
    "## Nuevos usuarios"
   ]
  },
  {
   "cell_type": "code",
   "execution_count": 298,
   "id": "fbbdb7ee",
   "metadata": {},
   "outputs": [
    {
     "name": "stdout",
     "output_type": "stream",
     "text": [
      "<class 'pandas.core.frame.DataFrame'>\n",
      "RangeIndex: 58703 entries, 0 to 58702\n",
      "Data columns (total 4 columns):\n",
      " #   Column      Non-Null Count  Dtype \n",
      "---  ------      --------------  ----- \n",
      " 0   user_id     58703 non-null  object\n",
      " 1   first_date  58703 non-null  object\n",
      " 2   region      58703 non-null  object\n",
      " 3   device      58703 non-null  object\n",
      "dtypes: object(4)\n",
      "memory usage: 1.8+ MB\n"
     ]
    }
   ],
   "source": [
    "df_new_users.info()"
   ]
  },
  {
   "cell_type": "code",
   "execution_count": 299,
   "id": "1c8fa686",
   "metadata": {},
   "outputs": [
    {
     "data": {
      "application/vnd.microsoft.datawrangler.viewer.v0+json": {
       "columns": [
        {
         "name": "index",
         "rawType": "int64",
         "type": "integer"
        },
        {
         "name": "user_id",
         "rawType": "object",
         "type": "string"
        },
        {
         "name": "first_date",
         "rawType": "object",
         "type": "string"
        },
        {
         "name": "region",
         "rawType": "object",
         "type": "string"
        },
        {
         "name": "device",
         "rawType": "object",
         "type": "string"
        }
       ],
       "conversionMethod": "pd.DataFrame",
       "ref": "48daf8fd-f7db-4c3a-986a-dfc57e364010",
       "rows": [
        [
         "15767",
         "F9BD44FADC421004",
         "2020-12-21",
         "EU",
         "PC"
        ],
        [
         "31388",
         "84A02497E3232F5B",
         "2020-12-23",
         "EU",
         "PC"
        ],
        [
         "10990",
         "7E81DBB1530EB04B",
         "2020-12-21",
         "EU",
         "Android"
        ],
        [
         "11923",
         "1549907813A9ED35",
         "2020-12-21",
         "EU",
         "Android"
        ],
        [
         "29070",
         "DBF642D2D4B4A8BA",
         "2020-12-16",
         "CIS",
         "Android"
        ]
       ],
       "shape": {
        "columns": 4,
        "rows": 5
       }
      },
      "text/html": [
       "<div>\n",
       "<style scoped>\n",
       "    .dataframe tbody tr th:only-of-type {\n",
       "        vertical-align: middle;\n",
       "    }\n",
       "\n",
       "    .dataframe tbody tr th {\n",
       "        vertical-align: top;\n",
       "    }\n",
       "\n",
       "    .dataframe thead th {\n",
       "        text-align: right;\n",
       "    }\n",
       "</style>\n",
       "<table border=\"1\" class=\"dataframe\">\n",
       "  <thead>\n",
       "    <tr style=\"text-align: right;\">\n",
       "      <th></th>\n",
       "      <th>user_id</th>\n",
       "      <th>first_date</th>\n",
       "      <th>region</th>\n",
       "      <th>device</th>\n",
       "    </tr>\n",
       "  </thead>\n",
       "  <tbody>\n",
       "    <tr>\n",
       "      <th>15767</th>\n",
       "      <td>F9BD44FADC421004</td>\n",
       "      <td>2020-12-21</td>\n",
       "      <td>EU</td>\n",
       "      <td>PC</td>\n",
       "    </tr>\n",
       "    <tr>\n",
       "      <th>31388</th>\n",
       "      <td>84A02497E3232F5B</td>\n",
       "      <td>2020-12-23</td>\n",
       "      <td>EU</td>\n",
       "      <td>PC</td>\n",
       "    </tr>\n",
       "    <tr>\n",
       "      <th>10990</th>\n",
       "      <td>7E81DBB1530EB04B</td>\n",
       "      <td>2020-12-21</td>\n",
       "      <td>EU</td>\n",
       "      <td>Android</td>\n",
       "    </tr>\n",
       "    <tr>\n",
       "      <th>11923</th>\n",
       "      <td>1549907813A9ED35</td>\n",
       "      <td>2020-12-21</td>\n",
       "      <td>EU</td>\n",
       "      <td>Android</td>\n",
       "    </tr>\n",
       "    <tr>\n",
       "      <th>29070</th>\n",
       "      <td>DBF642D2D4B4A8BA</td>\n",
       "      <td>2020-12-16</td>\n",
       "      <td>CIS</td>\n",
       "      <td>Android</td>\n",
       "    </tr>\n",
       "  </tbody>\n",
       "</table>\n",
       "</div>"
      ],
      "text/plain": [
       "                user_id  first_date region   device\n",
       "15767  F9BD44FADC421004  2020-12-21     EU       PC\n",
       "31388  84A02497E3232F5B  2020-12-23     EU       PC\n",
       "10990  7E81DBB1530EB04B  2020-12-21     EU  Android\n",
       "11923  1549907813A9ED35  2020-12-21     EU  Android\n",
       "29070  DBF642D2D4B4A8BA  2020-12-16    CIS  Android"
      ]
     },
     "execution_count": 299,
     "metadata": {},
     "output_type": "execute_result"
    }
   ],
   "source": [
    "df_new_users.sample(5)"
   ]
  },
  {
   "cell_type": "code",
   "execution_count": 300,
   "id": "3fdc3992",
   "metadata": {},
   "outputs": [
    {
     "name": "stdout",
     "output_type": "stream",
     "text": [
      "<class 'pandas.core.frame.DataFrame'>\n",
      "RangeIndex: 58703 entries, 0 to 58702\n",
      "Data columns (total 4 columns):\n",
      " #   Column      Non-Null Count  Dtype         \n",
      "---  ------      --------------  -----         \n",
      " 0   user_id     58703 non-null  object        \n",
      " 1   first_date  58703 non-null  datetime64[ns]\n",
      " 2   region      58703 non-null  object        \n",
      " 3   device      58703 non-null  object        \n",
      "dtypes: datetime64[ns](1), object(3)\n",
      "memory usage: 1.8+ MB\n"
     ]
    }
   ],
   "source": [
    "# Columna first_date a datatime\n",
    "\n",
    "df_new_users['first_date'] = pd.to_datetime(df_new_users['first_date'], format = '%Y-%m-%d')\n",
    "\n",
    "df_new_users.info()"
   ]
  },
  {
   "cell_type": "markdown",
   "id": "11fa7110",
   "metadata": {},
   "source": [
    "### Datos prueba AB"
   ]
  },
  {
   "cell_type": "code",
   "execution_count": 301,
   "id": "a1bf5461",
   "metadata": {},
   "outputs": [
    {
     "name": "stdout",
     "output_type": "stream",
     "text": [
      "<class 'pandas.core.frame.DataFrame'>\n",
      "RangeIndex: 14525 entries, 0 to 14524\n",
      "Data columns (total 3 columns):\n",
      " #   Column   Non-Null Count  Dtype \n",
      "---  ------   --------------  ----- \n",
      " 0   user_id  14525 non-null  object\n",
      " 1   group    14525 non-null  object\n",
      " 2   ab_test  14525 non-null  object\n",
      "dtypes: object(3)\n",
      "memory usage: 340.6+ KB\n"
     ]
    }
   ],
   "source": [
    "df_ab.info()"
   ]
  },
  {
   "cell_type": "code",
   "execution_count": 302,
   "id": "2a6d3ed7",
   "metadata": {},
   "outputs": [
    {
     "data": {
      "application/vnd.microsoft.datawrangler.viewer.v0+json": {
       "columns": [
        {
         "name": "index",
         "rawType": "int64",
         "type": "integer"
        },
        {
         "name": "user_id",
         "rawType": "object",
         "type": "string"
        },
        {
         "name": "group",
         "rawType": "object",
         "type": "string"
        },
        {
         "name": "ab_test",
         "rawType": "object",
         "type": "string"
        }
       ],
       "conversionMethod": "pd.DataFrame",
       "ref": "d8880b49-5db1-4af9-9622-24365e91d826",
       "rows": [
        [
         "9273",
         "A0851310010B30D4",
         "B",
         "interface_eu_test"
        ],
        [
         "9062",
         "C9EEE28A7D84B483",
         "A",
         "interface_eu_test"
        ],
        [
         "12084",
         "DBDF711A9D2C09C9",
         "A",
         "interface_eu_test"
        ],
        [
         "10474",
         "94C002F082F41235",
         "B",
         "interface_eu_test"
        ],
        [
         "441",
         "9CC7BABE25F1E408",
         "A",
         "recommender_system_test"
        ]
       ],
       "shape": {
        "columns": 3,
        "rows": 5
       }
      },
      "text/html": [
       "<div>\n",
       "<style scoped>\n",
       "    .dataframe tbody tr th:only-of-type {\n",
       "        vertical-align: middle;\n",
       "    }\n",
       "\n",
       "    .dataframe tbody tr th {\n",
       "        vertical-align: top;\n",
       "    }\n",
       "\n",
       "    .dataframe thead th {\n",
       "        text-align: right;\n",
       "    }\n",
       "</style>\n",
       "<table border=\"1\" class=\"dataframe\">\n",
       "  <thead>\n",
       "    <tr style=\"text-align: right;\">\n",
       "      <th></th>\n",
       "      <th>user_id</th>\n",
       "      <th>group</th>\n",
       "      <th>ab_test</th>\n",
       "    </tr>\n",
       "  </thead>\n",
       "  <tbody>\n",
       "    <tr>\n",
       "      <th>9273</th>\n",
       "      <td>A0851310010B30D4</td>\n",
       "      <td>B</td>\n",
       "      <td>interface_eu_test</td>\n",
       "    </tr>\n",
       "    <tr>\n",
       "      <th>9062</th>\n",
       "      <td>C9EEE28A7D84B483</td>\n",
       "      <td>A</td>\n",
       "      <td>interface_eu_test</td>\n",
       "    </tr>\n",
       "    <tr>\n",
       "      <th>12084</th>\n",
       "      <td>DBDF711A9D2C09C9</td>\n",
       "      <td>A</td>\n",
       "      <td>interface_eu_test</td>\n",
       "    </tr>\n",
       "    <tr>\n",
       "      <th>10474</th>\n",
       "      <td>94C002F082F41235</td>\n",
       "      <td>B</td>\n",
       "      <td>interface_eu_test</td>\n",
       "    </tr>\n",
       "    <tr>\n",
       "      <th>441</th>\n",
       "      <td>9CC7BABE25F1E408</td>\n",
       "      <td>A</td>\n",
       "      <td>recommender_system_test</td>\n",
       "    </tr>\n",
       "  </tbody>\n",
       "</table>\n",
       "</div>"
      ],
      "text/plain": [
       "                user_id group                  ab_test\n",
       "9273   A0851310010B30D4     B        interface_eu_test\n",
       "9062   C9EEE28A7D84B483     A        interface_eu_test\n",
       "12084  DBDF711A9D2C09C9     A        interface_eu_test\n",
       "10474  94C002F082F41235     B        interface_eu_test\n",
       "441    9CC7BABE25F1E408     A  recommender_system_test"
      ]
     },
     "execution_count": 302,
     "metadata": {},
     "output_type": "execute_result"
    }
   ],
   "source": [
    "df_ab.sample(5)"
   ]
  },
  {
   "cell_type": "code",
   "execution_count": 303,
   "id": "5602579b",
   "metadata": {},
   "outputs": [],
   "source": [
    "# Revisamos duplicados en usuarios para ver que no haya problemas\n",
    "\n",
    "df_ab_dupl = df_ab[df_ab['user_id'].duplicated(keep=False)].sort_values(by='user_id')"
   ]
  },
  {
   "cell_type": "markdown",
   "id": "526258bc",
   "metadata": {},
   "source": [
    "- Tenemos usuarios que pertenecieron a grupos A B, a puro grupo A o a puro grupo B, hablando de ambas pruebas (interface o recommender system)."
   ]
  },
  {
   "cell_type": "code",
   "execution_count": 304,
   "id": "da98c0fa",
   "metadata": {},
   "outputs": [
    {
     "data": {
      "text/plain": [
       "np.int64(0)"
      ]
     },
     "execution_count": 304,
     "metadata": {},
     "output_type": "execute_result"
    }
   ],
   "source": [
    "# Revisamos duplicados explícitos\n",
    "\n",
    "df_ab_dupl.duplicated().sum() "
   ]
  },
  {
   "cell_type": "markdown",
   "id": "3a319009",
   "metadata": {},
   "source": [
    "- Nos regresa 0, están todos los usuarios divididos o en A o B y o en interface o recommender"
   ]
  },
  {
   "cell_type": "markdown",
   "id": "8872e641",
   "metadata": {},
   "source": [
    "## Analisis exploratorio"
   ]
  },
  {
   "cell_type": "markdown",
   "id": "277bf5f7",
   "metadata": {},
   "source": [
    "- Ya que la prueba tiene datos del final del año 2020, considero que sería bueno dividir la temporalidad en días."
   ]
  },
  {
   "cell_type": "code",
   "execution_count": 305,
   "id": "91bc11db",
   "metadata": {},
   "outputs": [],
   "source": [
    "# Agregar columnas de dates al dataframe Campaigns\n",
    "\n",
    "df_campaigns['start_month'] = df_campaigns['start_dt'].dt.month\n",
    "df_campaigns['start_day'] =  df_campaigns['start_dt'].dt.day\n",
    "df_campaigns['end_month'] = df_campaigns['finish_dt'].dt.month\n",
    "df_campaigns['end_day'] = df_campaigns['finish_dt'].dt.day\n",
    "\n",
    "# Agregar columnas de dates al dataframe Events\n",
    "\n",
    "df_user_events['event_day'] = df_user_events['event_dt'].dt.day\n",
    "\n",
    "# Agregar columnas de dates al dataframe New Users\n",
    "\n",
    "df_new_users['first_day'] = df_new_users['first_date'].dt.day\n",
    "df_new_users['first_month'] = df_new_users['first_date'].dt.month"
   ]
  },
  {
   "cell_type": "markdown",
   "id": "98992e9f",
   "metadata": {},
   "source": [
    "- Embudo de eventos"
   ]
  },
  {
   "cell_type": "code",
   "execution_count": 306,
   "id": "eaedfa9f",
   "metadata": {},
   "outputs": [
    {
     "data": {
      "application/vnd.microsoft.datawrangler.viewer.v0+json": {
       "columns": [
        {
         "name": "event_name",
         "rawType": "object",
         "type": "string"
        },
        {
         "name": "num_users",
         "rawType": "int64",
         "type": "integer"
        },
        {
         "name": "conversion_rate",
         "rawType": "float64",
         "type": "float"
        },
        {
         "name": "cumulative_conversion",
         "rawType": "float64",
         "type": "float"
        }
       ],
       "conversionMethod": "pd.DataFrame",
       "ref": "f532dcac-4b6c-471e-aaf6-4be31a340ec9",
       "rows": [
        [
         "login",
         "182465",
         null,
         "1.0"
        ],
        [
         "product_page",
         "120862",
         "0.6623845669032418",
         "0.6623845669032418"
        ],
        [
         "purchase",
         "60314",
         "0.4990319537985471",
         "0.33055106458772915"
        ],
        [
         "product_cart",
         "60120",
         "0.9967834996849819",
         "0.3294878469843532"
        ]
       ],
       "shape": {
        "columns": 3,
        "rows": 4
       }
      },
      "text/html": [
       "<div>\n",
       "<style scoped>\n",
       "    .dataframe tbody tr th:only-of-type {\n",
       "        vertical-align: middle;\n",
       "    }\n",
       "\n",
       "    .dataframe tbody tr th {\n",
       "        vertical-align: top;\n",
       "    }\n",
       "\n",
       "    .dataframe thead th {\n",
       "        text-align: right;\n",
       "    }\n",
       "</style>\n",
       "<table border=\"1\" class=\"dataframe\">\n",
       "  <thead>\n",
       "    <tr style=\"text-align: right;\">\n",
       "      <th></th>\n",
       "      <th>num_users</th>\n",
       "      <th>conversion_rate</th>\n",
       "      <th>cumulative_conversion</th>\n",
       "    </tr>\n",
       "    <tr>\n",
       "      <th>event_name</th>\n",
       "      <th></th>\n",
       "      <th></th>\n",
       "      <th></th>\n",
       "    </tr>\n",
       "  </thead>\n",
       "  <tbody>\n",
       "    <tr>\n",
       "      <th>login</th>\n",
       "      <td>182465</td>\n",
       "      <td>NaN</td>\n",
       "      <td>1.000000</td>\n",
       "    </tr>\n",
       "    <tr>\n",
       "      <th>product_page</th>\n",
       "      <td>120862</td>\n",
       "      <td>0.662385</td>\n",
       "      <td>0.662385</td>\n",
       "    </tr>\n",
       "    <tr>\n",
       "      <th>purchase</th>\n",
       "      <td>60314</td>\n",
       "      <td>0.499032</td>\n",
       "      <td>0.330551</td>\n",
       "    </tr>\n",
       "    <tr>\n",
       "      <th>product_cart</th>\n",
       "      <td>60120</td>\n",
       "      <td>0.996783</td>\n",
       "      <td>0.329488</td>\n",
       "    </tr>\n",
       "  </tbody>\n",
       "</table>\n",
       "</div>"
      ],
      "text/plain": [
       "              num_users  conversion_rate  cumulative_conversion\n",
       "event_name                                                     \n",
       "login            182465              NaN               1.000000\n",
       "product_page     120862         0.662385               0.662385\n",
       "purchase          60314         0.499032               0.330551\n",
       "product_cart      60120         0.996783               0.329488"
      ]
     },
     "execution_count": 306,
     "metadata": {},
     "output_type": "execute_result"
    }
   ],
   "source": [
    "event_funnel = df_user_events.groupby('event_name').agg(num_users = ('user_id','count')).sort_values('num_users', ascending=False)\n",
    "\n",
    "# Tasa de conversión de una etapa a otra\n",
    "\n",
    "event_funnel['conversion_rate'] = event_funnel['num_users'] / event_funnel['num_users'].shift(1)\n",
    "\n",
    "# Conversión acumulada desde el inicio\n",
    "\n",
    "event_funnel['cumulative_conversion'] = event_funnel['num_users'] / event_funnel['num_users'].iloc[0]\n",
    "\n",
    "event_funnel"
   ]
  },
  {
   "cell_type": "code",
   "execution_count": 307,
   "id": "668b36d2",
   "metadata": {},
   "outputs": [
    {
     "data": {
      "image/png": "[encoded data removed]",
      "text/plain": [
       "<Figure size 640x480 with 1 Axes>"
      ]
     },
     "metadata": {},
     "output_type": "display_data"
    }
   ],
   "source": [
    "# Gráfico del embudo\n",
    "\n",
    "event_funnel['num_users'].plot(kind='barh', color='purple')\n",
    "\n",
    "plt.title('Events funnel')\n",
    "plt.xlabel('Event name')\n",
    "plt.ylabel('Number of users')\n",
    "plt.gca().invert_yaxis() \n",
    "plt.tight_layout()\n",
    "plt.xlim([0,208000])\n",
    "\n",
    "for i, (value, name) in enumerate(zip(event_funnel['num_users'], event_funnel.index)):\n",
    "    plt.text(value + 5, i, str(value), va='center')\n",
    "\n",
    "plt.show()"
   ]
  },
  {
   "cell_type": "markdown",
   "id": "4ae5d6f6",
   "metadata": {},
   "source": [
    "- Curiosamente, existen más compras que momentos de adjuntar productos al carrito; esto puede ser por compras que son directamente con un botón y no tanto compras que vayan acumulando varios productos"
   ]
  },
  {
   "cell_type": "code",
   "execution_count": 308,
   "id": "9dbb76a8",
   "metadata": {},
   "outputs": [
    {
     "data": {
      "application/vnd.microsoft.datawrangler.viewer.v0+json": {
       "columns": [
        {
         "name": "user_id",
         "rawType": "object",
         "type": "string"
        },
        {
         "name": "num_events",
         "rawType": "int64",
         "type": "integer"
        }
       ],
       "conversionMethod": "pd.DataFrame",
       "ref": "a72358c1-2d52-4d40-acdb-44da0e18b36d",
       "rows": [
        [
         "7AD8C257F34EF098",
         "10"
        ],
        [
         "D8A179719760ADA0",
         "10"
        ],
        [
         "73E6A2E2A78FDF29",
         "9"
        ],
        [
         "EE24C237DFB1ACEF",
         "9"
        ],
        [
         "DFE346880E238754",
         "9"
        ],
        [
         "5F052474F462183E",
         "9"
        ],
        [
         "B06E6F4555C20B88",
         "9"
        ],
        [
         "A3917F81482141F2",
         "9"
        ],
        [
         "2582B371A9F46EB3",
         "9"
        ],
        [
         "D0B5193D2F44F591",
         "9"
        ],
        [
         "34CC2B87D754D275",
         "8"
        ],
        [
         "8AEB716C4CD82CA7",
         "8"
        ],
        [
         "1E5EDB3DCD535245",
         "8"
        ],
        [
         "A0E526F952DD6BBD",
         "8"
        ],
        [
         "56A79BCDAC0863BF",
         "8"
        ],
        [
         "B7215FAF1C52AFFE",
         "8"
        ],
        [
         "30139A499184EAA9",
         "8"
        ],
        [
         "4EB676EE366D465A",
         "8"
        ],
        [
         "6EE0AF5ED7D9815C",
         "8"
        ],
        [
         "F9546089ABE9B926",
         "8"
        ],
        [
         "3A1BCD4F93D6981E",
         "8"
        ],
        [
         "7FC78B11F135AFE3",
         "8"
        ],
        [
         "2EA5ACC47D6D0EA1",
         "8"
        ],
        [
         "BA87FD8D70D63CC6",
         "8"
        ],
        [
         "4584E51B99DE51AE",
         "8"
        ],
        [
         "115EBC1CA027854A",
         "8"
        ],
        [
         "3D954B498A732F47",
         "8"
        ],
        [
         "37897D3F240D19D2",
         "8"
        ],
        [
         "7D95DD6688AC5218",
         "8"
        ],
        [
         "CB2153064AD21D7C",
         "8"
        ],
        [
         "32FB307526B1EE1F",
         "8"
        ],
        [
         "5B2FB681EA81D68A",
         "8"
        ],
        [
         "E950E06A83501537",
         "8"
        ],
        [
         "6CCFC29639529624",
         "8"
        ],
        [
         "10985A83D17A3796",
         "8"
        ],
        [
         "8C3CC85849CA91A2",
         "8"
        ],
        [
         "203773F2A53233A8",
         "8"
        ],
        [
         "B0DFBE0C622F29B4",
         "8"
        ],
        [
         "365C8B51237C61AF",
         "8"
        ],
        [
         "E9CD617EAE53EB60",
         "8"
        ],
        [
         "11285A53EC2B2042",
         "8"
        ],
        [
         "90E3FA377F06B95D",
         "8"
        ],
        [
         "DA8EE9A33CAE2C35",
         "8"
        ],
        [
         "24E0296802353082",
         "8"
        ],
        [
         "595E9AB9BE4D7A77",
         "8"
        ],
        [
         "00299902F77C0C2C",
         "8"
        ],
        [
         "426330B820B8711A",
         "8"
        ],
        [
         "11D7520862C09246",
         "7"
        ],
        [
         "54E544DA285F65AF",
         "7"
        ],
        [
         "2E4867A5FC5F4DC0",
         "7"
        ]
       ],
       "shape": {
        "columns": 1,
        "rows": 19284
       }
      },
      "text/html": [
       "<div>\n",
       "<style scoped>\n",
       "    .dataframe tbody tr th:only-of-type {\n",
       "        vertical-align: middle;\n",
       "    }\n",
       "\n",
       "    .dataframe tbody tr th {\n",
       "        vertical-align: top;\n",
       "    }\n",
       "\n",
       "    .dataframe thead th {\n",
       "        text-align: right;\n",
       "    }\n",
       "</style>\n",
       "<table border=\"1\" class=\"dataframe\">\n",
       "  <thead>\n",
       "    <tr style=\"text-align: right;\">\n",
       "      <th></th>\n",
       "      <th>num_events</th>\n",
       "    </tr>\n",
       "    <tr>\n",
       "      <th>user_id</th>\n",
       "      <th></th>\n",
       "    </tr>\n",
       "  </thead>\n",
       "  <tbody>\n",
       "    <tr>\n",
       "      <th>7AD8C257F34EF098</th>\n",
       "      <td>10</td>\n",
       "    </tr>\n",
       "    <tr>\n",
       "      <th>D8A179719760ADA0</th>\n",
       "      <td>10</td>\n",
       "    </tr>\n",
       "    <tr>\n",
       "      <th>73E6A2E2A78FDF29</th>\n",
       "      <td>9</td>\n",
       "    </tr>\n",
       "    <tr>\n",
       "      <th>EE24C237DFB1ACEF</th>\n",
       "      <td>9</td>\n",
       "    </tr>\n",
       "    <tr>\n",
       "      <th>DFE346880E238754</th>\n",
       "      <td>9</td>\n",
       "    </tr>\n",
       "    <tr>\n",
       "      <th>...</th>\n",
       "      <td>...</td>\n",
       "    </tr>\n",
       "    <tr>\n",
       "      <th>6C0DC482ACAC0DDC</th>\n",
       "      <td>1</td>\n",
       "    </tr>\n",
       "    <tr>\n",
       "      <th>470564EDB9DB83F8</th>\n",
       "      <td>1</td>\n",
       "    </tr>\n",
       "    <tr>\n",
       "      <th>94823CF97FBC9CDA</th>\n",
       "      <td>1</td>\n",
       "    </tr>\n",
       "    <tr>\n",
       "      <th>5D323BC9443250FA</th>\n",
       "      <td>1</td>\n",
       "    </tr>\n",
       "    <tr>\n",
       "      <th>A51AD5483FDCFA50</th>\n",
       "      <td>1</td>\n",
       "    </tr>\n",
       "  </tbody>\n",
       "</table>\n",
       "<p>19284 rows × 1 columns</p>\n",
       "</div>"
      ],
      "text/plain": [
       "                  num_events\n",
       "user_id                     \n",
       "7AD8C257F34EF098          10\n",
       "D8A179719760ADA0          10\n",
       "73E6A2E2A78FDF29           9\n",
       "EE24C237DFB1ACEF           9\n",
       "DFE346880E238754           9\n",
       "...                      ...\n",
       "6C0DC482ACAC0DDC           1\n",
       "470564EDB9DB83F8           1\n",
       "94823CF97FBC9CDA           1\n",
       "5D323BC9443250FA           1\n",
       "A51AD5483FDCFA50           1\n",
       "\n",
       "[19284 rows x 1 columns]"
      ]
     },
     "execution_count": 308,
     "metadata": {},
     "output_type": "execute_result"
    }
   ],
   "source": [
    "df_user_events[(df_user_events['event_name'] == 'product_cart') & (df_user_events['user_id'].duplicated(keep=False))].groupby('user_id').agg(num_events = ('event_dt','count')).sort_values('num_events', ascending=False)"
   ]
  },
  {
   "cell_type": "markdown",
   "id": "af4bc068",
   "metadata": {},
   "source": [
    "- Tenemos usuarios que a lo largo de varios días adjuntan múltiples veces productos en su carrito, por eso está inflado el conteo de \"product_cart\""
   ]
  },
  {
   "cell_type": "markdown",
   "id": "518ddbe3",
   "metadata": {},
   "source": [
    "- Número de eventos por usuarios clasificados por grupos\n",
    "- Ya que la prueba que nos interesa es la de \"recommender_system_test\", nos quedaremos con esos valores"
   ]
  },
  {
   "cell_type": "code",
   "execution_count": 309,
   "id": "1ecce9c9",
   "metadata": {},
   "outputs": [
    {
     "data": {
      "application/vnd.microsoft.datawrangler.viewer.v0+json": {
       "columns": [
        {
         "name": "index",
         "rawType": "int64",
         "type": "integer"
        },
        {
         "name": "user_id",
         "rawType": "object",
         "type": "string"
        },
        {
         "name": "event_dt",
         "rawType": "datetime64[ns]",
         "type": "datetime"
        },
        {
         "name": "event_name",
         "rawType": "object",
         "type": "string"
        },
        {
         "name": "details",
         "rawType": "float64",
         "type": "float"
        },
        {
         "name": "event_day",
         "rawType": "int32",
         "type": "integer"
        },
        {
         "name": "group",
         "rawType": "object",
         "type": "string"
        },
        {
         "name": "ab_test",
         "rawType": "object",
         "type": "string"
        }
       ],
       "conversionMethod": "pd.DataFrame",
       "ref": "6548292a-ab02-4bf8-be95-a348cf3df1cf",
       "rows": [
        [
         "0",
         "831887FE7F2D6CBA",
         "2020-12-07 06:50:29",
         "purchase",
         "4.99",
         "7",
         "A",
         "recommender_system_test"
        ],
        [
         "1",
         "3C5DD0288AC4FE23",
         "2020-12-07 19:42:40",
         "purchase",
         "4.99",
         "7",
         "A",
         "recommender_system_test"
        ],
        [
         "2",
         "49EA242586C87836",
         "2020-12-07 06:31:24",
         "purchase",
         "99.99",
         "7",
         "B",
         "recommender_system_test"
        ],
        [
         "3",
         "2B06EB547B7AAD08",
         "2020-12-07 21:36:38",
         "purchase",
         "4.99",
         "7",
         "A",
         "recommender_system_test"
        ],
        [
         "4",
         "A640F31CAC7823A6",
         "2020-12-07 18:48:26",
         "purchase",
         "4.99",
         "7",
         "B",
         "recommender_system_test"
        ],
        [
         "5",
         "2F46396B6766CFDB",
         "2020-12-07 13:29:30",
         "purchase",
         "4.99",
         "7",
         "A",
         "recommender_system_test"
        ],
        [
         "6",
         "538F954F6B3AECE4",
         "2020-12-07 07:12:05",
         "purchase",
         "4.99",
         "7",
         "A",
         "recommender_system_test"
        ],
        [
         "7",
         "A9908F62C41613A8",
         "2020-12-07 11:26:47",
         "purchase",
         "9.99",
         "7",
         "B",
         "recommender_system_test"
        ],
        [
         "8",
         "0997EC1C4850B27B",
         "2020-12-07 08:01:55",
         "purchase",
         "4.99",
         "7",
         "B",
         "recommender_system_test"
        ],
        [
         "9",
         "C7CB2F1BA42F102B",
         "2020-12-07 03:05:05",
         "purchase",
         "99.99",
         "7",
         "B",
         "recommender_system_test"
        ],
        [
         "10",
         "CF03E97B314C5632",
         "2020-12-07 13:36:54",
         "purchase",
         "4.99",
         "7",
         "B",
         "recommender_system_test"
        ],
        [
         "11",
         "D928E12DD731B2EE",
         "2020-12-07 09:27:00",
         "purchase",
         "4.99",
         "7",
         "B",
         "recommender_system_test"
        ],
        [
         "12",
         "2828E6688DC580C4",
         "2020-12-07 11:43:42",
         "purchase",
         "4.99",
         "7",
         "A",
         "recommender_system_test"
        ],
        [
         "13",
         "58E6F67F64314776",
         "2020-12-07 08:25:53",
         "purchase",
         "4.99",
         "7",
         "B",
         "recommender_system_test"
        ],
        [
         "14",
         "D2ACA8F6E2C79C02",
         "2020-12-07 01:46:33",
         "purchase",
         "4.99",
         "7",
         "B",
         "recommender_system_test"
        ],
        [
         "15",
         "DD5EBF41B1DCCB0E",
         "2020-12-07 19:21:29",
         "purchase",
         "4.99",
         "7",
         "A",
         "recommender_system_test"
        ],
        [
         "16",
         "A1550AF89E314963",
         "2020-12-07 01:22:52",
         "purchase",
         "4.99",
         "7",
         "A",
         "recommender_system_test"
        ],
        [
         "17",
         "5E0FE312B9349ADB",
         "2020-12-07 16:28:15",
         "purchase",
         "4.99",
         "7",
         "B",
         "recommender_system_test"
        ],
        [
         "18",
         "796235FF6E88D357",
         "2020-12-07 12:50:10",
         "purchase",
         "9.99",
         "7",
         "A",
         "recommender_system_test"
        ],
        [
         "19",
         "EE90C1C80B415747",
         "2020-12-07 16:43:32",
         "purchase",
         "99.99",
         "7",
         "A",
         "recommender_system_test"
        ],
        [
         "20",
         "F5B7DA8807EC1AF7",
         "2020-12-07 00:31:08",
         "purchase",
         "9.99",
         "7",
         "A",
         "recommender_system_test"
        ],
        [
         "21",
         "0EA9AB1C2A159C77",
         "2020-12-07 23:36:46",
         "purchase",
         "99.99",
         "7",
         "A",
         "recommender_system_test"
        ],
        [
         "22",
         "7A5A2E9D57A39232",
         "2020-12-07 18:35:21",
         "purchase",
         "4.99",
         "7",
         "A",
         "recommender_system_test"
        ],
        [
         "23",
         "6F76F492BDB91570",
         "2020-12-07 02:53:41",
         "purchase",
         "4.99",
         "7",
         "A",
         "recommender_system_test"
        ],
        [
         "24",
         "C286A270CFB9925D",
         "2020-12-07 08:37:36",
         "purchase",
         "4.99",
         "7",
         "A",
         "recommender_system_test"
        ],
        [
         "25",
         "76326F7A53D2008C",
         "2020-12-07 15:06:04",
         "purchase",
         "4.99",
         "7",
         "B",
         "recommender_system_test"
        ],
        [
         "26",
         "3B6ABE8E7872977E",
         "2020-12-07 22:33:04",
         "purchase",
         "4.99",
         "7",
         "B",
         "recommender_system_test"
        ],
        [
         "27",
         "77FC0E20AEAC1506",
         "2020-12-07 04:59:28",
         "purchase",
         "4.99",
         "7",
         "A",
         "recommender_system_test"
        ],
        [
         "28",
         "7E8720DB6A21CF66",
         "2020-12-07 13:28:52",
         "purchase",
         "4.99",
         "7",
         "B",
         "recommender_system_test"
        ],
        [
         "29",
         "618D7AD9FE73843C",
         "2020-12-07 07:11:54",
         "purchase",
         "99.99",
         "7",
         "A",
         "recommender_system_test"
        ],
        [
         "30",
         "B0D0F552D955E773",
         "2020-12-07 02:38:27",
         "purchase",
         "4.99",
         "7",
         "B",
         "recommender_system_test"
        ],
        [
         "31",
         "021E3EC8A37EE2E3",
         "2020-12-07 14:04:43",
         "purchase",
         "4.99",
         "7",
         "A",
         "recommender_system_test"
        ],
        [
         "32",
         "68373F4331DDD2E6",
         "2020-12-07 10:19:55",
         "purchase",
         "99.99",
         "7",
         "A",
         "recommender_system_test"
        ],
        [
         "33",
         "A348429F143159AD",
         "2020-12-07 02:45:38",
         "purchase",
         "4.99",
         "7",
         "A",
         "recommender_system_test"
        ],
        [
         "34",
         "D6B4574EE9574666",
         "2020-12-07 04:15:10",
         "purchase",
         "9.99",
         "7",
         "B",
         "recommender_system_test"
        ],
        [
         "35",
         "748DD5E33B6F98C3",
         "2020-12-07 08:04:37",
         "purchase",
         "4.99",
         "7",
         "A",
         "recommender_system_test"
        ],
        [
         "36",
         "B582D211C1BE1FFD",
         "2020-12-07 08:55:18",
         "purchase",
         "4.99",
         "7",
         "B",
         "recommender_system_test"
        ],
        [
         "37",
         "2486564D8219E23F",
         "2020-12-07 20:23:30",
         "purchase",
         "4.99",
         "7",
         "A",
         "recommender_system_test"
        ],
        [
         "38",
         "56E03288981E9B3D",
         "2020-12-07 10:45:31",
         "purchase",
         "4.99",
         "7",
         "B",
         "recommender_system_test"
        ],
        [
         "39",
         "320CE96A266DF0CC",
         "2020-12-07 21:41:31",
         "purchase",
         "4.99",
         "7",
         "B",
         "recommender_system_test"
        ],
        [
         "40",
         "3242BDDFA690A22B",
         "2020-12-07 18:10:54",
         "purchase",
         "4.99",
         "7",
         "B",
         "recommender_system_test"
        ],
        [
         "41",
         "C90BE197FEC95F6B",
         "2020-12-07 15:21:38",
         "purchase",
         "4.99",
         "7",
         "B",
         "recommender_system_test"
        ],
        [
         "42",
         "8FC9D1BB3017BE66",
         "2020-12-07 00:07:47",
         "purchase",
         "4.99",
         "7",
         "B",
         "recommender_system_test"
        ],
        [
         "43",
         "8FF91E21E27A330D",
         "2020-12-07 01:57:30",
         "purchase",
         "4.99",
         "7",
         "B",
         "recommender_system_test"
        ],
        [
         "44",
         "A5392D494EB71414",
         "2020-12-07 21:56:13",
         "purchase",
         "4.99",
         "7",
         "B",
         "recommender_system_test"
        ],
        [
         "45",
         "B192F2514CCD10B2",
         "2020-12-07 06:43:19",
         "purchase",
         "4.99",
         "7",
         "A",
         "recommender_system_test"
        ],
        [
         "46",
         "B0244412983000C5",
         "2020-12-07 14:18:05",
         "purchase",
         "4.99",
         "7",
         "B",
         "recommender_system_test"
        ],
        [
         "47",
         "825AED81399E5243",
         "2020-12-07 18:39:10",
         "purchase",
         "4.99",
         "7",
         "B",
         "recommender_system_test"
        ],
        [
         "48",
         "890FAC5B9F47563F",
         "2020-12-07 13:00:18",
         "purchase",
         "4.99",
         "7",
         "B",
         "recommender_system_test"
        ],
        [
         "49",
         "42927355A29BF1FE",
         "2020-12-07 22:31:44",
         "purchase",
         "4.99",
         "7",
         "A",
         "recommender_system_test"
        ]
       ],
       "shape": {
        "columns": 7,
        "rows": 23909
       }
      },
      "text/html": [
       "<div>\n",
       "<style scoped>\n",
       "    .dataframe tbody tr th:only-of-type {\n",
       "        vertical-align: middle;\n",
       "    }\n",
       "\n",
       "    .dataframe tbody tr th {\n",
       "        vertical-align: top;\n",
       "    }\n",
       "\n",
       "    .dataframe thead th {\n",
       "        text-align: right;\n",
       "    }\n",
       "</style>\n",
       "<table border=\"1\" class=\"dataframe\">\n",
       "  <thead>\n",
       "    <tr style=\"text-align: right;\">\n",
       "      <th></th>\n",
       "      <th>user_id</th>\n",
       "      <th>event_dt</th>\n",
       "      <th>event_name</th>\n",
       "      <th>details</th>\n",
       "      <th>event_day</th>\n",
       "      <th>group</th>\n",
       "      <th>ab_test</th>\n",
       "    </tr>\n",
       "  </thead>\n",
       "  <tbody>\n",
       "    <tr>\n",
       "      <th>0</th>\n",
       "      <td>831887FE7F2D6CBA</td>\n",
       "      <td>2020-12-07 06:50:29</td>\n",
       "      <td>purchase</td>\n",
       "      <td>4.99</td>\n",
       "      <td>7</td>\n",
       "      <td>A</td>\n",
       "      <td>recommender_system_test</td>\n",
       "    </tr>\n",
       "    <tr>\n",
       "      <th>1</th>\n",
       "      <td>3C5DD0288AC4FE23</td>\n",
       "      <td>2020-12-07 19:42:40</td>\n",
       "      <td>purchase</td>\n",
       "      <td>4.99</td>\n",
       "      <td>7</td>\n",
       "      <td>A</td>\n",
       "      <td>recommender_system_test</td>\n",
       "    </tr>\n",
       "    <tr>\n",
       "      <th>2</th>\n",
       "      <td>49EA242586C87836</td>\n",
       "      <td>2020-12-07 06:31:24</td>\n",
       "      <td>purchase</td>\n",
       "      <td>99.99</td>\n",
       "      <td>7</td>\n",
       "      <td>B</td>\n",
       "      <td>recommender_system_test</td>\n",
       "    </tr>\n",
       "    <tr>\n",
       "      <th>3</th>\n",
       "      <td>2B06EB547B7AAD08</td>\n",
       "      <td>2020-12-07 21:36:38</td>\n",
       "      <td>purchase</td>\n",
       "      <td>4.99</td>\n",
       "      <td>7</td>\n",
       "      <td>A</td>\n",
       "      <td>recommender_system_test</td>\n",
       "    </tr>\n",
       "    <tr>\n",
       "      <th>4</th>\n",
       "      <td>A640F31CAC7823A6</td>\n",
       "      <td>2020-12-07 18:48:26</td>\n",
       "      <td>purchase</td>\n",
       "      <td>4.99</td>\n",
       "      <td>7</td>\n",
       "      <td>B</td>\n",
       "      <td>recommender_system_test</td>\n",
       "    </tr>\n",
       "    <tr>\n",
       "      <th>...</th>\n",
       "      <td>...</td>\n",
       "      <td>...</td>\n",
       "      <td>...</td>\n",
       "      <td>...</td>\n",
       "      <td>...</td>\n",
       "      <td>...</td>\n",
       "      <td>...</td>\n",
       "    </tr>\n",
       "    <tr>\n",
       "      <th>23904</th>\n",
       "      <td>D21F0D4FDCD82DB2</td>\n",
       "      <td>2020-12-29 02:17:00</td>\n",
       "      <td>login</td>\n",
       "      <td>NaN</td>\n",
       "      <td>29</td>\n",
       "      <td>A</td>\n",
       "      <td>recommender_system_test</td>\n",
       "    </tr>\n",
       "    <tr>\n",
       "      <th>23905</th>\n",
       "      <td>96BDD55846D1F7F6</td>\n",
       "      <td>2020-12-29 16:53:42</td>\n",
       "      <td>login</td>\n",
       "      <td>NaN</td>\n",
       "      <td>29</td>\n",
       "      <td>A</td>\n",
       "      <td>recommender_system_test</td>\n",
       "    </tr>\n",
       "    <tr>\n",
       "      <th>23906</th>\n",
       "      <td>553BAE96C6EB6240</td>\n",
       "      <td>2020-12-29 14:09:14</td>\n",
       "      <td>login</td>\n",
       "      <td>NaN</td>\n",
       "      <td>29</td>\n",
       "      <td>A</td>\n",
       "      <td>recommender_system_test</td>\n",
       "    </tr>\n",
       "    <tr>\n",
       "      <th>23907</th>\n",
       "      <td>DD4352CDCF8C3D57</td>\n",
       "      <td>2020-12-30 12:42:56</td>\n",
       "      <td>login</td>\n",
       "      <td>NaN</td>\n",
       "      <td>30</td>\n",
       "      <td>B</td>\n",
       "      <td>recommender_system_test</td>\n",
       "    </tr>\n",
       "    <tr>\n",
       "      <th>23908</th>\n",
       "      <td>75845C83258FBF73</td>\n",
       "      <td>2020-12-30 06:42:52</td>\n",
       "      <td>login</td>\n",
       "      <td>NaN</td>\n",
       "      <td>30</td>\n",
       "      <td>B</td>\n",
       "      <td>recommender_system_test</td>\n",
       "    </tr>\n",
       "  </tbody>\n",
       "</table>\n",
       "<p>23909 rows × 7 columns</p>\n",
       "</div>"
      ],
      "text/plain": [
       "                user_id            event_dt event_name  details  event_day  \\\n",
       "0      831887FE7F2D6CBA 2020-12-07 06:50:29   purchase     4.99          7   \n",
       "1      3C5DD0288AC4FE23 2020-12-07 19:42:40   purchase     4.99          7   \n",
       "2      49EA242586C87836 2020-12-07 06:31:24   purchase    99.99          7   \n",
       "3      2B06EB547B7AAD08 2020-12-07 21:36:38   purchase     4.99          7   \n",
       "4      A640F31CAC7823A6 2020-12-07 18:48:26   purchase     4.99          7   \n",
       "...                 ...                 ...        ...      ...        ...   \n",
       "23904  D21F0D4FDCD82DB2 2020-12-29 02:17:00      login      NaN         29   \n",
       "23905  96BDD55846D1F7F6 2020-12-29 16:53:42      login      NaN         29   \n",
       "23906  553BAE96C6EB6240 2020-12-29 14:09:14      login      NaN         29   \n",
       "23907  DD4352CDCF8C3D57 2020-12-30 12:42:56      login      NaN         30   \n",
       "23908  75845C83258FBF73 2020-12-30 06:42:52      login      NaN         30   \n",
       "\n",
       "      group                  ab_test  \n",
       "0         A  recommender_system_test  \n",
       "1         A  recommender_system_test  \n",
       "2         B  recommender_system_test  \n",
       "3         A  recommender_system_test  \n",
       "4         B  recommender_system_test  \n",
       "...     ...                      ...  \n",
       "23904     A  recommender_system_test  \n",
       "23905     A  recommender_system_test  \n",
       "23906     A  recommender_system_test  \n",
       "23907     B  recommender_system_test  \n",
       "23908     B  recommender_system_test  \n",
       "\n",
       "[23909 rows x 7 columns]"
      ]
     },
     "execution_count": 309,
     "metadata": {},
     "output_type": "execute_result"
    }
   ],
   "source": [
    "df_ab_real = df_ab.query('ab_test == \"recommender_system_test\"')\n",
    "\n",
    "# Merge de la clasificación de usuarios con los eventos\n",
    "\n",
    "df_events_ab = df_user_events.merge(df_ab_real, on='user_id', how='inner')\n",
    "\n",
    "df_events_ab"
   ]
  },
  {
   "cell_type": "markdown",
   "id": "6837fdd7",
   "metadata": {},
   "source": [
    "- Haremos nuevamente el embudo ahora únicamente con gente de la prueba AB"
   ]
  },
  {
   "cell_type": "code",
   "execution_count": 310,
   "id": "df75d702",
   "metadata": {},
   "outputs": [
    {
     "data": {
      "application/vnd.microsoft.datawrangler.viewer.v0+json": {
       "columns": [
        {
         "name": "event_name",
         "rawType": "object",
         "type": "string"
        },
        {
         "name": "num_users",
         "rawType": "int64",
         "type": "integer"
        },
        {
         "name": "conversion_rate",
         "rawType": "float64",
         "type": "float"
        },
        {
         "name": "cumulative_conversion",
         "rawType": "float64",
         "type": "float"
        }
       ],
       "conversionMethod": "pd.DataFrame",
       "ref": "0482ae32-8880-42bd-8d33-bbaaf11662d3",
       "rows": [
        [
         "login",
         "10837",
         null,
         "1.0"
        ],
        [
         "product_page",
         "6702",
         "0.6184368367629418",
         "0.6184368367629418"
        ],
        [
         "purchase",
         "3210",
         "0.4789615040286482",
         "0.2962074374826982"
        ],
        [
         "product_cart",
         "3160",
         "0.9844236760124611",
         "0.291593614468949"
        ]
       ],
       "shape": {
        "columns": 3,
        "rows": 4
       }
      },
      "text/html": [
       "<div>\n",
       "<style scoped>\n",
       "    .dataframe tbody tr th:only-of-type {\n",
       "        vertical-align: middle;\n",
       "    }\n",
       "\n",
       "    .dataframe tbody tr th {\n",
       "        vertical-align: top;\n",
       "    }\n",
       "\n",
       "    .dataframe thead th {\n",
       "        text-align: right;\n",
       "    }\n",
       "</style>\n",
       "<table border=\"1\" class=\"dataframe\">\n",
       "  <thead>\n",
       "    <tr style=\"text-align: right;\">\n",
       "      <th></th>\n",
       "      <th>num_users</th>\n",
       "      <th>conversion_rate</th>\n",
       "      <th>cumulative_conversion</th>\n",
       "    </tr>\n",
       "    <tr>\n",
       "      <th>event_name</th>\n",
       "      <th></th>\n",
       "      <th></th>\n",
       "      <th></th>\n",
       "    </tr>\n",
       "  </thead>\n",
       "  <tbody>\n",
       "    <tr>\n",
       "      <th>login</th>\n",
       "      <td>10837</td>\n",
       "      <td>NaN</td>\n",
       "      <td>1.000000</td>\n",
       "    </tr>\n",
       "    <tr>\n",
       "      <th>product_page</th>\n",
       "      <td>6702</td>\n",
       "      <td>0.618437</td>\n",
       "      <td>0.618437</td>\n",
       "    </tr>\n",
       "    <tr>\n",
       "      <th>purchase</th>\n",
       "      <td>3210</td>\n",
       "      <td>0.478962</td>\n",
       "      <td>0.296207</td>\n",
       "    </tr>\n",
       "    <tr>\n",
       "      <th>product_cart</th>\n",
       "      <td>3160</td>\n",
       "      <td>0.984424</td>\n",
       "      <td>0.291594</td>\n",
       "    </tr>\n",
       "  </tbody>\n",
       "</table>\n",
       "</div>"
      ],
      "text/plain": [
       "              num_users  conversion_rate  cumulative_conversion\n",
       "event_name                                                     \n",
       "login             10837              NaN               1.000000\n",
       "product_page       6702         0.618437               0.618437\n",
       "purchase           3210         0.478962               0.296207\n",
       "product_cart       3160         0.984424               0.291594"
      ]
     },
     "execution_count": 310,
     "metadata": {},
     "output_type": "execute_result"
    }
   ],
   "source": [
    "event_funnel_AB = df_events_ab.groupby('event_name').agg(num_users = ('user_id','count')).sort_values('num_users', ascending=False)\n",
    "\n",
    "# Tasa de conversión de una etapa a otra\n",
    "\n",
    "event_funnel_AB['conversion_rate'] = event_funnel_AB['num_users'] / event_funnel_AB['num_users'].shift(1)\n",
    "\n",
    "# Conversión acumulada desde el inicio\n",
    "\n",
    "event_funnel_AB['cumulative_conversion'] = event_funnel_AB['num_users'] / event_funnel_AB['num_users'].iloc[0]\n",
    "\n",
    "event_funnel_AB"
   ]
  },
  {
   "cell_type": "code",
   "execution_count": 311,
   "id": "22a0ba59",
   "metadata": {},
   "outputs": [
    {
     "data": {
      "image/png": "[encoded data removed]",
      "text/plain": [
       "<Figure size 640x480 with 1 Axes>"
      ]
     },
     "metadata": {},
     "output_type": "display_data"
    }
   ],
   "source": [
    "# Gráfico\n",
    "\n",
    "event_funnel_AB['num_users'].plot(kind='barh', color='purple')\n",
    "\n",
    "plt.title('Events funnel on AB users')\n",
    "plt.xlabel('Event name')\n",
    "plt.ylabel('Number of users')\n",
    "plt.gca().invert_yaxis() \n",
    "plt.tight_layout()\n",
    "\n",
    "for i, (value, name) in enumerate(zip(event_funnel_AB['num_users'], event_funnel_AB.index)):\n",
    "    plt.text(value + 5, i, str(value), va='center')\n",
    "\n",
    "plt.show()"
   ]
  },
  {
   "cell_type": "markdown",
   "id": "ee1986d9",
   "metadata": {},
   "source": [
    "- Tenemos la misma peculiaridad de más compras que agregaciones al carrito de compras."
   ]
  },
  {
   "cell_type": "code",
   "execution_count": 312,
   "id": "c0625fb0",
   "metadata": {},
   "outputs": [
    {
     "data": {
      "application/vnd.microsoft.datawrangler.viewer.v0+json": {
       "columns": [
        {
         "name": "group",
         "rawType": "object",
         "type": "string"
        },
        {
         "name": "event_count",
         "rawType": "int64",
         "type": "integer"
        }
       ],
       "conversionMethod": "pd.DataFrame",
       "ref": "cbdd98f5-4e23-49cb-b325-3aa04cf7b712",
       "rows": [
        [
         "A",
         "18627"
        ],
        [
         "B",
         "5282"
        ]
       ],
       "shape": {
        "columns": 1,
        "rows": 2
       }
      },
      "text/html": [
       "<div>\n",
       "<style scoped>\n",
       "    .dataframe tbody tr th:only-of-type {\n",
       "        vertical-align: middle;\n",
       "    }\n",
       "\n",
       "    .dataframe tbody tr th {\n",
       "        vertical-align: top;\n",
       "    }\n",
       "\n",
       "    .dataframe thead th {\n",
       "        text-align: right;\n",
       "    }\n",
       "</style>\n",
       "<table border=\"1\" class=\"dataframe\">\n",
       "  <thead>\n",
       "    <tr style=\"text-align: right;\">\n",
       "      <th></th>\n",
       "      <th>event_count</th>\n",
       "    </tr>\n",
       "    <tr>\n",
       "      <th>group</th>\n",
       "      <th></th>\n",
       "    </tr>\n",
       "  </thead>\n",
       "  <tbody>\n",
       "    <tr>\n",
       "      <th>A</th>\n",
       "      <td>18627</td>\n",
       "    </tr>\n",
       "    <tr>\n",
       "      <th>B</th>\n",
       "      <td>5282</td>\n",
       "    </tr>\n",
       "  </tbody>\n",
       "</table>\n",
       "</div>"
      ],
      "text/plain": [
       "       event_count\n",
       "group             \n",
       "A            18627\n",
       "B             5282"
      ]
     },
     "execution_count": 312,
     "metadata": {},
     "output_type": "execute_result"
    }
   ],
   "source": [
    "# Numero de eventos por usuario\n",
    "\n",
    "df_events_ab.groupby('group').agg(event_count = ('event_name','count'))"
   ]
  },
  {
   "cell_type": "markdown",
   "id": "31e7d579",
   "metadata": {},
   "source": [
    "- Tenemos mucha más gente con eventos en el grupo A que en el grupo B, no obstante, ya que el objeto de estudio es la conversión, se puede adecuar el total por proporciones."
   ]
  },
  {
   "cell_type": "markdown",
   "id": "b2f99a67",
   "metadata": {},
   "source": [
    "- Queremos también revisar si hay usuarios que aparezcan en ambas muestras (grupos)"
   ]
  },
  {
   "cell_type": "code",
   "execution_count": 313,
   "id": "52a0be59",
   "metadata": {},
   "outputs": [
    {
     "data": {
      "application/vnd.microsoft.datawrangler.viewer.v0+json": {
       "columns": [
        {
         "name": "user_id",
         "rawType": "object",
         "type": "string"
        },
        {
         "name": "number_of_groups",
         "rawType": "int64",
         "type": "integer"
        }
       ],
       "conversionMethod": "pd.DataFrame",
       "ref": "db121c04-c2f2-4c83-85dc-b57f9f82e645",
       "rows": [
        [
         "001064FEAAB631A1",
         "1"
        ],
        [
         "AAB4D11666ADB943",
         "1"
        ],
        [
         "AAD72B195EFC73A4",
         "1"
        ],
        [
         "AAE1914BDB419328",
         "1"
        ],
        [
         "AAE4A39A0DF719AD",
         "1"
        ],
        [
         "AAED5CBA66F1C55B",
         "1"
        ],
        [
         "AAEE1D820ABE40A8",
         "1"
        ],
        [
         "AAF83E489AE98FA9",
         "1"
        ],
        [
         "AB0D9A9D709F476A",
         "1"
        ],
        [
         "AB30C03FCEC72466",
         "1"
        ],
        [
         "AB4EA096BF581CFB",
         "1"
        ],
        [
         "AB520A42EB5EB73F",
         "1"
        ],
        [
         "AB5EF9587051A99D",
         "1"
        ],
        [
         "AB6503E1E4E11ABD",
         "1"
        ],
        [
         "AB654E0B6C2B28EA",
         "1"
        ],
        [
         "AB835FC2AEE6086A",
         "1"
        ],
        [
         "AB88A0F609618A2A",
         "1"
        ],
        [
         "AB94ADBD1345E896",
         "1"
        ],
        [
         "AB9BA5CAE5443913",
         "1"
        ],
        [
         "AB9FC93BA7D79E5B",
         "1"
        ],
        [
         "ABABE1BAB6C77540",
         "1"
        ],
        [
         "ABB61823786179CC",
         "1"
        ],
        [
         "ABBC1318F774F1C7",
         "1"
        ],
        [
         "ABC0D4B6F3DE650C",
         "1"
        ],
        [
         "ABDE941B896D8119",
         "1"
        ],
        [
         "ABDF598124F75D8E",
         "1"
        ],
        [
         "ABFF0B9BAD11BB5D",
         "1"
        ],
        [
         "AAD4A279D0470A06",
         "1"
        ],
        [
         "AAA7DF27B5BD4FBA",
         "1"
        ],
        [
         "A907C114B5846EF0",
         "1"
        ],
        [
         "AA825CB62FB0EC0B",
         "1"
        ],
        [
         "A926366D229CB25C",
         "1"
        ],
        [
         "A92B46A5445A080D",
         "1"
        ],
        [
         "A944D2BCDFD50619",
         "1"
        ],
        [
         "A95172F80393487E",
         "1"
        ],
        [
         "A980A65F42FB1BB4",
         "1"
        ],
        [
         "A9908F62C41613A8",
         "1"
        ],
        [
         "A9A74277A0BF0A74",
         "1"
        ],
        [
         "A9AEA9BAAB4F518A",
         "1"
        ],
        [
         "A9C96F18EA2D7255",
         "1"
        ],
        [
         "A9DABAEA2233576C",
         "1"
        ],
        [
         "A9E00FF5F347A0E3",
         "1"
        ],
        [
         "A9E0A8057A5F07D1",
         "1"
        ],
        [
         "A9F4C82F705BDAF9",
         "1"
        ],
        [
         "A9F98D05DDAA14D4",
         "1"
        ],
        [
         "A9FD3F191C010525",
         "1"
        ],
        [
         "AA0D36EF3DBFCC9F",
         "1"
        ],
        [
         "AA116D67C4F48D50",
         "1"
        ],
        [
         "AA2AF93B4E57D177",
         "1"
        ],
        [
         "AA364AF6A253170F",
         "1"
        ]
       ],
       "shape": {
        "columns": 1,
        "rows": 3675
       }
      },
      "text/html": [
       "<div>\n",
       "<style scoped>\n",
       "    .dataframe tbody tr th:only-of-type {\n",
       "        vertical-align: middle;\n",
       "    }\n",
       "\n",
       "    .dataframe tbody tr th {\n",
       "        vertical-align: top;\n",
       "    }\n",
       "\n",
       "    .dataframe thead th {\n",
       "        text-align: right;\n",
       "    }\n",
       "</style>\n",
       "<table border=\"1\" class=\"dataframe\">\n",
       "  <thead>\n",
       "    <tr style=\"text-align: right;\">\n",
       "      <th></th>\n",
       "      <th>number_of_groups</th>\n",
       "    </tr>\n",
       "    <tr>\n",
       "      <th>user_id</th>\n",
       "      <th></th>\n",
       "    </tr>\n",
       "  </thead>\n",
       "  <tbody>\n",
       "    <tr>\n",
       "      <th>001064FEAAB631A1</th>\n",
       "      <td>1</td>\n",
       "    </tr>\n",
       "    <tr>\n",
       "      <th>AAB4D11666ADB943</th>\n",
       "      <td>1</td>\n",
       "    </tr>\n",
       "    <tr>\n",
       "      <th>AAD72B195EFC73A4</th>\n",
       "      <td>1</td>\n",
       "    </tr>\n",
       "    <tr>\n",
       "      <th>AAE1914BDB419328</th>\n",
       "      <td>1</td>\n",
       "    </tr>\n",
       "    <tr>\n",
       "      <th>AAE4A39A0DF719AD</th>\n",
       "      <td>1</td>\n",
       "    </tr>\n",
       "    <tr>\n",
       "      <th>...</th>\n",
       "      <td>...</td>\n",
       "    </tr>\n",
       "    <tr>\n",
       "      <th>55E1E5508B640E65</th>\n",
       "      <td>1</td>\n",
       "    </tr>\n",
       "    <tr>\n",
       "      <th>55F1DDF55DD42893</th>\n",
       "      <td>1</td>\n",
       "    </tr>\n",
       "    <tr>\n",
       "      <th>563FBD5282619D25</th>\n",
       "      <td>1</td>\n",
       "    </tr>\n",
       "    <tr>\n",
       "      <th>564975AFF8E15C0C</th>\n",
       "      <td>1</td>\n",
       "    </tr>\n",
       "    <tr>\n",
       "      <th>FFF28D02B1EACBE1</th>\n",
       "      <td>1</td>\n",
       "    </tr>\n",
       "  </tbody>\n",
       "</table>\n",
       "<p>3675 rows × 1 columns</p>\n",
       "</div>"
      ],
      "text/plain": [
       "                  number_of_groups\n",
       "user_id                           \n",
       "001064FEAAB631A1                 1\n",
       "AAB4D11666ADB943                 1\n",
       "AAD72B195EFC73A4                 1\n",
       "AAE1914BDB419328                 1\n",
       "AAE4A39A0DF719AD                 1\n",
       "...                            ...\n",
       "55E1E5508B640E65                 1\n",
       "55F1DDF55DD42893                 1\n",
       "563FBD5282619D25                 1\n",
       "564975AFF8E15C0C                 1\n",
       "FFF28D02B1EACBE1                 1\n",
       "\n",
       "[3675 rows x 1 columns]"
      ]
     },
     "execution_count": 313,
     "metadata": {},
     "output_type": "execute_result"
    }
   ],
   "source": [
    "df_events_ab.groupby('user_id').agg(number_of_groups = ('group','nunique')).sort_values('number_of_groups', ascending=False) # Confirmamos que solamente hay 1 grupo por usuario"
   ]
  },
  {
   "cell_type": "markdown",
   "id": "394a905e",
   "metadata": {},
   "source": [
    "- Distribución de eventos por dia"
   ]
  },
  {
   "cell_type": "code",
   "execution_count": 314,
   "id": "373b96bf",
   "metadata": {},
   "outputs": [
    {
     "data": {
      "image/png": "[encoded data removed]",
      "text/plain": [
       "<Figure size 640x480 with 1 Axes>"
      ]
     },
     "metadata": {},
     "output_type": "display_data"
    }
   ],
   "source": [
    "events_per_day = df_events_ab.groupby('event_day').agg(num_events = ('event_name','count'))\n",
    "\n",
    "events_per_day.plot(kind='line', marker='.', legend=False, color='green')\n",
    "\n",
    "plt.title('Num events per day')\n",
    "plt.ylabel('Number of events')\n",
    "plt.xlabel('Day of December')\n",
    "plt.grid(linestyle='--')\n",
    "\n",
    "plt.show()"
   ]
  },
  {
   "cell_type": "markdown",
   "id": "12389986",
   "metadata": {},
   "source": [
    "- Conforme se acercaba la Navidad, subieron el número de eventos también, como era de esperar. Una vez terminada la festividad, empiezan a caer las interacciones en el sitio"
   ]
  },
  {
   "cell_type": "markdown",
   "id": "1ac6f19f",
   "metadata": {},
   "source": [
    "## Prueba A/B"
   ]
  },
  {
   "cell_type": "code",
   "execution_count": 320,
   "id": "95a57680",
   "metadata": {},
   "outputs": [],
   "source": [
    "# Separacion de grupos\n",
    "\n",
    "A_group = df_events_ab.query('group == \"A\"')\n",
    "B_group = df_events_ab.query('group == \"B\"')\n",
    "\n",
    "events_A = A_group.groupby(['event_name']).agg(num_events = ('event_dt','count')).sort_values('num_events', ascending=False)\n",
    "events_B = B_group.groupby(['event_name']).agg(num_events = ('event_dt','count')).sort_values('num_events', ascending=False)\n",
    "\n",
    "# Conversion rates en cada grupo\n",
    "\n",
    "events_A['conversion_rate'] = events_A['num_events'] / events_A['num_events'].shift(1)\n",
    "events_B['conversion_rate'] = events_B['num_events'] / events_B['num_events'].shift(1)\n"
   ]
  },
  {
   "cell_type": "code",
   "execution_count": 326,
   "id": "3739ed81",
   "metadata": {},
   "outputs": [
    {
     "data": {
      "application/vnd.microsoft.datawrangler.viewer.v0+json": {
       "columns": [
        {
         "name": "event_name",
         "rawType": "object",
         "type": "string"
        },
        {
         "name": "num_events",
         "rawType": "int64",
         "type": "integer"
        },
        {
         "name": "conversion_rate",
         "rawType": "float64",
         "type": "float"
        }
       ],
       "conversionMethod": "pd.DataFrame",
       "ref": "66aaa1dd-a263-40fa-aad8-814445a57b48",
       "rows": [
        [
         "login",
         "8272",
         null
        ],
        [
         "product_page",
         "5328",
         "0.6441005802707931"
        ],
        [
         "purchase",
         "2545",
         "0.47766516516516516"
        ],
        [
         "product_cart",
         "2482",
         "0.9752455795677799"
        ]
       ],
       "shape": {
        "columns": 2,
        "rows": 4
       }
      },
      "text/html": [
       "<div>\n",
       "<style scoped>\n",
       "    .dataframe tbody tr th:only-of-type {\n",
       "        vertical-align: middle;\n",
       "    }\n",
       "\n",
       "    .dataframe tbody tr th {\n",
       "        vertical-align: top;\n",
       "    }\n",
       "\n",
       "    .dataframe thead th {\n",
       "        text-align: right;\n",
       "    }\n",
       "</style>\n",
       "<table border=\"1\" class=\"dataframe\">\n",
       "  <thead>\n",
       "    <tr style=\"text-align: right;\">\n",
       "      <th></th>\n",
       "      <th>num_events</th>\n",
       "      <th>conversion_rate</th>\n",
       "    </tr>\n",
       "    <tr>\n",
       "      <th>event_name</th>\n",
       "      <th></th>\n",
       "      <th></th>\n",
       "    </tr>\n",
       "  </thead>\n",
       "  <tbody>\n",
       "    <tr>\n",
       "      <th>login</th>\n",
       "      <td>8272</td>\n",
       "      <td>NaN</td>\n",
       "    </tr>\n",
       "    <tr>\n",
       "      <th>product_page</th>\n",
       "      <td>5328</td>\n",
       "      <td>0.644101</td>\n",
       "    </tr>\n",
       "    <tr>\n",
       "      <th>purchase</th>\n",
       "      <td>2545</td>\n",
       "      <td>0.477665</td>\n",
       "    </tr>\n",
       "    <tr>\n",
       "      <th>product_cart</th>\n",
       "      <td>2482</td>\n",
       "      <td>0.975246</td>\n",
       "    </tr>\n",
       "  </tbody>\n",
       "</table>\n",
       "</div>"
      ],
      "text/plain": [
       "              num_events  conversion_rate\n",
       "event_name                               \n",
       "login               8272              NaN\n",
       "product_page        5328         0.644101\n",
       "purchase            2545         0.477665\n",
       "product_cart        2482         0.975246"
      ]
     },
     "execution_count": 326,
     "metadata": {},
     "output_type": "execute_result"
    }
   ],
   "source": [
    "# Tabla grupo A\n",
    "\n",
    "events_A"
   ]
  },
  {
   "cell_type": "code",
   "execution_count": 327,
   "id": "18dbf3c8",
   "metadata": {},
   "outputs": [
    {
     "data": {
      "application/vnd.microsoft.datawrangler.viewer.v0+json": {
       "columns": [
        {
         "name": "event_name",
         "rawType": "object",
         "type": "string"
        },
        {
         "name": "num_events",
         "rawType": "int64",
         "type": "integer"
        },
        {
         "name": "conversion_rate",
         "rawType": "float64",
         "type": "float"
        }
       ],
       "conversionMethod": "pd.DataFrame",
       "ref": "00e4ab6c-79c6-463f-90c4-b39ad0b98cc9",
       "rows": [
        [
         "login",
         "2565",
         null
        ],
        [
         "product_page",
         "1374",
         "0.5356725146198831"
        ],
        [
         "product_cart",
         "678",
         "0.49344978165938863"
        ],
        [
         "purchase",
         "665",
         "0.9808259587020649"
        ]
       ],
       "shape": {
        "columns": 2,
        "rows": 4
       }
      },
      "text/html": [
       "<div>\n",
       "<style scoped>\n",
       "    .dataframe tbody tr th:only-of-type {\n",
       "        vertical-align: middle;\n",
       "    }\n",
       "\n",
       "    .dataframe tbody tr th {\n",
       "        vertical-align: top;\n",
       "    }\n",
       "\n",
       "    .dataframe thead th {\n",
       "        text-align: right;\n",
       "    }\n",
       "</style>\n",
       "<table border=\"1\" class=\"dataframe\">\n",
       "  <thead>\n",
       "    <tr style=\"text-align: right;\">\n",
       "      <th></th>\n",
       "      <th>num_events</th>\n",
       "      <th>conversion_rate</th>\n",
       "    </tr>\n",
       "    <tr>\n",
       "      <th>event_name</th>\n",
       "      <th></th>\n",
       "      <th></th>\n",
       "    </tr>\n",
       "  </thead>\n",
       "  <tbody>\n",
       "    <tr>\n",
       "      <th>login</th>\n",
       "      <td>2565</td>\n",
       "      <td>NaN</td>\n",
       "    </tr>\n",
       "    <tr>\n",
       "      <th>product_page</th>\n",
       "      <td>1374</td>\n",
       "      <td>0.535673</td>\n",
       "    </tr>\n",
       "    <tr>\n",
       "      <th>product_cart</th>\n",
       "      <td>678</td>\n",
       "      <td>0.493450</td>\n",
       "    </tr>\n",
       "    <tr>\n",
       "      <th>purchase</th>\n",
       "      <td>665</td>\n",
       "      <td>0.980826</td>\n",
       "    </tr>\n",
       "  </tbody>\n",
       "</table>\n",
       "</div>"
      ],
      "text/plain": [
       "              num_events  conversion_rate\n",
       "event_name                               \n",
       "login               2565              NaN\n",
       "product_page        1374         0.535673\n",
       "product_cart         678         0.493450\n",
       "purchase             665         0.980826"
      ]
     },
     "execution_count": 327,
     "metadata": {},
     "output_type": "execute_result"
    }
   ],
   "source": [
    "# Tabla grupo B\n",
    "\n",
    "events_B"
   ]
  },
  {
   "cell_type": "markdown",
   "id": "25332eae",
   "metadata": {},
   "source": [
    "- A una primera vista, parece ser que los grupos no son muy diferentes en cuanto a conversiones; si bien es cierto que el funnel de un grupo va en orden diferente al otro, en los números podemos ver masomenos la misma conversión al momento de hacer una compra"
   ]
  },
  {
   "cell_type": "code",
   "execution_count": 321,
   "id": "c1c30bc6",
   "metadata": {},
   "outputs": [],
   "source": [
    "# Funcion para hacer la prueba en cada etapa de conversión\n",
    "\n",
    "def proportionsTest(countA, countB, totalA, totalB):\n",
    "    \n",
    "    count = [countB, countA]\n",
    "    nobs = [totalB, totalA]\n",
    "\n",
    "    stat, pval = proportions_ztest(count, nobs, alternative='larger')\n",
    "\n",
    "    if pval < 0.05:\n",
    "        return f\"Rechazamos hipótesis nula, Z = {stat:.4f}, p-value = {pval:.4f}\"\n",
    "    else:\n",
    "        return f\"No podemos rechazar la hipótesis nula,  Z = {stat:.4f}, p-value = {pval:.4f}\""
   ]
  },
  {
   "cell_type": "markdown",
   "id": "002f0feb",
   "metadata": {},
   "source": [
    "- Ho = La tasa de conversión es igual entre ambos grupos (A y B)\n",
    "- Ha = La tasa de conversión es mayor en el grupo B"
   ]
  },
  {
   "cell_type": "code",
   "execution_count": 322,
   "id": "72ffac57",
   "metadata": {},
   "outputs": [
    {
     "data": {
      "text/plain": [
       "'No podemos rechazar la hipótesis nula,  Z = -3.7002, p-value = 0.9999'"
      ]
     },
     "execution_count": 322,
     "metadata": {},
     "output_type": "execute_result"
    }
   ],
   "source": [
    "# Product_page\n",
    "\n",
    "total_A = events_A['num_events'].sum()\n",
    "total_B = events_B['num_events'].sum()\n",
    "\n",
    "proportionsTest(events_A.loc['product_page', 'num_events'], events_B.loc['product_page', 'num_events'], total_A, total_B)\n",
    "\n"
   ]
  },
  {
   "cell_type": "code",
   "execution_count": 323,
   "id": "449d5048",
   "metadata": {},
   "outputs": [
    {
     "data": {
      "text/plain": [
       "'No podemos rechazar la hipótesis nula,  Z = -2.0190, p-value = 0.9783'"
      ]
     },
     "execution_count": 323,
     "metadata": {},
     "output_type": "execute_result"
    }
   ],
   "source": [
    "# Purchase\n",
    "\n",
    "proportionsTest(events_A.loc['purchase', 'num_events'], events_B.loc['purchase', 'num_events'], total_A, total_B)"
   ]
  },
  {
   "cell_type": "code",
   "execution_count": 324,
   "id": "8297a0a9",
   "metadata": {},
   "outputs": [
    {
     "data": {
      "text/plain": [
       "'No podemos rechazar la hipótesis nula,  Z = -0.9257, p-value = 0.8227'"
      ]
     },
     "execution_count": 324,
     "metadata": {},
     "output_type": "execute_result"
    }
   ],
   "source": [
    "# Product cart\n",
    "\n",
    "proportionsTest(events_A.loc['product_cart', 'num_events'], events_B.loc['product_cart', 'num_events'], total_A, total_B)"
   ]
  },
  {
   "cell_type": "markdown",
   "id": "e3ea7199",
   "metadata": {},
   "source": [
    "## Conclusiones"
   ]
  },
  {
   "cell_type": "markdown",
   "id": "ac7ae522",
   "metadata": {},
   "source": [
    "- Existió más interacción en la página web a raiz de la cercanía a las fiestas navideñas.\n",
    "- Considero que la prueba A/B no tuvo suficiente duración y que se aplicó en un momento complicado por ser cierre de año.\n",
    "- Con los datos vistos a secas, se alcanza a ver que no parece haber diferencia entre el grupo A y el grupo B al momento de convertir en las diferentes etapas del embudo.\n",
    "- Realizando la prueba de hipótesis (Z test), confirmamos que las proporciones entre etapas son estadisticamente iguales.\n",
    "- Si se requiere evaluar el comportamiento de la nueva interfaz (EU) se tendría que especificar en lo solicitado al inicio del análisis, ya que solamente se requiere evaluar el \"recommender system\""
   ]
  }
 ],
 "metadata": {
  "kernelspec": {
   "display_name": "Python 3",
   "language": "python",
   "name": "python3"
  },
  "language_info": {
   "codemirror_mode": {
    "name": "ipython",
    "version": 3
   },
   "file_extension": ".py",
   "mimetype": "text/x-python",
   "name": "python",
   "nbconvert_exporter": "python",
   "pygments_lexer": "ipython3",
   "version": "3.12.6"
  }
 },
 "nbformat": 4,
 "nbformat_minor": 5
}
