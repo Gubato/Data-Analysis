{
 "cells": [
  {
   "cell_type": "markdown",
   "metadata": {},
   "source": [
    "# Proyecto 11 - Luis G"
   ]
  },
  {
   "cell_type": "code",
   "execution_count": 2,
   "metadata": {},
   "outputs": [],
   "source": [
    "# Importar librerias\n",
    "\n",
    "import pandas as pd\n",
    "import matplotlib.pyplot as plt\n",
    "from scipy import stats as st\n",
    "import numpy as np\n",
    "import seaborn as sns\n",
    "from statsmodels.stats.proportion import proportions_ztest"
   ]
  },
  {
   "cell_type": "code",
   "execution_count": 3,
   "metadata": {},
   "outputs": [],
   "source": [
    "# Importar dataset\n",
    "\n",
    "df = pd.read_csv(\"logs_exp_us.csv\", sep = \"\\t\")"
   ]
  },
  {
   "cell_type": "markdown",
   "metadata": {},
   "source": [
    "## Procesamiento de datos"
   ]
  },
  {
   "cell_type": "code",
   "execution_count": 4,
   "metadata": {},
   "outputs": [
    {
     "name": "stdout",
     "output_type": "stream",
     "text": [
      "<class 'pandas.core.frame.DataFrame'>\n",
      "RangeIndex: 244126 entries, 0 to 244125\n",
      "Data columns (total 4 columns):\n",
      " #   Column          Non-Null Count   Dtype \n",
      "---  ------          --------------   ----- \n",
      " 0   EventName       244126 non-null  object\n",
      " 1   DeviceIDHash    244126 non-null  int64 \n",
      " 2   EventTimestamp  244126 non-null  int64 \n",
      " 3   ExpId           244126 non-null  int64 \n",
      "dtypes: int64(3), object(1)\n",
      "memory usage: 7.5+ MB\n"
     ]
    }
   ],
   "source": [
    "df.info()"
   ]
  },
  {
   "cell_type": "code",
   "execution_count": 5,
   "metadata": {},
   "outputs": [
    {
     "data": {
      "application/vnd.microsoft.datawrangler.viewer.v0+json": {
       "columns": [
        {
         "name": "index",
         "rawType": "int64",
         "type": "integer"
        },
        {
         "name": "EventName",
         "rawType": "object",
         "type": "string"
        },
        {
         "name": "DeviceIDHash",
         "rawType": "int64",
         "type": "integer"
        },
        {
         "name": "EventTimestamp",
         "rawType": "int64",
         "type": "integer"
        },
        {
         "name": "ExpId",
         "rawType": "int64",
         "type": "integer"
        }
       ],
       "conversionMethod": "pd.DataFrame",
       "ref": "8a6af9f4-ccfe-444d-8476-eeab46e833f6",
       "rows": [
        [
         "0",
         "MainScreenAppear",
         "4575588528974610257",
         "1564029816",
         "246"
        ],
        [
         "1",
         "MainScreenAppear",
         "7416695313311560658",
         "1564053102",
         "246"
        ],
        [
         "2",
         "PaymentScreenSuccessful",
         "3518123091307005509",
         "1564054127",
         "248"
        ],
        [
         "3",
         "CartScreenAppear",
         "3518123091307005509",
         "1564054127",
         "248"
        ],
        [
         "4",
         "PaymentScreenSuccessful",
         "6217807653094995999",
         "1564055322",
         "248"
        ]
       ],
       "shape": {
        "columns": 4,
        "rows": 5
       }
      },
      "text/html": [
       "<div>\n",
       "<style scoped>\n",
       "    .dataframe tbody tr th:only-of-type {\n",
       "        vertical-align: middle;\n",
       "    }\n",
       "\n",
       "    .dataframe tbody tr th {\n",
       "        vertical-align: top;\n",
       "    }\n",
       "\n",
       "    .dataframe thead th {\n",
       "        text-align: right;\n",
       "    }\n",
       "</style>\n",
       "<table border=\"1\" class=\"dataframe\">\n",
       "  <thead>\n",
       "    <tr style=\"text-align: right;\">\n",
       "      <th></th>\n",
       "      <th>EventName</th>\n",
       "      <th>DeviceIDHash</th>\n",
       "      <th>EventTimestamp</th>\n",
       "      <th>ExpId</th>\n",
       "    </tr>\n",
       "  </thead>\n",
       "  <tbody>\n",
       "    <tr>\n",
       "      <th>0</th>\n",
       "      <td>MainScreenAppear</td>\n",
       "      <td>4575588528974610257</td>\n",
       "      <td>1564029816</td>\n",
       "      <td>246</td>\n",
       "    </tr>\n",
       "    <tr>\n",
       "      <th>1</th>\n",
       "      <td>MainScreenAppear</td>\n",
       "      <td>7416695313311560658</td>\n",
       "      <td>1564053102</td>\n",
       "      <td>246</td>\n",
       "    </tr>\n",
       "    <tr>\n",
       "      <th>2</th>\n",
       "      <td>PaymentScreenSuccessful</td>\n",
       "      <td>3518123091307005509</td>\n",
       "      <td>1564054127</td>\n",
       "      <td>248</td>\n",
       "    </tr>\n",
       "    <tr>\n",
       "      <th>3</th>\n",
       "      <td>CartScreenAppear</td>\n",
       "      <td>3518123091307005509</td>\n",
       "      <td>1564054127</td>\n",
       "      <td>248</td>\n",
       "    </tr>\n",
       "    <tr>\n",
       "      <th>4</th>\n",
       "      <td>PaymentScreenSuccessful</td>\n",
       "      <td>6217807653094995999</td>\n",
       "      <td>1564055322</td>\n",
       "      <td>248</td>\n",
       "    </tr>\n",
       "  </tbody>\n",
       "</table>\n",
       "</div>"
      ],
      "text/plain": [
       "                 EventName         DeviceIDHash  EventTimestamp  ExpId\n",
       "0         MainScreenAppear  4575588528974610257      1564029816    246\n",
       "1         MainScreenAppear  7416695313311560658      1564053102    246\n",
       "2  PaymentScreenSuccessful  3518123091307005509      1564054127    248\n",
       "3         CartScreenAppear  3518123091307005509      1564054127    248\n",
       "4  PaymentScreenSuccessful  6217807653094995999      1564055322    248"
      ]
     },
     "execution_count": 5,
     "metadata": {},
     "output_type": "execute_result"
    }
   ],
   "source": [
    "df.head()"
   ]
  },
  {
   "cell_type": "code",
   "execution_count": 6,
   "metadata": {},
   "outputs": [
    {
     "data": {
      "application/vnd.microsoft.datawrangler.viewer.v0+json": {
       "columns": [
        {
         "name": "index",
         "rawType": "int64",
         "type": "integer"
        },
        {
         "name": "event_name",
         "rawType": "object",
         "type": "string"
        },
        {
         "name": "device_id",
         "rawType": "int64",
         "type": "integer"
        },
        {
         "name": "event_ts",
         "rawType": "datetime64[ns]",
         "type": "datetime"
        },
        {
         "name": "group",
         "rawType": "object",
         "type": "string"
        }
       ],
       "conversionMethod": "pd.DataFrame",
       "ref": "50cc0b44-1b6b-484e-bdc8-4508580a3c84",
       "rows": [
        [
         "0",
         "MainScreenAppear",
         "4575588528974610257",
         "2019-07-25 04:43:36",
         "A1"
        ],
        [
         "1",
         "MainScreenAppear",
         "7416695313311560658",
         "2019-07-25 11:11:42",
         "A1"
        ],
        [
         "2",
         "PaymentScreenSuccessful",
         "3518123091307005509",
         "2019-07-25 11:28:47",
         "B"
        ],
        [
         "3",
         "CartScreenAppear",
         "3518123091307005509",
         "2019-07-25 11:28:47",
         "B"
        ],
        [
         "4",
         "PaymentScreenSuccessful",
         "6217807653094995999",
         "2019-07-25 11:48:42",
         "B"
        ]
       ],
       "shape": {
        "columns": 4,
        "rows": 5
       }
      },
      "text/html": [
       "<div>\n",
       "<style scoped>\n",
       "    .dataframe tbody tr th:only-of-type {\n",
       "        vertical-align: middle;\n",
       "    }\n",
       "\n",
       "    .dataframe tbody tr th {\n",
       "        vertical-align: top;\n",
       "    }\n",
       "\n",
       "    .dataframe thead th {\n",
       "        text-align: right;\n",
       "    }\n",
       "</style>\n",
       "<table border=\"1\" class=\"dataframe\">\n",
       "  <thead>\n",
       "    <tr style=\"text-align: right;\">\n",
       "      <th></th>\n",
       "      <th>event_name</th>\n",
       "      <th>device_id</th>\n",
       "      <th>event_ts</th>\n",
       "      <th>group</th>\n",
       "    </tr>\n",
       "  </thead>\n",
       "  <tbody>\n",
       "    <tr>\n",
       "      <th>0</th>\n",
       "      <td>MainScreenAppear</td>\n",
       "      <td>4575588528974610257</td>\n",
       "      <td>2019-07-25 04:43:36</td>\n",
       "      <td>A1</td>\n",
       "    </tr>\n",
       "    <tr>\n",
       "      <th>1</th>\n",
       "      <td>MainScreenAppear</td>\n",
       "      <td>7416695313311560658</td>\n",
       "      <td>2019-07-25 11:11:42</td>\n",
       "      <td>A1</td>\n",
       "    </tr>\n",
       "    <tr>\n",
       "      <th>2</th>\n",
       "      <td>PaymentScreenSuccessful</td>\n",
       "      <td>3518123091307005509</td>\n",
       "      <td>2019-07-25 11:28:47</td>\n",
       "      <td>B</td>\n",
       "    </tr>\n",
       "    <tr>\n",
       "      <th>3</th>\n",
       "      <td>CartScreenAppear</td>\n",
       "      <td>3518123091307005509</td>\n",
       "      <td>2019-07-25 11:28:47</td>\n",
       "      <td>B</td>\n",
       "    </tr>\n",
       "    <tr>\n",
       "      <th>4</th>\n",
       "      <td>PaymentScreenSuccessful</td>\n",
       "      <td>6217807653094995999</td>\n",
       "      <td>2019-07-25 11:48:42</td>\n",
       "      <td>B</td>\n",
       "    </tr>\n",
       "  </tbody>\n",
       "</table>\n",
       "</div>"
      ],
      "text/plain": [
       "                event_name            device_id            event_ts group\n",
       "0         MainScreenAppear  4575588528974610257 2019-07-25 04:43:36    A1\n",
       "1         MainScreenAppear  7416695313311560658 2019-07-25 11:11:42    A1\n",
       "2  PaymentScreenSuccessful  3518123091307005509 2019-07-25 11:28:47     B\n",
       "3         CartScreenAppear  3518123091307005509 2019-07-25 11:28:47     B\n",
       "4  PaymentScreenSuccessful  6217807653094995999 2019-07-25 11:48:42     B"
      ]
     },
     "execution_count": 6,
     "metadata": {},
     "output_type": "execute_result"
    }
   ],
   "source": [
    "# Nombres de columna:\n",
    "\n",
    "df.columns = ['event_name','device_id','event_ts','group']\n",
    "\n",
    "# Cambiar timestamp a formato date a partir de Unix epoch\n",
    "\n",
    "df['event_ts'] = pd.to_datetime(df['event_ts'], unit='s')\n",
    "\n",
    "# Cambiar grupo para mejorar lectura\n",
    "\n",
    "def nameGroup(data):\n",
    "    if data == 246:\n",
    "        return 'A1'\n",
    "    elif data == 247:\n",
    "        return 'A2'\n",
    "    else:\n",
    "        return 'B'\n",
    "\n",
    "df['group'] = df['group'].apply(nameGroup)\n",
    "\n",
    "df.head()"
   ]
  },
  {
   "cell_type": "code",
   "execution_count": 7,
   "metadata": {},
   "outputs": [
    {
     "data": {
      "text/plain": [
       "count                           244126\n",
       "mean     2019-08-04 10:18:35.842716160\n",
       "min                2019-07-25 04:43:36\n",
       "25%      2019-08-02 14:36:20.249999872\n",
       "50%                2019-08-04 11:49:55\n",
       "75%                2019-08-06 06:55:11\n",
       "max                2019-08-07 21:15:17\n",
       "Name: event_ts, dtype: object"
      ]
     },
     "execution_count": 7,
     "metadata": {},
     "output_type": "execute_result"
    }
   ],
   "source": [
    "# Verificar longitud de la recopilacion de datos\n",
    "\n",
    "df['event_ts'].describe()"
   ]
  },
  {
   "cell_type": "markdown",
   "metadata": {},
   "source": [
    "- Vemos que apenas y son dos semanas de recopilación de datos, podríamos ser más específicos en los eventos y extraer hasta las horas."
   ]
  },
  {
   "cell_type": "code",
   "execution_count": 8,
   "metadata": {},
   "outputs": [
    {
     "data": {
      "application/vnd.microsoft.datawrangler.viewer.v0+json": {
       "columns": [
        {
         "name": "index",
         "rawType": "int64",
         "type": "integer"
        },
        {
         "name": "event_name",
         "rawType": "object",
         "type": "string"
        },
        {
         "name": "device_id",
         "rawType": "int64",
         "type": "integer"
        },
        {
         "name": "event_ts",
         "rawType": "datetime64[ns]",
         "type": "datetime"
        },
        {
         "name": "group",
         "rawType": "object",
         "type": "string"
        },
        {
         "name": "month",
         "rawType": "int32",
         "type": "integer"
        },
        {
         "name": "day",
         "rawType": "int32",
         "type": "integer"
        },
        {
         "name": "hour",
         "rawType": "int32",
         "type": "integer"
        }
       ],
       "conversionMethod": "pd.DataFrame",
       "ref": "38b7db76-749b-4196-8d0a-fd3c6196e8a0",
       "rows": [
        [
         "0",
         "MainScreenAppear",
         "4575588528974610257",
         "2019-07-25 04:43:36",
         "A1",
         "7",
         "25",
         "4"
        ],
        [
         "1",
         "MainScreenAppear",
         "7416695313311560658",
         "2019-07-25 11:11:42",
         "A1",
         "7",
         "25",
         "11"
        ],
        [
         "2",
         "PaymentScreenSuccessful",
         "3518123091307005509",
         "2019-07-25 11:28:47",
         "B",
         "7",
         "25",
         "11"
        ],
        [
         "3",
         "CartScreenAppear",
         "3518123091307005509",
         "2019-07-25 11:28:47",
         "B",
         "7",
         "25",
         "11"
        ],
        [
         "4",
         "PaymentScreenSuccessful",
         "6217807653094995999",
         "2019-07-25 11:48:42",
         "B",
         "7",
         "25",
         "11"
        ]
       ],
       "shape": {
        "columns": 7,
        "rows": 5
       }
      },
      "text/html": [
       "<div>\n",
       "<style scoped>\n",
       "    .dataframe tbody tr th:only-of-type {\n",
       "        vertical-align: middle;\n",
       "    }\n",
       "\n",
       "    .dataframe tbody tr th {\n",
       "        vertical-align: top;\n",
       "    }\n",
       "\n",
       "    .dataframe thead th {\n",
       "        text-align: right;\n",
       "    }\n",
       "</style>\n",
       "<table border=\"1\" class=\"dataframe\">\n",
       "  <thead>\n",
       "    <tr style=\"text-align: right;\">\n",
       "      <th></th>\n",
       "      <th>event_name</th>\n",
       "      <th>device_id</th>\n",
       "      <th>event_ts</th>\n",
       "      <th>group</th>\n",
       "      <th>month</th>\n",
       "      <th>day</th>\n",
       "      <th>hour</th>\n",
       "    </tr>\n",
       "  </thead>\n",
       "  <tbody>\n",
       "    <tr>\n",
       "      <th>0</th>\n",
       "      <td>MainScreenAppear</td>\n",
       "      <td>4575588528974610257</td>\n",
       "      <td>2019-07-25 04:43:36</td>\n",
       "      <td>A1</td>\n",
       "      <td>7</td>\n",
       "      <td>25</td>\n",
       "      <td>4</td>\n",
       "    </tr>\n",
       "    <tr>\n",
       "      <th>1</th>\n",
       "      <td>MainScreenAppear</td>\n",
       "      <td>7416695313311560658</td>\n",
       "      <td>2019-07-25 11:11:42</td>\n",
       "      <td>A1</td>\n",
       "      <td>7</td>\n",
       "      <td>25</td>\n",
       "      <td>11</td>\n",
       "    </tr>\n",
       "    <tr>\n",
       "      <th>2</th>\n",
       "      <td>PaymentScreenSuccessful</td>\n",
       "      <td>3518123091307005509</td>\n",
       "      <td>2019-07-25 11:28:47</td>\n",
       "      <td>B</td>\n",
       "      <td>7</td>\n",
       "      <td>25</td>\n",
       "      <td>11</td>\n",
       "    </tr>\n",
       "    <tr>\n",
       "      <th>3</th>\n",
       "      <td>CartScreenAppear</td>\n",
       "      <td>3518123091307005509</td>\n",
       "      <td>2019-07-25 11:28:47</td>\n",
       "      <td>B</td>\n",
       "      <td>7</td>\n",
       "      <td>25</td>\n",
       "      <td>11</td>\n",
       "    </tr>\n",
       "    <tr>\n",
       "      <th>4</th>\n",
       "      <td>PaymentScreenSuccessful</td>\n",
       "      <td>6217807653094995999</td>\n",
       "      <td>2019-07-25 11:48:42</td>\n",
       "      <td>B</td>\n",
       "      <td>7</td>\n",
       "      <td>25</td>\n",
       "      <td>11</td>\n",
       "    </tr>\n",
       "  </tbody>\n",
       "</table>\n",
       "</div>"
      ],
      "text/plain": [
       "                event_name            device_id            event_ts group  \\\n",
       "0         MainScreenAppear  4575588528974610257 2019-07-25 04:43:36    A1   \n",
       "1         MainScreenAppear  7416695313311560658 2019-07-25 11:11:42    A1   \n",
       "2  PaymentScreenSuccessful  3518123091307005509 2019-07-25 11:28:47     B   \n",
       "3         CartScreenAppear  3518123091307005509 2019-07-25 11:28:47     B   \n",
       "4  PaymentScreenSuccessful  6217807653094995999 2019-07-25 11:48:42     B   \n",
       "\n",
       "   month  day  hour  \n",
       "0      7   25     4  \n",
       "1      7   25    11  \n",
       "2      7   25    11  \n",
       "3      7   25    11  \n",
       "4      7   25    11  "
      ]
     },
     "execution_count": 8,
     "metadata": {},
     "output_type": "execute_result"
    }
   ],
   "source": [
    "# Extracción de columnas con valores del date\n",
    "\n",
    "df['month'] = df['event_ts'].dt.month\n",
    "df['day'] = df['event_ts'].dt.day\n",
    "df['hour'] = df['event_ts'].dt.hour\n",
    "\n",
    "df.head()"
   ]
  },
  {
   "cell_type": "markdown",
   "metadata": {},
   "source": [
    "## Análisis inicial"
   ]
  },
  {
   "cell_type": "code",
   "execution_count": 9,
   "metadata": {},
   "outputs": [
    {
     "data": {
      "application/vnd.microsoft.datawrangler.viewer.v0+json": {
       "columns": [
        {
         "name": "index",
         "rawType": "int64",
         "type": "integer"
        },
        {
         "name": "group",
         "rawType": "object",
         "type": "string"
        },
        {
         "name": "count",
         "rawType": "int64",
         "type": "integer"
        }
       ],
       "conversionMethod": "pd.DataFrame",
       "ref": "c6eedcf8-905e-40ff-9e64-f7174246ecc3",
       "rows": [
        [
         "0",
         "B",
         "85747"
        ],
        [
         "1",
         "A1",
         "80304"
        ],
        [
         "2",
         "A2",
         "78075"
        ]
       ],
       "shape": {
        "columns": 2,
        "rows": 3
       }
      },
      "text/html": [
       "<div>\n",
       "<style scoped>\n",
       "    .dataframe tbody tr th:only-of-type {\n",
       "        vertical-align: middle;\n",
       "    }\n",
       "\n",
       "    .dataframe tbody tr th {\n",
       "        vertical-align: top;\n",
       "    }\n",
       "\n",
       "    .dataframe thead th {\n",
       "        text-align: right;\n",
       "    }\n",
       "</style>\n",
       "<table border=\"1\" class=\"dataframe\">\n",
       "  <thead>\n",
       "    <tr style=\"text-align: right;\">\n",
       "      <th></th>\n",
       "      <th>group</th>\n",
       "      <th>count</th>\n",
       "    </tr>\n",
       "  </thead>\n",
       "  <tbody>\n",
       "    <tr>\n",
       "      <th>0</th>\n",
       "      <td>B</td>\n",
       "      <td>85747</td>\n",
       "    </tr>\n",
       "    <tr>\n",
       "      <th>1</th>\n",
       "      <td>A1</td>\n",
       "      <td>80304</td>\n",
       "    </tr>\n",
       "    <tr>\n",
       "      <th>2</th>\n",
       "      <td>A2</td>\n",
       "      <td>78075</td>\n",
       "    </tr>\n",
       "  </tbody>\n",
       "</table>\n",
       "</div>"
      ],
      "text/plain": [
       "  group  count\n",
       "0     B  85747\n",
       "1    A1  80304\n",
       "2    A2  78075"
      ]
     },
     "execution_count": 9,
     "metadata": {},
     "output_type": "execute_result"
    }
   ],
   "source": [
    "# Balance de los grupos\n",
    "\n",
    "df['group'].value_counts().reset_index()"
   ]
  },
  {
   "cell_type": "markdown",
   "metadata": {},
   "source": [
    "- Podemos ver que los grupos están bastante balanceados, con eso no afecta a nuestro análisis."
   ]
  },
  {
   "cell_type": "code",
   "execution_count": 10,
   "metadata": {},
   "outputs": [
    {
     "data": {
      "application/vnd.microsoft.datawrangler.viewer.v0+json": {
       "columns": [
        {
         "name": "index",
         "rawType": "int64",
         "type": "integer"
        },
        {
         "name": "group",
         "rawType": "object",
         "type": "string"
        },
        {
         "name": "device_id",
         "rawType": "int64",
         "type": "integer"
        }
       ],
       "conversionMethod": "pd.DataFrame",
       "ref": "2a408e6c-6348-474e-a18a-5e2ca46a098d",
       "rows": [
        [
         "0",
         "A1",
         "2489"
        ],
        [
         "1",
         "A2",
         "2520"
        ],
        [
         "2",
         "B",
         "2542"
        ]
       ],
       "shape": {
        "columns": 2,
        "rows": 3
       }
      },
      "text/html": [
       "<div>\n",
       "<style scoped>\n",
       "    .dataframe tbody tr th:only-of-type {\n",
       "        vertical-align: middle;\n",
       "    }\n",
       "\n",
       "    .dataframe tbody tr th {\n",
       "        vertical-align: top;\n",
       "    }\n",
       "\n",
       "    .dataframe thead th {\n",
       "        text-align: right;\n",
       "    }\n",
       "</style>\n",
       "<table border=\"1\" class=\"dataframe\">\n",
       "  <thead>\n",
       "    <tr style=\"text-align: right;\">\n",
       "      <th></th>\n",
       "      <th>group</th>\n",
       "      <th>device_id</th>\n",
       "    </tr>\n",
       "  </thead>\n",
       "  <tbody>\n",
       "    <tr>\n",
       "      <th>0</th>\n",
       "      <td>A1</td>\n",
       "      <td>2489</td>\n",
       "    </tr>\n",
       "    <tr>\n",
       "      <th>1</th>\n",
       "      <td>A2</td>\n",
       "      <td>2520</td>\n",
       "    </tr>\n",
       "    <tr>\n",
       "      <th>2</th>\n",
       "      <td>B</td>\n",
       "      <td>2542</td>\n",
       "    </tr>\n",
       "  </tbody>\n",
       "</table>\n",
       "</div>"
      ],
      "text/plain": [
       "  group  device_id\n",
       "0    A1       2489\n",
       "1    A2       2520\n",
       "2     B       2542"
      ]
     },
     "execution_count": 10,
     "metadata": {},
     "output_type": "execute_result"
    }
   ],
   "source": [
    "# Usuarios únicos por grupo\n",
    "\n",
    "df.groupby('group')['device_id'].nunique().reset_index()"
   ]
  },
  {
   "cell_type": "markdown",
   "metadata": {},
   "source": [
    "- De igual forma, los usuarios únicos por grupo no fluctúan"
   ]
  },
  {
   "cell_type": "code",
   "execution_count": 11,
   "metadata": {},
   "outputs": [
    {
     "data": {
      "text/plain": [
       "np.float64(32.33028737915508)"
      ]
     },
     "execution_count": 11,
     "metadata": {},
     "output_type": "execute_result"
    }
   ],
   "source": [
    "# Promedio de eventos por usuario\n",
    "\n",
    "events_per_user = df.groupby('device_id')['event_name'].count().reset_index()\n",
    "\n",
    "events_per_user['event_name'].mean()"
   ]
  },
  {
   "cell_type": "markdown",
   "metadata": {},
   "source": [
    "- Contamos con un promedio de 32 eventos por usuario.\n",
    "- Me parece un número elevado pero es posible que haya mucha indecisión al momento de realizar una compra, a la par que se registra el evento de hacer varias compras."
   ]
  },
  {
   "cell_type": "code",
   "execution_count": 12,
   "metadata": {},
   "outputs": [
    {
     "data": {
      "image/png": "[encoded data removed]",
      "text/plain": [
       "<Figure size 640x480 with 1 Axes>"
      ]
     },
     "metadata": {},
     "output_type": "display_data"
    }
   ],
   "source": [
    "# Cantidad de eventos a lo largo del tiempo\n",
    "\n",
    "events_in_time = df.groupby(['month','day']).agg(event_count = ('event_name','count'))\n",
    "\n",
    "events_in_time.plot(kind='line',\n",
    "                    title= 'Event count through time',\n",
    "                    ylabel= '# of events',\n",
    "                    xlabel= 'Month and day',\n",
    "                    marker='.',\n",
    "                    color='brown',\n",
    "                    legend=False\n",
    "                    \n",
    "                    )\n",
    "\n",
    "plt.show()\n",
    "\n"
   ]
  },
  {
   "cell_type": "markdown",
   "metadata": {},
   "source": [
    "- Con este gráfico podemos ver que realmente los eventos sucedidos durante el mes de julio no parecen haber sido registrados intencionalmente, pues hay muy pocos eventos para esos días.\n",
    "- Eliminaremos esos registros y quitaremos la columna month para tener un dataframe más conciso."
   ]
  },
  {
   "cell_type": "code",
   "execution_count": 13,
   "metadata": {},
   "outputs": [
    {
     "name": "stdout",
     "output_type": "stream",
     "text": [
      "<class 'pandas.core.frame.DataFrame'>\n",
      "RangeIndex: 241298 entries, 0 to 241297\n",
      "Data columns (total 6 columns):\n",
      " #   Column      Non-Null Count   Dtype         \n",
      "---  ------      --------------   -----         \n",
      " 0   event_name  241298 non-null  object        \n",
      " 1   device_id   241298 non-null  int64         \n",
      " 2   event_ts    241298 non-null  datetime64[ns]\n",
      " 3   group       241298 non-null  object        \n",
      " 4   day         241298 non-null  int32         \n",
      " 5   hour        241298 non-null  int32         \n",
      "dtypes: datetime64[ns](1), int32(2), int64(1), object(2)\n",
      "memory usage: 9.2+ MB\n"
     ]
    }
   ],
   "source": [
    "# Limpieza del dataframe\n",
    "\n",
    "df2 = df[df['month'] == 8].reset_index(drop=True)\n",
    "df2 = df2.drop('month',axis=1)\n",
    "\n",
    "\n",
    "df2.info()"
   ]
  },
  {
   "cell_type": "code",
   "execution_count": 14,
   "metadata": {},
   "outputs": [
    {
     "data": {
      "text/plain": [
       "group\n",
       "A1    79425\n",
       "A2    77147\n",
       "B     84726\n",
       "Name: event_name, dtype: int64"
      ]
     },
     "execution_count": 14,
     "metadata": {},
     "output_type": "execute_result"
    }
   ],
   "source": [
    "# Conteo de eventos por grupo y usuarios nuevamente, después de limpiar los datos\n",
    "\n",
    "df2.groupby('group')['event_name'].count()"
   ]
  },
  {
   "cell_type": "code",
   "execution_count": 15,
   "metadata": {},
   "outputs": [
    {
     "data": {
      "text/plain": [
       "group\n",
       "A1    79425\n",
       "A2    77147\n",
       "B     84726\n",
       "Name: device_id, dtype: int64"
      ]
     },
     "execution_count": 15,
     "metadata": {},
     "output_type": "execute_result"
    }
   ],
   "source": [
    "df2.groupby('group')['device_id'].count()"
   ]
  },
  {
   "cell_type": "code",
   "execution_count": 16,
   "metadata": {},
   "outputs": [
    {
     "data": {
      "text/plain": [
       "array(['2019-07-31T22:02:36.000000000', '2019-07-31T23:39:59.312500000',\n",
       "       '2019-08-01T00:08:58.850000000'], dtype='datetime64[ns]')"
      ]
     },
     "execution_count": 16,
     "metadata": {},
     "output_type": "execute_result"
    }
   ],
   "source": [
    "np.percentile(df['event_ts'],[1,1.15,1.16])"
   ]
  },
  {
   "cell_type": "markdown",
   "metadata": {},
   "source": [
    "- Comprobamos que estamos perdiendo muy pocos datos al momento de retirar los registros antiguos, del mes de julio, para el análisis.\n",
    "- Estos datos retirados representan aproximadamente el 1.15% de los datos."
   ]
  },
  {
   "cell_type": "code",
   "execution_count": 17,
   "metadata": {},
   "outputs": [
    {
     "data": {
      "application/vnd.microsoft.datawrangler.viewer.v0+json": {
       "columns": [
        {
         "name": "index",
         "rawType": "int64",
         "type": "integer"
        },
        {
         "name": "event_name",
         "rawType": "object",
         "type": "string"
        },
        {
         "name": "count",
         "rawType": "int64",
         "type": "integer"
        }
       ],
       "conversionMethod": "pd.DataFrame",
       "ref": "1b3f3a98-3a8d-4171-94dd-4676ebd8423c",
       "rows": [
        [
         "0",
         "MainScreenAppear",
         "117431"
        ],
        [
         "1",
         "OffersScreenAppear",
         "46350"
        ],
        [
         "2",
         "CartScreenAppear",
         "42365"
        ],
        [
         "3",
         "PaymentScreenSuccessful",
         "34113"
        ],
        [
         "4",
         "Tutorial",
         "1039"
        ]
       ],
       "shape": {
        "columns": 2,
        "rows": 5
       }
      },
      "text/html": [
       "<div>\n",
       "<style scoped>\n",
       "    .dataframe tbody tr th:only-of-type {\n",
       "        vertical-align: middle;\n",
       "    }\n",
       "\n",
       "    .dataframe tbody tr th {\n",
       "        vertical-align: top;\n",
       "    }\n",
       "\n",
       "    .dataframe thead th {\n",
       "        text-align: right;\n",
       "    }\n",
       "</style>\n",
       "<table border=\"1\" class=\"dataframe\">\n",
       "  <thead>\n",
       "    <tr style=\"text-align: right;\">\n",
       "      <th></th>\n",
       "      <th>event_name</th>\n",
       "      <th>count</th>\n",
       "    </tr>\n",
       "  </thead>\n",
       "  <tbody>\n",
       "    <tr>\n",
       "      <th>0</th>\n",
       "      <td>MainScreenAppear</td>\n",
       "      <td>117431</td>\n",
       "    </tr>\n",
       "    <tr>\n",
       "      <th>1</th>\n",
       "      <td>OffersScreenAppear</td>\n",
       "      <td>46350</td>\n",
       "    </tr>\n",
       "    <tr>\n",
       "      <th>2</th>\n",
       "      <td>CartScreenAppear</td>\n",
       "      <td>42365</td>\n",
       "    </tr>\n",
       "    <tr>\n",
       "      <th>3</th>\n",
       "      <td>PaymentScreenSuccessful</td>\n",
       "      <td>34113</td>\n",
       "    </tr>\n",
       "    <tr>\n",
       "      <th>4</th>\n",
       "      <td>Tutorial</td>\n",
       "      <td>1039</td>\n",
       "    </tr>\n",
       "  </tbody>\n",
       "</table>\n",
       "</div>"
      ],
      "text/plain": [
       "                event_name   count\n",
       "0         MainScreenAppear  117431\n",
       "1       OffersScreenAppear   46350\n",
       "2         CartScreenAppear   42365\n",
       "3  PaymentScreenSuccessful   34113\n",
       "4                 Tutorial    1039"
      ]
     },
     "execution_count": 17,
     "metadata": {},
     "output_type": "execute_result"
    }
   ],
   "source": [
    "# Crear embudo de eventos\n",
    "\n",
    "events_funnel = df2['event_name'].value_counts().reset_index() # Datos\n",
    "\n",
    "events_funnel"
   ]
  },
  {
   "cell_type": "code",
   "execution_count": 18,
   "metadata": {},
   "outputs": [
    {
     "data": {
      "image/png": "[encoded data removed]",
      "text/plain": [
       "<Figure size 800x500 with 1 Axes>"
      ]
     },
     "metadata": {},
     "output_type": "display_data"
    }
   ],
   "source": [
    "# Gráfico del embudo de eventos\n",
    "\n",
    "plt.figure(figsize=(8,5))\n",
    "funnel_bars = plt.barh(events_funnel['event_name'], events_funnel['count'], color='lightgreen')\n",
    "\n",
    "plt.title('Funnel for user activity')\n",
    "plt.xlabel('# of users')\n",
    "plt.gca().invert_yaxis()\n",
    "\n",
    "for bar in funnel_bars:\n",
    "    width = bar.get_width()  \n",
    "    plt.text(width + 1000,             \n",
    "             bar.get_y() + bar.get_height()/2, \n",
    "             f'{int(width)}',         \n",
    "             va='center')              \n",
    "\n",
    "plt.xlim(0,140000)\n",
    "plt.show()"
   ]
  },
  {
   "cell_type": "markdown",
   "metadata": {},
   "source": [
    "- Observamos que en general se sigue una línea de eventos normales al hacer compras en un sitio web, excepto cuando llegamos a la parte del tutorial.\n",
    "- Necesitaríamos más detalles de qué se trata ese tutorial; pero parece ser que es un paso no consecutivo al momento de hacer una compra. Se entiende más como una ayuda para cuando ya se adquirió el producto."
   ]
  },
  {
   "cell_type": "code",
   "execution_count": 19,
   "metadata": {},
   "outputs": [],
   "source": [
    "# Cantidad de usuarios por accion\n",
    "\n",
    "funnel_users_events = df2.groupby('event_name')['device_id'].nunique().reset_index().sort_values('device_id',ascending=False)"
   ]
  },
  {
   "cell_type": "code",
   "execution_count": 20,
   "metadata": {},
   "outputs": [
    {
     "data": {
      "image/png": "[encoded data removed]",
      "text/plain": [
       "<Figure size 800x500 with 1 Axes>"
      ]
     },
     "metadata": {},
     "output_type": "display_data"
    }
   ],
   "source": [
    "# Gráfico del embudo de usuarios únicos por evento\n",
    "\n",
    "plt.figure(figsize=(8,5))\n",
    "funnel_bars = plt.barh(funnel_users_events['event_name'], funnel_users_events['device_id'], color='lightblue')\n",
    "\n",
    "plt.title('Funnel for unique users per activity')\n",
    "plt.xlabel('# of unique users')\n",
    "plt.gca().invert_yaxis()\n",
    "\n",
    "for bar in funnel_bars:\n",
    "    width = bar.get_width()  \n",
    "    plt.text(width + 100,             \n",
    "             bar.get_y() + bar.get_height()/2, \n",
    "             f'{int(width)}',         \n",
    "             va='center')              \n",
    "\n",
    "plt.xlim(0,10000)\n",
    "plt.show()"
   ]
  },
  {
   "cell_type": "markdown",
   "metadata": {},
   "source": [
    "- Seguimos observando un camino lineal respecto a la compra por el sitio web; las personas llegan a la página principal, buscan ofertas, si les interesa algo lo colocan en su carrito y después realizan el pago.\n",
    "- Continuamos con la duda respecto a la pestaña de tutorial, pero con esta gráfica vs la anterior, podemos ver que el tutorial es utilizado por varios usuarios que llegan a este punto."
   ]
  },
  {
   "cell_type": "code",
   "execution_count": 21,
   "metadata": {},
   "outputs": [
    {
     "data": {
      "application/vnd.microsoft.datawrangler.viewer.v0+json": {
       "columns": [
        {
         "name": "index",
         "rawType": "int64",
         "type": "integer"
        },
        {
         "name": "event_name",
         "rawType": "object",
         "type": "string"
        },
        {
         "name": "event_count",
         "rawType": "int64",
         "type": "integer"
        },
        {
         "name": "nunique_users",
         "rawType": "int64",
         "type": "integer"
        },
        {
         "name": "prop_event_user",
         "rawType": "float64",
         "type": "float"
        }
       ],
       "conversionMethod": "pd.DataFrame",
       "ref": "356a53cf-9e51-46eb-b14a-f7fbd43233f8",
       "rows": [
        [
         "0",
         "MainScreenAppear",
         "117431",
         "7419",
         "0.063"
        ],
        [
         "1",
         "OffersScreenAppear",
         "46350",
         "4593",
         "0.099"
        ],
        [
         "2",
         "CartScreenAppear",
         "42365",
         "3734",
         "0.088"
        ],
        [
         "3",
         "PaymentScreenSuccessful",
         "34113",
         "3539",
         "0.104"
        ],
        [
         "4",
         "Tutorial",
         "1039",
         "840",
         "0.808"
        ]
       ],
       "shape": {
        "columns": 4,
        "rows": 5
       }
      },
      "text/html": [
       "<div>\n",
       "<style scoped>\n",
       "    .dataframe tbody tr th:only-of-type {\n",
       "        vertical-align: middle;\n",
       "    }\n",
       "\n",
       "    .dataframe tbody tr th {\n",
       "        vertical-align: top;\n",
       "    }\n",
       "\n",
       "    .dataframe thead th {\n",
       "        text-align: right;\n",
       "    }\n",
       "</style>\n",
       "<table border=\"1\" class=\"dataframe\">\n",
       "  <thead>\n",
       "    <tr style=\"text-align: right;\">\n",
       "      <th></th>\n",
       "      <th>event_name</th>\n",
       "      <th>event_count</th>\n",
       "      <th>nunique_users</th>\n",
       "      <th>prop_event_user</th>\n",
       "    </tr>\n",
       "  </thead>\n",
       "  <tbody>\n",
       "    <tr>\n",
       "      <th>0</th>\n",
       "      <td>MainScreenAppear</td>\n",
       "      <td>117431</td>\n",
       "      <td>7419</td>\n",
       "      <td>0.063</td>\n",
       "    </tr>\n",
       "    <tr>\n",
       "      <th>1</th>\n",
       "      <td>OffersScreenAppear</td>\n",
       "      <td>46350</td>\n",
       "      <td>4593</td>\n",
       "      <td>0.099</td>\n",
       "    </tr>\n",
       "    <tr>\n",
       "      <th>2</th>\n",
       "      <td>CartScreenAppear</td>\n",
       "      <td>42365</td>\n",
       "      <td>3734</td>\n",
       "      <td>0.088</td>\n",
       "    </tr>\n",
       "    <tr>\n",
       "      <th>3</th>\n",
       "      <td>PaymentScreenSuccessful</td>\n",
       "      <td>34113</td>\n",
       "      <td>3539</td>\n",
       "      <td>0.104</td>\n",
       "    </tr>\n",
       "    <tr>\n",
       "      <th>4</th>\n",
       "      <td>Tutorial</td>\n",
       "      <td>1039</td>\n",
       "      <td>840</td>\n",
       "      <td>0.808</td>\n",
       "    </tr>\n",
       "  </tbody>\n",
       "</table>\n",
       "</div>"
      ],
      "text/plain": [
       "                event_name  event_count  nunique_users  prop_event_user\n",
       "0         MainScreenAppear       117431           7419            0.063\n",
       "1       OffersScreenAppear        46350           4593            0.099\n",
       "2         CartScreenAppear        42365           3734            0.088\n",
       "3  PaymentScreenSuccessful        34113           3539            0.104\n",
       "4                 Tutorial         1039            840            0.808"
      ]
     },
     "execution_count": 21,
     "metadata": {},
     "output_type": "execute_result"
    }
   ],
   "source": [
    "# Renombrar columnas para mejor lectura\n",
    "\n",
    "events_funnel.columns = ['event_name','event_count']\n",
    "funnel_users_events.columns = ['event_name','nunique_users']\n",
    "\n",
    "# Merge de dataframes\n",
    "\n",
    "general_funnel = events_funnel.merge(funnel_users_events, on = 'event_name')\n",
    "general_funnel['prop_event_user'] = (general_funnel['nunique_users'] / general_funnel['event_count']).round(3)\n",
    "\n",
    "general_funnel"
   ]
  },
  {
   "cell_type": "markdown",
   "metadata": {},
   "source": [
    "- De entrada confirmamos lo visto en el tutorial, ya que un 80% de usuarios únicos llegan ahí, dando a entender aún más que es gente que busca directamente ayuda por algo del producto que adquirieron.\n",
    "\n",
    "- Para los demás eventos, observamos que las personas suelen estar oscilando mucho entre las diferentes páginas antes de llegar a un pago mediante el portal web.\n",
    "\n",
    "- ¿Será posible que realicen varias veces el proceso de meter al carrito algún producto? o bien, ¿quizá muestran indecisión al momento de realizar una compra?"
   ]
  },
  {
   "cell_type": "code",
   "execution_count": 22,
   "metadata": {},
   "outputs": [
    {
     "data": {
      "application/vnd.microsoft.datawrangler.viewer.v0+json": {
       "columns": [
        {
         "name": "index",
         "rawType": "int64",
         "type": "integer"
        },
        {
         "name": "event_name",
         "rawType": "object",
         "type": "string"
        },
        {
         "name": "event_count",
         "rawType": "int64",
         "type": "integer"
        },
        {
         "name": "nunique_users",
         "rawType": "int64",
         "type": "integer"
        },
        {
         "name": "prop_event_user",
         "rawType": "float64",
         "type": "float"
        },
        {
         "name": "retention",
         "rawType": "float64",
         "type": "float"
        }
       ],
       "conversionMethod": "pd.DataFrame",
       "ref": "7f6b7de0-6d52-4ebd-ba25-03425747128a",
       "rows": [
        [
         "0",
         "MainScreenAppear",
         "117431",
         "7419",
         "0.063",
         "100.0"
        ],
        [
         "1",
         "OffersScreenAppear",
         "46350",
         "4593",
         "0.099",
         "61.91"
        ],
        [
         "2",
         "CartScreenAppear",
         "42365",
         "3734",
         "0.088",
         "81.3"
        ],
        [
         "3",
         "PaymentScreenSuccessful",
         "34113",
         "3539",
         "0.104",
         "94.78"
        ],
        [
         "4",
         "Tutorial",
         "1039",
         "840",
         "0.808",
         "23.74"
        ]
       ],
       "shape": {
        "columns": 5,
        "rows": 5
       }
      },
      "text/html": [
       "<div>\n",
       "<style scoped>\n",
       "    .dataframe tbody tr th:only-of-type {\n",
       "        vertical-align: middle;\n",
       "    }\n",
       "\n",
       "    .dataframe tbody tr th {\n",
       "        vertical-align: top;\n",
       "    }\n",
       "\n",
       "    .dataframe thead th {\n",
       "        text-align: right;\n",
       "    }\n",
       "</style>\n",
       "<table border=\"1\" class=\"dataframe\">\n",
       "  <thead>\n",
       "    <tr style=\"text-align: right;\">\n",
       "      <th></th>\n",
       "      <th>event_name</th>\n",
       "      <th>event_count</th>\n",
       "      <th>nunique_users</th>\n",
       "      <th>prop_event_user</th>\n",
       "      <th>retention</th>\n",
       "    </tr>\n",
       "  </thead>\n",
       "  <tbody>\n",
       "    <tr>\n",
       "      <th>0</th>\n",
       "      <td>MainScreenAppear</td>\n",
       "      <td>117431</td>\n",
       "      <td>7419</td>\n",
       "      <td>0.063</td>\n",
       "      <td>100.00</td>\n",
       "    </tr>\n",
       "    <tr>\n",
       "      <th>1</th>\n",
       "      <td>OffersScreenAppear</td>\n",
       "      <td>46350</td>\n",
       "      <td>4593</td>\n",
       "      <td>0.099</td>\n",
       "      <td>61.91</td>\n",
       "    </tr>\n",
       "    <tr>\n",
       "      <th>2</th>\n",
       "      <td>CartScreenAppear</td>\n",
       "      <td>42365</td>\n",
       "      <td>3734</td>\n",
       "      <td>0.088</td>\n",
       "      <td>81.30</td>\n",
       "    </tr>\n",
       "    <tr>\n",
       "      <th>3</th>\n",
       "      <td>PaymentScreenSuccessful</td>\n",
       "      <td>34113</td>\n",
       "      <td>3539</td>\n",
       "      <td>0.104</td>\n",
       "      <td>94.78</td>\n",
       "    </tr>\n",
       "    <tr>\n",
       "      <th>4</th>\n",
       "      <td>Tutorial</td>\n",
       "      <td>1039</td>\n",
       "      <td>840</td>\n",
       "      <td>0.808</td>\n",
       "      <td>23.74</td>\n",
       "    </tr>\n",
       "  </tbody>\n",
       "</table>\n",
       "</div>"
      ],
      "text/plain": [
       "                event_name  event_count  nunique_users  prop_event_user  \\\n",
       "0         MainScreenAppear       117431           7419            0.063   \n",
       "1       OffersScreenAppear        46350           4593            0.099   \n",
       "2         CartScreenAppear        42365           3734            0.088   \n",
       "3  PaymentScreenSuccessful        34113           3539            0.104   \n",
       "4                 Tutorial         1039            840            0.808   \n",
       "\n",
       "   retention  \n",
       "0     100.00  \n",
       "1      61.91  \n",
       "2      81.30  \n",
       "3      94.78  \n",
       "4      23.74  "
      ]
     },
     "execution_count": 22,
     "metadata": {},
     "output_type": "execute_result"
    }
   ],
   "source": [
    "general_funnel['retention'] = 100.0\n",
    "\n",
    "general_funnel.loc[1:,'retention'] = (general_funnel['nunique_users'][1:].values / general_funnel['nunique_users'][:-1].values) * 100\n",
    "\n",
    "general_funnel['retention'] = general_funnel['retention'].round(2)\n",
    "\n",
    "general_funnel"
   ]
  },
  {
   "cell_type": "code",
   "execution_count": null,
   "metadata": {},
   "outputs": [
    {
     "data": {
      "image/png": "[encoded data removed]",
      "text/plain": [
       "<Figure size 1000x500 with 1 Axes>"
      ]
     },
     "metadata": {},
     "output_type": "display_data"
    }
   ],
   "source": [
    "# Graficar la retención\n",
    "\n",
    "plt.figure(figsize=(10, 5))\n",
    "plt.plot(general_funnel['event_name'], general_funnel['retention'], marker='o', color='purple')\n",
    "plt.title(\"Retention rates\")\n",
    "plt.xlabel('Event names')\n",
    "plt.ylabel(\"Retention %\")\n",
    "plt.ylim(0,110)\n",
    "\n",
    "for i, txt in enumerate(general_funnel['retention']):\n",
    "    plt.text(general_funnel['event_name'][i], txt + 5 , f'{txt:.2f}%', ha='center', va='bottom', fontsize=10)\n",
    "\n",
    "plt.show()"
   ]
  },
  {
   "cell_type": "markdown",
   "metadata": {},
   "source": [
    "- Observamos que la etapa en la que más perdemos usuarios es en la de ofertas. \n",
    "- Se entiende que es o porque los usuarios no buscan comprar, o bien, cuando compran, van directo por lo que buscan y no están buscando ofertas en sus productos.\n",
    "- Ignoramos el tutorial porque seguimos la línea de que no es parte del proceso de compra llegar al tutorial, sino que es por consultas aparte."
   ]
  },
  {
   "cell_type": "code",
   "execution_count": 24,
   "metadata": {},
   "outputs": [
    {
     "data": {
      "application/vnd.microsoft.datawrangler.viewer.v0+json": {
       "columns": [
        {
         "name": "index",
         "rawType": "int64",
         "type": "integer"
        },
        {
         "name": "event_name",
         "rawType": "object",
         "type": "string"
        },
        {
         "name": "event_count",
         "rawType": "int64",
         "type": "integer"
        },
        {
         "name": "nunique_users",
         "rawType": "int64",
         "type": "integer"
        },
        {
         "name": "prop_event_user",
         "rawType": "float64",
         "type": "float"
        },
        {
         "name": "retention",
         "rawType": "float64",
         "type": "float"
        }
       ],
       "conversionMethod": "pd.DataFrame",
       "ref": "6a75e198-1276-4406-9734-605a68303253",
       "rows": [
        [
         "0",
         "MainScreenAppear",
         "117431",
         "7419",
         "0.063",
         "100.0"
        ],
        [
         "1",
         "OffersScreenAppear",
         "46350",
         "4593",
         "0.099",
         "61.91"
        ],
        [
         "2",
         "CartScreenAppear",
         "42365",
         "3734",
         "0.088",
         "81.3"
        ],
        [
         "3",
         "PaymentScreenSuccessful",
         "34113",
         "3539",
         "0.104",
         "94.78"
        ],
        [
         "4",
         "Tutorial",
         "1039",
         "840",
         "0.808",
         "23.74"
        ]
       ],
       "shape": {
        "columns": 5,
        "rows": 5
       }
      },
      "text/html": [
       "<div>\n",
       "<style scoped>\n",
       "    .dataframe tbody tr th:only-of-type {\n",
       "        vertical-align: middle;\n",
       "    }\n",
       "\n",
       "    .dataframe tbody tr th {\n",
       "        vertical-align: top;\n",
       "    }\n",
       "\n",
       "    .dataframe thead th {\n",
       "        text-align: right;\n",
       "    }\n",
       "</style>\n",
       "<table border=\"1\" class=\"dataframe\">\n",
       "  <thead>\n",
       "    <tr style=\"text-align: right;\">\n",
       "      <th></th>\n",
       "      <th>event_name</th>\n",
       "      <th>event_count</th>\n",
       "      <th>nunique_users</th>\n",
       "      <th>prop_event_user</th>\n",
       "      <th>retention</th>\n",
       "    </tr>\n",
       "  </thead>\n",
       "  <tbody>\n",
       "    <tr>\n",
       "      <th>0</th>\n",
       "      <td>MainScreenAppear</td>\n",
       "      <td>117431</td>\n",
       "      <td>7419</td>\n",
       "      <td>0.063</td>\n",
       "      <td>100.00</td>\n",
       "    </tr>\n",
       "    <tr>\n",
       "      <th>1</th>\n",
       "      <td>OffersScreenAppear</td>\n",
       "      <td>46350</td>\n",
       "      <td>4593</td>\n",
       "      <td>0.099</td>\n",
       "      <td>61.91</td>\n",
       "    </tr>\n",
       "    <tr>\n",
       "      <th>2</th>\n",
       "      <td>CartScreenAppear</td>\n",
       "      <td>42365</td>\n",
       "      <td>3734</td>\n",
       "      <td>0.088</td>\n",
       "      <td>81.30</td>\n",
       "    </tr>\n",
       "    <tr>\n",
       "      <th>3</th>\n",
       "      <td>PaymentScreenSuccessful</td>\n",
       "      <td>34113</td>\n",
       "      <td>3539</td>\n",
       "      <td>0.104</td>\n",
       "      <td>94.78</td>\n",
       "    </tr>\n",
       "    <tr>\n",
       "      <th>4</th>\n",
       "      <td>Tutorial</td>\n",
       "      <td>1039</td>\n",
       "      <td>840</td>\n",
       "      <td>0.808</td>\n",
       "      <td>23.74</td>\n",
       "    </tr>\n",
       "  </tbody>\n",
       "</table>\n",
       "</div>"
      ],
      "text/plain": [
       "                event_name  event_count  nunique_users  prop_event_user  \\\n",
       "0         MainScreenAppear       117431           7419            0.063   \n",
       "1       OffersScreenAppear        46350           4593            0.099   \n",
       "2         CartScreenAppear        42365           3734            0.088   \n",
       "3  PaymentScreenSuccessful        34113           3539            0.104   \n",
       "4                 Tutorial         1039            840            0.808   \n",
       "\n",
       "   retention  \n",
       "0     100.00  \n",
       "1      61.91  \n",
       "2      81.30  \n",
       "3      94.78  \n",
       "4      23.74  "
      ]
     },
     "execution_count": 24,
     "metadata": {},
     "output_type": "execute_result"
    }
   ],
   "source": [
    "general_funnel"
   ]
  },
  {
   "cell_type": "code",
   "execution_count": 25,
   "metadata": {},
   "outputs": [
    {
     "data": {
      "text/plain": [
       "np.float64(0.47701846610055265)"
      ]
     },
     "execution_count": 25,
     "metadata": {},
     "output_type": "execute_result"
    }
   ],
   "source": [
    "# Porcentaje de usuarios que realizan todo el viaje para la compra de un producto\n",
    "\n",
    "general_funnel.loc[3,'nunique_users'] / general_funnel.loc[0,'nunique_users']"
   ]
  },
  {
   "cell_type": "markdown",
   "metadata": {},
   "source": [
    "- De un 100% de usuarios únicos que ingresan al portal, contamos con un 47% de usuarios que realizan todo el proceso de una compra en el portal web."
   ]
  },
  {
   "cell_type": "markdown",
   "metadata": {},
   "source": [
    "## Cálculos estadísticos"
   ]
  },
  {
   "cell_type": "code",
   "execution_count": 26,
   "metadata": {},
   "outputs": [
    {
     "data": {
      "application/vnd.microsoft.datawrangler.viewer.v0+json": {
       "columns": [
        {
         "name": "index",
         "rawType": "int64",
         "type": "integer"
        },
        {
         "name": "group",
         "rawType": "object",
         "type": "string"
        },
        {
         "name": "event_name",
         "rawType": "int64",
         "type": "integer"
        }
       ],
       "conversionMethod": "pd.DataFrame",
       "ref": "2b5e23de-f465-4462-a157-58f52e168ab7",
       "rows": [
        [
         "0",
         "A1",
         "79102"
        ],
        [
         "1",
         "A2",
         "76804"
        ],
        [
         "2",
         "B",
         "84353"
        ]
       ],
       "shape": {
        "columns": 2,
        "rows": 3
       }
      },
      "text/html": [
       "<div>\n",
       "<style scoped>\n",
       "    .dataframe tbody tr th:only-of-type {\n",
       "        vertical-align: middle;\n",
       "    }\n",
       "\n",
       "    .dataframe tbody tr th {\n",
       "        vertical-align: top;\n",
       "    }\n",
       "\n",
       "    .dataframe thead th {\n",
       "        text-align: right;\n",
       "    }\n",
       "</style>\n",
       "<table border=\"1\" class=\"dataframe\">\n",
       "  <thead>\n",
       "    <tr style=\"text-align: right;\">\n",
       "      <th></th>\n",
       "      <th>group</th>\n",
       "      <th>event_name</th>\n",
       "    </tr>\n",
       "  </thead>\n",
       "  <tbody>\n",
       "    <tr>\n",
       "      <th>0</th>\n",
       "      <td>A1</td>\n",
       "      <td>79102</td>\n",
       "    </tr>\n",
       "    <tr>\n",
       "      <th>1</th>\n",
       "      <td>A2</td>\n",
       "      <td>76804</td>\n",
       "    </tr>\n",
       "    <tr>\n",
       "      <th>2</th>\n",
       "      <td>B</td>\n",
       "      <td>84353</td>\n",
       "    </tr>\n",
       "  </tbody>\n",
       "</table>\n",
       "</div>"
      ],
      "text/plain": [
       "  group  event_name\n",
       "0    A1       79102\n",
       "1    A2       76804\n",
       "2     B       84353"
      ]
     },
     "execution_count": 26,
     "metadata": {},
     "output_type": "execute_result"
    }
   ],
   "source": [
    "# Revisaremos si hay diferencia estadísticamente significativa entre los grupos de control\n",
    "# Para ello, revisaremos el promedio de eventos por usuario\n",
    "\n",
    "# Retiraremos el evento de tutorial, pues no es relevante en cuanto a las compras de los clientes\n",
    "\n",
    "df_clean = df2[df2['event_name'] != 'Tutorial'].reset_index(drop=True)\n",
    "\n",
    "# Revisaremos el conteo de evento por grupos\n",
    "\n",
    "df_clean.groupby('group')['event_name'].count().reset_index()"
   ]
  },
  {
   "cell_type": "markdown",
   "metadata": {},
   "source": [
    "- El conteo por grupos sigue siendo bastante similar, procederemos a revisar las diferencias estadísicamente significativas de los grupos de control.\n",
    "- Nos mantenemos en el plan de hacerlo mediante el promedio de eventos por usuario."
   ]
  },
  {
   "cell_type": "code",
   "execution_count": 27,
   "metadata": {},
   "outputs": [
    {
     "data": {
      "text/plain": [
       "group\n",
       "A1    31.857431\n",
       "A2    30.574841\n",
       "B     33.275345\n",
       "Name: event_name, dtype: float64"
      ]
     },
     "execution_count": 27,
     "metadata": {},
     "output_type": "execute_result"
    }
   ],
   "source": [
    "df_grouped = df_clean.groupby(['group','device_id'])['event_name'].count().reset_index()\n",
    "\n",
    "df_grouped.groupby('group')['event_name'].mean() # Calculo del promedio de eventos por usuario por grupo"
   ]
  },
  {
   "cell_type": "code",
   "execution_count": 28,
   "metadata": {},
   "outputs": [
    {
     "name": "stdout",
     "output_type": "stream",
     "text": [
      "Shapiro A1: 0.29869930301127934, pvalue A1: 1.024318497560941e-70\n",
      "Shapiro A2: 0.3322829160143268, pvalue A2: 5.205634148518215e-70\n"
     ]
    }
   ],
   "source": [
    "# Revisar normalidad de las distribuciones | Shapiro Wilk\n",
    "\n",
    "# Ho = Las distribuciones siguen una distribución normal\n",
    "# Ha = Las distribuciones no siguen una distribución normal\n",
    "\n",
    "alpha = 0.05\n",
    "\n",
    "A1_group = df_grouped[df_grouped['group'] == 'A1']['event_name']\n",
    "A2_group = df_grouped[df_grouped['group'] == 'A2']['event_name']\n",
    "\n",
    "shapiro_A1 = st.shapiro(A1_group)\n",
    "shapiro_A2 = st.shapiro(A2_group)\n",
    "\n",
    "print(f\"Shapiro A1: {shapiro_A1.statistic}, pvalue A1: {shapiro_A1.pvalue}\")\n",
    "print(f\"Shapiro A2: {shapiro_A2.statistic}, pvalue A2: {shapiro_A2.pvalue}\")"
   ]
  },
  {
   "cell_type": "markdown",
   "metadata": {},
   "source": [
    "- Concluimos que las distribuciones no siguen una distribución normal ya que el pvalue de ambas es menor a 0.05. Por ello, ocuparemos la prueba de Mann Whitney U"
   ]
  },
  {
   "cell_type": "code",
   "execution_count": 29,
   "metadata": {},
   "outputs": [
    {
     "name": "stdout",
     "output_type": "stream",
     "text": [
      "pvalue: 0.8432445759738187\n",
      "No podemos rechazar la hipótesis nula, las distribuciones se comportan estadisticamente similares.\n"
     ]
    }
   ],
   "source": [
    "# Revisar si hay diferencia estadísticamente significativa entre los grupos de control mediante el promedio de eventos por usuario.\n",
    "\n",
    "# Ho = El promedio de eventos por usuario es estadisticamente igual en ambas distribuciones\n",
    "# Ha = El promedio de eventos por usuario es estadisticamente diferente en ambas distribuciones\n",
    "\n",
    "results1 = st.mannwhitneyu(A1_group, A2_group)\n",
    "\n",
    "print(f\"pvalue: {results1.pvalue}\")\n",
    "\n",
    "if results1.pvalue < alpha:\n",
    "    print(\"Rechazamos hipótesis nula, hay diferencia en los promedios de ambas distribuciones\")\n",
    "else:\n",
    "    print(\"No podemos rechazar la hipótesis nula, las distribuciones se comportan estadisticamente similares.\")"
   ]
  },
  {
   "cell_type": "markdown",
   "metadata": {},
   "source": [
    "- Con esto concluimos que los grupos de control son lo suficientemente buenos para poder proceder con la comparación con el grupo de tratamiento (B)"
   ]
  },
  {
   "cell_type": "code",
   "execution_count": 30,
   "metadata": {},
   "outputs": [
    {
     "data": {
      "image/png": "[encoded data removed]",
      "text/plain": [
       "<Figure size 1200x600 with 1 Axes>"
      ]
     },
     "metadata": {},
     "output_type": "display_data"
    }
   ],
   "source": [
    "# Cantidad de usuarios únicos en cada evento, dividido por grupo\n",
    "\n",
    "events_nuser = df_clean.groupby(['group','event_name'])['device_id'].nunique().reset_index().sort_values(by=['device_id','group'], ascending=False)\n",
    "\n",
    "plt.figure(figsize=(12, 6))\n",
    "\n",
    "# Usar seaborn para un gráfico de barras agrupadas\n",
    "sns.barplot(data=events_nuser, x='event_name', y='device_id', hue='group', palette='viridis')\n",
    "\n",
    "plt.xlabel('Events')\n",
    "plt.ylabel('# of unique users')\n",
    "plt.title('# Unique users per event and by group')\n",
    "plt.xticks(rotation=45, ha='right')\n",
    "plt.legend(title='Group')\n",
    "\n",
    "plt.show()"
   ]
  },
  {
   "cell_type": "markdown",
   "metadata": {},
   "source": [
    "- Observamos que está bastante balanceado el número de usuarios únicos que realizaron cada acción aún dividiéndolos por su grupo correspondiente.\n",
    "- Procedemos con los análisis siguientes, referente a la proporción de usuarios por evento y por grupo."
   ]
  },
  {
   "cell_type": "code",
   "execution_count": 38,
   "metadata": {},
   "outputs": [
    {
     "data": {
      "application/vnd.microsoft.datawrangler.viewer.v0+json": {
       "columns": [
        {
         "name": "index",
         "rawType": "int64",
         "type": "integer"
        },
        {
         "name": "event_name",
         "rawType": "object",
         "type": "string"
        },
        {
         "name": "device_id",
         "rawType": "int64",
         "type": "integer"
        },
        {
         "name": "event_ts",
         "rawType": "datetime64[ns]",
         "type": "datetime"
        },
        {
         "name": "group",
         "rawType": "object",
         "type": "string"
        },
        {
         "name": "day",
         "rawType": "int32",
         "type": "integer"
        },
        {
         "name": "hour",
         "rawType": "int32",
         "type": "integer"
        }
       ],
       "conversionMethod": "pd.DataFrame",
       "ref": "4d8a5843-9e3b-42d1-bf6b-e19d53d14ee0",
       "rows": [
        [
         "0",
         "MainScreenAppear",
         "3737462046622621720",
         "2019-08-01 00:08:00",
         "A1",
         "1",
         "0"
        ],
        [
         "1",
         "MainScreenAppear",
         "3737462046622621720",
         "2019-08-01 00:08:55",
         "A1",
         "1",
         "0"
        ],
        [
         "2",
         "OffersScreenAppear",
         "3737462046622621720",
         "2019-08-01 00:08:58",
         "A1",
         "1",
         "0"
        ],
        [
         "3",
         "MainScreenAppear",
         "1433840883824088890",
         "2019-08-01 00:08:59",
         "A2",
         "1",
         "0"
        ],
        [
         "4",
         "MainScreenAppear",
         "4899590676214355127",
         "2019-08-01 00:10:15",
         "A2",
         "1",
         "0"
        ],
        [
         "5",
         "OffersScreenAppear",
         "3737462046622621720",
         "2019-08-01 00:10:26",
         "A1",
         "1",
         "0"
        ],
        [
         "6",
         "MainScreenAppear",
         "3737462046622621720",
         "2019-08-01 00:10:47",
         "A1",
         "1",
         "0"
        ],
        [
         "7",
         "MainScreenAppear",
         "3737462046622621720",
         "2019-08-01 00:11:10",
         "A1",
         "1",
         "0"
        ],
        [
         "8",
         "MainScreenAppear",
         "3737462046622621720",
         "2019-08-01 00:11:20",
         "A1",
         "1",
         "0"
        ],
        [
         "9",
         "MainScreenAppear",
         "4899590676214355127",
         "2019-08-01 00:11:28",
         "A2",
         "1",
         "0"
        ],
        [
         "10",
         "OffersScreenAppear",
         "4899590676214355127",
         "2019-08-01 00:11:30",
         "A2",
         "1",
         "0"
        ],
        [
         "11",
         "MainScreenAppear",
         "1182179323890311443",
         "2019-08-01 00:11:57",
         "A1",
         "1",
         "0"
        ],
        [
         "12",
         "MainScreenAppear",
         "3737462046622621720",
         "2019-08-01 00:12:34",
         "A1",
         "1",
         "0"
        ],
        [
         "13",
         "OffersScreenAppear",
         "4899590676214355127",
         "2019-08-01 00:12:36",
         "A2",
         "1",
         "0"
        ],
        [
         "14",
         "MainScreenAppear",
         "4613461174774205834",
         "2019-08-01 00:14:31",
         "B",
         "1",
         "0"
        ],
        [
         "15",
         "MainScreenAppear",
         "4613461174774205834",
         "2019-08-01 00:14:34",
         "B",
         "1",
         "0"
        ],
        [
         "16",
         "CartScreenAppear",
         "4613461174774205834",
         "2019-08-01 00:14:34",
         "B",
         "1",
         "0"
        ],
        [
         "17",
         "PaymentScreenSuccessful",
         "4613461174774205834",
         "2019-08-01 00:14:43",
         "B",
         "1",
         "0"
        ],
        [
         "18",
         "OffersScreenAppear",
         "4613461174774205834",
         "2019-08-01 00:14:51",
         "B",
         "1",
         "0"
        ],
        [
         "19",
         "MainScreenAppear",
         "205293431553451771",
         "2019-08-01 00:15:11",
         "A1",
         "1",
         "0"
        ],
        [
         "20",
         "MainScreenAppear",
         "205293431553451771",
         "2019-08-01 00:15:15",
         "A1",
         "1",
         "0"
        ],
        [
         "21",
         "MainScreenAppear",
         "205293431553451771",
         "2019-08-01 00:15:18",
         "A1",
         "1",
         "0"
        ],
        [
         "22",
         "MainScreenAppear",
         "6121366368901703338",
         "2019-08-01 00:15:50",
         "B",
         "1",
         "0"
        ],
        [
         "23",
         "OffersScreenAppear",
         "6121366368901703338",
         "2019-08-01 00:15:54",
         "B",
         "1",
         "0"
        ],
        [
         "24",
         "MainScreenAppear",
         "205293431553451771",
         "2019-08-01 00:16:05",
         "A1",
         "1",
         "0"
        ],
        [
         "25",
         "MainScreenAppear",
         "6022375714473447159",
         "2019-08-01 00:16:38",
         "B",
         "1",
         "0"
        ],
        [
         "26",
         "MainScreenAppear",
         "6022375714473447159",
         "2019-08-01 00:17:01",
         "B",
         "1",
         "0"
        ],
        [
         "27",
         "OffersScreenAppear",
         "6022375714473447159",
         "2019-08-01 00:17:07",
         "B",
         "1",
         "0"
        ],
        [
         "28",
         "MainScreenAppear",
         "205293431553451771",
         "2019-08-01 00:17:08",
         "A1",
         "1",
         "0"
        ],
        [
         "29",
         "MainScreenAppear",
         "6022375714473447159",
         "2019-08-01 00:20:11",
         "B",
         "1",
         "0"
        ],
        [
         "30",
         "MainScreenAppear",
         "205293431553451771",
         "2019-08-01 00:20:21",
         "A1",
         "1",
         "0"
        ],
        [
         "31",
         "MainScreenAppear",
         "6022375714473447159",
         "2019-08-01 00:22:11",
         "B",
         "1",
         "0"
        ],
        [
         "32",
         "MainScreenAppear",
         "2712290788139738557",
         "2019-08-01 00:22:41",
         "A2",
         "1",
         "0"
        ],
        [
         "33",
         "PaymentScreenSuccessful",
         "2712290788139738557",
         "2019-08-01 00:22:44",
         "A2",
         "1",
         "0"
        ],
        [
         "34",
         "CartScreenAppear",
         "2712290788139738557",
         "2019-08-01 00:22:45",
         "A2",
         "1",
         "0"
        ],
        [
         "35",
         "MainScreenAppear",
         "2712290788139738557",
         "2019-08-01 00:22:45",
         "A2",
         "1",
         "0"
        ],
        [
         "36",
         "OffersScreenAppear",
         "2712290788139738557",
         "2019-08-01 00:22:53",
         "A2",
         "1",
         "0"
        ],
        [
         "37",
         "PaymentScreenSuccessful",
         "2712290788139738557",
         "2019-08-01 00:23:08",
         "A2",
         "1",
         "0"
        ],
        [
         "38",
         "CartScreenAppear",
         "2712290788139738557",
         "2019-08-01 00:23:09",
         "A2",
         "1",
         "0"
        ],
        [
         "39",
         "MainScreenAppear",
         "6022375714473447159",
         "2019-08-01 00:23:17",
         "B",
         "1",
         "0"
        ],
        [
         "40",
         "CartScreenAppear",
         "2712290788139738557",
         "2019-08-01 00:23:20",
         "A2",
         "1",
         "0"
        ],
        [
         "41",
         "PaymentScreenSuccessful",
         "2712290788139738557",
         "2019-08-01 00:23:20",
         "A2",
         "1",
         "0"
        ],
        [
         "42",
         "MainScreenAppear",
         "6022375714473447159",
         "2019-08-01 00:23:24",
         "B",
         "1",
         "0"
        ],
        [
         "43",
         "PaymentScreenSuccessful",
         "2712290788139738557",
         "2019-08-01 00:23:34",
         "A2",
         "1",
         "0"
        ],
        [
         "44",
         "CartScreenAppear",
         "2712290788139738557",
         "2019-08-01 00:23:35",
         "A2",
         "1",
         "0"
        ],
        [
         "45",
         "CartScreenAppear",
         "2712290788139738557",
         "2019-08-01 00:23:50",
         "A2",
         "1",
         "0"
        ],
        [
         "46",
         "PaymentScreenSuccessful",
         "2712290788139738557",
         "2019-08-01 00:23:50",
         "A2",
         "1",
         "0"
        ],
        [
         "47",
         "MainScreenAppear",
         "1433840883824088890",
         "2019-08-01 00:23:55",
         "A2",
         "1",
         "0"
        ],
        [
         "48",
         "PaymentScreenSuccessful",
         "2712290788139738557",
         "2019-08-01 00:23:58",
         "A2",
         "1",
         "0"
        ],
        [
         "49",
         "CartScreenAppear",
         "2712290788139738557",
         "2019-08-01 00:23:59",
         "A2",
         "1",
         "0"
        ]
       ],
       "shape": {
        "columns": 6,
        "rows": 240259
       }
      },
      "text/html": [
       "<div>\n",
       "<style scoped>\n",
       "    .dataframe tbody tr th:only-of-type {\n",
       "        vertical-align: middle;\n",
       "    }\n",
       "\n",
       "    .dataframe tbody tr th {\n",
       "        vertical-align: top;\n",
       "    }\n",
       "\n",
       "    .dataframe thead th {\n",
       "        text-align: right;\n",
       "    }\n",
       "</style>\n",
       "<table border=\"1\" class=\"dataframe\">\n",
       "  <thead>\n",
       "    <tr style=\"text-align: right;\">\n",
       "      <th></th>\n",
       "      <th>event_name</th>\n",
       "      <th>device_id</th>\n",
       "      <th>event_ts</th>\n",
       "      <th>group</th>\n",
       "      <th>day</th>\n",
       "      <th>hour</th>\n",
       "    </tr>\n",
       "  </thead>\n",
       "  <tbody>\n",
       "    <tr>\n",
       "      <th>0</th>\n",
       "      <td>MainScreenAppear</td>\n",
       "      <td>3737462046622621720</td>\n",
       "      <td>2019-08-01 00:08:00</td>\n",
       "      <td>A1</td>\n",
       "      <td>1</td>\n",
       "      <td>0</td>\n",
       "    </tr>\n",
       "    <tr>\n",
       "      <th>1</th>\n",
       "      <td>MainScreenAppear</td>\n",
       "      <td>3737462046622621720</td>\n",
       "      <td>2019-08-01 00:08:55</td>\n",
       "      <td>A1</td>\n",
       "      <td>1</td>\n",
       "      <td>0</td>\n",
       "    </tr>\n",
       "    <tr>\n",
       "      <th>2</th>\n",
       "      <td>OffersScreenAppear</td>\n",
       "      <td>3737462046622621720</td>\n",
       "      <td>2019-08-01 00:08:58</td>\n",
       "      <td>A1</td>\n",
       "      <td>1</td>\n",
       "      <td>0</td>\n",
       "    </tr>\n",
       "    <tr>\n",
       "      <th>3</th>\n",
       "      <td>MainScreenAppear</td>\n",
       "      <td>1433840883824088890</td>\n",
       "      <td>2019-08-01 00:08:59</td>\n",
       "      <td>A2</td>\n",
       "      <td>1</td>\n",
       "      <td>0</td>\n",
       "    </tr>\n",
       "    <tr>\n",
       "      <th>4</th>\n",
       "      <td>MainScreenAppear</td>\n",
       "      <td>4899590676214355127</td>\n",
       "      <td>2019-08-01 00:10:15</td>\n",
       "      <td>A2</td>\n",
       "      <td>1</td>\n",
       "      <td>0</td>\n",
       "    </tr>\n",
       "    <tr>\n",
       "      <th>...</th>\n",
       "      <td>...</td>\n",
       "      <td>...</td>\n",
       "      <td>...</td>\n",
       "      <td>...</td>\n",
       "      <td>...</td>\n",
       "      <td>...</td>\n",
       "    </tr>\n",
       "    <tr>\n",
       "      <th>240254</th>\n",
       "      <td>MainScreenAppear</td>\n",
       "      <td>4599628364049201812</td>\n",
       "      <td>2019-08-07 21:12:25</td>\n",
       "      <td>A2</td>\n",
       "      <td>7</td>\n",
       "      <td>21</td>\n",
       "    </tr>\n",
       "    <tr>\n",
       "      <th>240255</th>\n",
       "      <td>MainScreenAppear</td>\n",
       "      <td>5849806612437486590</td>\n",
       "      <td>2019-08-07 21:13:59</td>\n",
       "      <td>A1</td>\n",
       "      <td>7</td>\n",
       "      <td>21</td>\n",
       "    </tr>\n",
       "    <tr>\n",
       "      <th>240256</th>\n",
       "      <td>MainScreenAppear</td>\n",
       "      <td>5746969938801999050</td>\n",
       "      <td>2019-08-07 21:14:43</td>\n",
       "      <td>A1</td>\n",
       "      <td>7</td>\n",
       "      <td>21</td>\n",
       "    </tr>\n",
       "    <tr>\n",
       "      <th>240257</th>\n",
       "      <td>MainScreenAppear</td>\n",
       "      <td>5746969938801999050</td>\n",
       "      <td>2019-08-07 21:14:58</td>\n",
       "      <td>A1</td>\n",
       "      <td>7</td>\n",
       "      <td>21</td>\n",
       "    </tr>\n",
       "    <tr>\n",
       "      <th>240258</th>\n",
       "      <td>OffersScreenAppear</td>\n",
       "      <td>5746969938801999050</td>\n",
       "      <td>2019-08-07 21:15:17</td>\n",
       "      <td>A1</td>\n",
       "      <td>7</td>\n",
       "      <td>21</td>\n",
       "    </tr>\n",
       "  </tbody>\n",
       "</table>\n",
       "<p>240259 rows × 6 columns</p>\n",
       "</div>"
      ],
      "text/plain": [
       "                event_name            device_id            event_ts group  \\\n",
       "0         MainScreenAppear  3737462046622621720 2019-08-01 00:08:00    A1   \n",
       "1         MainScreenAppear  3737462046622621720 2019-08-01 00:08:55    A1   \n",
       "2       OffersScreenAppear  3737462046622621720 2019-08-01 00:08:58    A1   \n",
       "3         MainScreenAppear  1433840883824088890 2019-08-01 00:08:59    A2   \n",
       "4         MainScreenAppear  4899590676214355127 2019-08-01 00:10:15    A2   \n",
       "...                    ...                  ...                 ...   ...   \n",
       "240254    MainScreenAppear  4599628364049201812 2019-08-07 21:12:25    A2   \n",
       "240255    MainScreenAppear  5849806612437486590 2019-08-07 21:13:59    A1   \n",
       "240256    MainScreenAppear  5746969938801999050 2019-08-07 21:14:43    A1   \n",
       "240257    MainScreenAppear  5746969938801999050 2019-08-07 21:14:58    A1   \n",
       "240258  OffersScreenAppear  5746969938801999050 2019-08-07 21:15:17    A1   \n",
       "\n",
       "        day  hour  \n",
       "0         1     0  \n",
       "1         1     0  \n",
       "2         1     0  \n",
       "3         1     0  \n",
       "4         1     0  \n",
       "...     ...   ...  \n",
       "240254    7    21  \n",
       "240255    7    21  \n",
       "240256    7    21  \n",
       "240257    7    21  \n",
       "240258    7    21  \n",
       "\n",
       "[240259 rows x 6 columns]"
      ]
     },
     "execution_count": 38,
     "metadata": {},
     "output_type": "execute_result"
    }
   ],
   "source": [
    "df_clean"
   ]
  },
  {
   "cell_type": "code",
   "execution_count": null,
   "metadata": {},
   "outputs": [
    {
     "data": {
      "application/vnd.microsoft.datawrangler.viewer.v0+json": {
       "columns": [
        {
         "name": "event_name",
         "rawType": "object",
         "type": "string"
        },
        {
         "name": "convA1",
         "rawType": "float64",
         "type": "float"
        }
       ],
       "conversionMethod": "pd.DataFrame",
       "ref": "b8199c40-db27-42b4-8bde-470818cde2c7",
       "rows": [
        [
         "MainScreenAppear",
         "100.0"
        ],
        [
         "OffersScreenAppear",
         "62.93877551020408"
        ],
        [
         "CartScreenAppear",
         "51.673469387755105"
        ],
        [
         "PaymentScreenSuccessful",
         "48.97959183673469"
        ]
       ],
       "shape": {
        "columns": 1,
        "rows": 4
       }
      },
      "text/html": [
       "<div>\n",
       "<style scoped>\n",
       "    .dataframe tbody tr th:only-of-type {\n",
       "        vertical-align: middle;\n",
       "    }\n",
       "\n",
       "    .dataframe tbody tr th {\n",
       "        vertical-align: top;\n",
       "    }\n",
       "\n",
       "    .dataframe thead th {\n",
       "        text-align: right;\n",
       "    }\n",
       "</style>\n",
       "<table border=\"1\" class=\"dataframe\">\n",
       "  <thead>\n",
       "    <tr style=\"text-align: right;\">\n",
       "      <th></th>\n",
       "      <th>convA1</th>\n",
       "    </tr>\n",
       "    <tr>\n",
       "      <th>event_name</th>\n",
       "      <th></th>\n",
       "    </tr>\n",
       "  </thead>\n",
       "  <tbody>\n",
       "    <tr>\n",
       "      <th>MainScreenAppear</th>\n",
       "      <td>100.000000</td>\n",
       "    </tr>\n",
       "    <tr>\n",
       "      <th>OffersScreenAppear</th>\n",
       "      <td>62.938776</td>\n",
       "    </tr>\n",
       "    <tr>\n",
       "      <th>CartScreenAppear</th>\n",
       "      <td>51.673469</td>\n",
       "    </tr>\n",
       "    <tr>\n",
       "      <th>PaymentScreenSuccessful</th>\n",
       "      <td>48.979592</td>\n",
       "    </tr>\n",
       "  </tbody>\n",
       "</table>\n",
       "</div>"
      ],
      "text/plain": [
       "                             convA1\n",
       "event_name                         \n",
       "MainScreenAppear         100.000000\n",
       "OffersScreenAppear        62.938776\n",
       "CartScreenAppear          51.673469\n",
       "PaymentScreenSuccessful   48.979592"
      ]
     },
     "execution_count": 42,
     "metadata": {},
     "output_type": "execute_result"
    }
   ],
   "source": [
    "# Tasas de conversión A1\n",
    "\n",
    "funnel_A1 = df_clean.query(\"group =='A1'\").pivot_table(index = 'event_name', values = 'device_id', aggfunc='nunique').sort_values('device_id',ascending=False)\n",
    "\n",
    "n_A1 = funnel_A1['device_id'].max()\n",
    "funnel_A1['convA1'] = 100 * funnel_A1['device_id'] / n_A1\n",
    "funnel_A1.drop(columns='device_id',inplace=True)\n",
    "\n",
    "funnel_A1"
   ]
  },
  {
   "cell_type": "code",
   "execution_count": null,
   "metadata": {},
   "outputs": [
    {
     "data": {
      "application/vnd.microsoft.datawrangler.viewer.v0+json": {
       "columns": [
        {
         "name": "event_name",
         "rawType": "object",
         "type": "string"
        },
        {
         "name": "convA1",
         "rawType": "float64",
         "type": "float"
        }
       ],
       "conversionMethod": "pd.DataFrame",
       "ref": "528483d0-dfc3-4ddd-a3aa-da16a85c6138",
       "rows": [
        [
         "MainScreenAppear",
         "100.0"
        ],
        [
         "OffersScreenAppear",
         "61.38933764135703"
        ],
        [
         "CartScreenAppear",
         "50.0"
        ],
        [
         "PaymentScreenSuccessful",
         "46.76898222940226"
        ]
       ],
       "shape": {
        "columns": 1,
        "rows": 4
       }
      },
      "text/html": [
       "<div>\n",
       "<style scoped>\n",
       "    .dataframe tbody tr th:only-of-type {\n",
       "        vertical-align: middle;\n",
       "    }\n",
       "\n",
       "    .dataframe tbody tr th {\n",
       "        vertical-align: top;\n",
       "    }\n",
       "\n",
       "    .dataframe thead th {\n",
       "        text-align: right;\n",
       "    }\n",
       "</style>\n",
       "<table border=\"1\" class=\"dataframe\">\n",
       "  <thead>\n",
       "    <tr style=\"text-align: right;\">\n",
       "      <th></th>\n",
       "      <th>convA1</th>\n",
       "    </tr>\n",
       "    <tr>\n",
       "      <th>event_name</th>\n",
       "      <th></th>\n",
       "    </tr>\n",
       "  </thead>\n",
       "  <tbody>\n",
       "    <tr>\n",
       "      <th>MainScreenAppear</th>\n",
       "      <td>100.000000</td>\n",
       "    </tr>\n",
       "    <tr>\n",
       "      <th>OffersScreenAppear</th>\n",
       "      <td>61.389338</td>\n",
       "    </tr>\n",
       "    <tr>\n",
       "      <th>CartScreenAppear</th>\n",
       "      <td>50.000000</td>\n",
       "    </tr>\n",
       "    <tr>\n",
       "      <th>PaymentScreenSuccessful</th>\n",
       "      <td>46.768982</td>\n",
       "    </tr>\n",
       "  </tbody>\n",
       "</table>\n",
       "</div>"
      ],
      "text/plain": [
       "                             convA1\n",
       "event_name                         \n",
       "MainScreenAppear         100.000000\n",
       "OffersScreenAppear        61.389338\n",
       "CartScreenAppear          50.000000\n",
       "PaymentScreenSuccessful   46.768982"
      ]
     },
     "execution_count": 43,
     "metadata": {},
     "output_type": "execute_result"
    }
   ],
   "source": [
    "# Tasas de conversión A2\n",
    "\n",
    "funnel_A2 = df_clean.query(\"group =='A2'\").pivot_table(index = 'event_name', values = 'device_id', aggfunc='nunique').sort_values('device_id',ascending=False)\n",
    "\n",
    "n_A2 = funnel_A2['device_id'].max()\n",
    "funnel_A2['convA2'] = 100 * funnel_A2['device_id'] / n_A2\n",
    "funnel_A2.drop(columns='device_id',inplace=True)\n",
    "\n",
    "funnel_A2"
   ]
  },
  {
   "cell_type": "code",
   "execution_count": 44,
   "metadata": {},
   "outputs": [
    {
     "data": {
      "application/vnd.microsoft.datawrangler.viewer.v0+json": {
       "columns": [
        {
         "name": "event_name",
         "rawType": "object",
         "type": "string"
        },
        {
         "name": "convB",
         "rawType": "float64",
         "type": "float"
        }
       ],
       "conversionMethod": "pd.DataFrame",
       "ref": "cc3676db-455c-4d14-8500-cf28e2e86272",
       "rows": [
        [
         "MainScreenAppear",
         "100.0"
        ],
        [
         "OffersScreenAppear",
         "61.4119534697152"
        ],
        [
         "CartScreenAppear",
         "49.338146811071"
        ],
        [
         "PaymentScreenSuccessful",
         "47.372643401524265"
        ]
       ],
       "shape": {
        "columns": 1,
        "rows": 4
       }
      },
      "text/html": [
       "<div>\n",
       "<style scoped>\n",
       "    .dataframe tbody tr th:only-of-type {\n",
       "        vertical-align: middle;\n",
       "    }\n",
       "\n",
       "    .dataframe tbody tr th {\n",
       "        vertical-align: top;\n",
       "    }\n",
       "\n",
       "    .dataframe thead th {\n",
       "        text-align: right;\n",
       "    }\n",
       "</style>\n",
       "<table border=\"1\" class=\"dataframe\">\n",
       "  <thead>\n",
       "    <tr style=\"text-align: right;\">\n",
       "      <th></th>\n",
       "      <th>convB</th>\n",
       "    </tr>\n",
       "    <tr>\n",
       "      <th>event_name</th>\n",
       "      <th></th>\n",
       "    </tr>\n",
       "  </thead>\n",
       "  <tbody>\n",
       "    <tr>\n",
       "      <th>MainScreenAppear</th>\n",
       "      <td>100.000000</td>\n",
       "    </tr>\n",
       "    <tr>\n",
       "      <th>OffersScreenAppear</th>\n",
       "      <td>61.411953</td>\n",
       "    </tr>\n",
       "    <tr>\n",
       "      <th>CartScreenAppear</th>\n",
       "      <td>49.338147</td>\n",
       "    </tr>\n",
       "    <tr>\n",
       "      <th>PaymentScreenSuccessful</th>\n",
       "      <td>47.372643</td>\n",
       "    </tr>\n",
       "  </tbody>\n",
       "</table>\n",
       "</div>"
      ],
      "text/plain": [
       "                              convB\n",
       "event_name                         \n",
       "MainScreenAppear         100.000000\n",
       "OffersScreenAppear        61.411953\n",
       "CartScreenAppear          49.338147\n",
       "PaymentScreenSuccessful   47.372643"
      ]
     },
     "execution_count": 44,
     "metadata": {},
     "output_type": "execute_result"
    }
   ],
   "source": [
    "# Tasas de conversión B\n",
    "\n",
    "funnel_B = df_clean.query(\"group =='B'\").pivot_table(index = 'event_name', values = 'device_id', aggfunc='nunique').sort_values('device_id',ascending=False)\n",
    "\n",
    "n_B = funnel_B['device_id'].max()\n",
    "funnel_B['convB'] = 100 * funnel_B['device_id'] / n_B\n",
    "funnel_B.drop(columns='device_id',inplace=True)\n",
    "\n",
    "funnel_B"
   ]
  },
  {
   "cell_type": "code",
   "execution_count": 48,
   "metadata": {},
   "outputs": [
    {
     "data": {
      "application/vnd.microsoft.datawrangler.viewer.v0+json": {
       "columns": [
        {
         "name": "event_name",
         "rawType": "object",
         "type": "string"
        },
        {
         "name": "A1",
         "rawType": "float64",
         "type": "float"
        },
        {
         "name": "A2",
         "rawType": "float64",
         "type": "float"
        },
        {
         "name": "B",
         "rawType": "float64",
         "type": "float"
        }
       ],
       "conversionMethod": "pd.DataFrame",
       "ref": "2aa65e60-4250-40be-9528-887355d1a232",
       "rows": [
        [
         "MainScreenAppear",
         "100.0",
         "100.0",
         "100.0"
        ],
        [
         "OffersScreenAppear",
         "62.93877551020408",
         "61.38933764135703",
         "61.4119534697152"
        ],
        [
         "CartScreenAppear",
         "51.673469387755105",
         "50.0",
         "49.338146811071"
        ],
        [
         "PaymentScreenSuccessful",
         "48.97959183673469",
         "46.76898222940226",
         "47.372643401524265"
        ]
       ],
       "shape": {
        "columns": 3,
        "rows": 4
       }
      },
      "text/html": [
       "<div>\n",
       "<style scoped>\n",
       "    .dataframe tbody tr th:only-of-type {\n",
       "        vertical-align: middle;\n",
       "    }\n",
       "\n",
       "    .dataframe tbody tr th {\n",
       "        vertical-align: top;\n",
       "    }\n",
       "\n",
       "    .dataframe thead th {\n",
       "        text-align: right;\n",
       "    }\n",
       "</style>\n",
       "<table border=\"1\" class=\"dataframe\">\n",
       "  <thead>\n",
       "    <tr style=\"text-align: right;\">\n",
       "      <th></th>\n",
       "      <th>A1</th>\n",
       "      <th>A2</th>\n",
       "      <th>B</th>\n",
       "    </tr>\n",
       "    <tr>\n",
       "      <th>event_name</th>\n",
       "      <th></th>\n",
       "      <th></th>\n",
       "      <th></th>\n",
       "    </tr>\n",
       "  </thead>\n",
       "  <tbody>\n",
       "    <tr>\n",
       "      <th>MainScreenAppear</th>\n",
       "      <td>100.000000</td>\n",
       "      <td>100.000000</td>\n",
       "      <td>100.000000</td>\n",
       "    </tr>\n",
       "    <tr>\n",
       "      <th>OffersScreenAppear</th>\n",
       "      <td>62.938776</td>\n",
       "      <td>61.389338</td>\n",
       "      <td>61.411953</td>\n",
       "    </tr>\n",
       "    <tr>\n",
       "      <th>CartScreenAppear</th>\n",
       "      <td>51.673469</td>\n",
       "      <td>50.000000</td>\n",
       "      <td>49.338147</td>\n",
       "    </tr>\n",
       "    <tr>\n",
       "      <th>PaymentScreenSuccessful</th>\n",
       "      <td>48.979592</td>\n",
       "      <td>46.768982</td>\n",
       "      <td>47.372643</td>\n",
       "    </tr>\n",
       "  </tbody>\n",
       "</table>\n",
       "</div>"
      ],
      "text/plain": [
       "                                 A1          A2           B\n",
       "event_name                                                 \n",
       "MainScreenAppear         100.000000  100.000000  100.000000\n",
       "OffersScreenAppear        62.938776   61.389338   61.411953\n",
       "CartScreenAppear          51.673469   50.000000   49.338147\n",
       "PaymentScreenSuccessful   48.979592   46.768982   47.372643"
      ]
     },
     "execution_count": 48,
     "metadata": {},
     "output_type": "execute_result"
    }
   ],
   "source": [
    "# Funnel general\n",
    "\n",
    "funnel = funnel_A1.merge(funnel_A2, on='event_name')\n",
    "funnel = funnel.merge(funnel_B, on = 'event_name')\n",
    "\n",
    "funnel.columns = ['A1','A2','B']\n",
    "\n",
    "funnel"
   ]
  },
  {
   "cell_type": "markdown",
   "metadata": {},
   "source": [
    "### Pruebas de hipótesis"
   ]
  },
  {
   "cell_type": "code",
   "execution_count": 46,
   "metadata": {},
   "outputs": [
    {
     "data": {
      "text/plain": [
       "A1    2450\n",
       "A2    2476\n",
       "B     2493\n",
       "dtype: int64"
      ]
     },
     "execution_count": 46,
     "metadata": {},
     "output_type": "execute_result"
    }
   ],
   "source": [
    "# Observaciones de cada grupo\n",
    "\n",
    "general_n = pd.Series([n_A1,n_A2,n_B], index= ['A1','A2','B'])\n",
    "\n",
    "general_n"
   ]
  },
  {
   "cell_type": "code",
   "execution_count": 49,
   "metadata": {},
   "outputs": [
    {
     "data": {
      "application/vnd.microsoft.datawrangler.viewer.v0+json": {
       "columns": [
        {
         "name": "event_name",
         "rawType": "object",
         "type": "string"
        },
        {
         "name": "A1",
         "rawType": "float64",
         "type": "float"
        },
        {
         "name": "A2",
         "rawType": "float64",
         "type": "float"
        },
        {
         "name": "B",
         "rawType": "float64",
         "type": "float"
        }
       ],
       "conversionMethod": "pd.DataFrame",
       "ref": "aa8f2b0b-97ca-43ef-9d82-e26d947a2e41",
       "rows": [
        [
         "MainScreenAppear",
         "100.0",
         "100.0",
         "100.0"
        ],
        [
         "OffersScreenAppear",
         "62.93877551020408",
         "61.38933764135703",
         "61.4119534697152"
        ],
        [
         "CartScreenAppear",
         "51.673469387755105",
         "50.0",
         "49.338146811071"
        ],
        [
         "PaymentScreenSuccessful",
         "48.97959183673469",
         "46.76898222940226",
         "47.372643401524265"
        ]
       ],
       "shape": {
        "columns": 3,
        "rows": 4
       }
      },
      "text/html": [
       "<div>\n",
       "<style scoped>\n",
       "    .dataframe tbody tr th:only-of-type {\n",
       "        vertical-align: middle;\n",
       "    }\n",
       "\n",
       "    .dataframe tbody tr th {\n",
       "        vertical-align: top;\n",
       "    }\n",
       "\n",
       "    .dataframe thead th {\n",
       "        text-align: right;\n",
       "    }\n",
       "</style>\n",
       "<table border=\"1\" class=\"dataframe\">\n",
       "  <thead>\n",
       "    <tr style=\"text-align: right;\">\n",
       "      <th></th>\n",
       "      <th>A1</th>\n",
       "      <th>A2</th>\n",
       "      <th>B</th>\n",
       "    </tr>\n",
       "    <tr>\n",
       "      <th>event_name</th>\n",
       "      <th></th>\n",
       "      <th></th>\n",
       "      <th></th>\n",
       "    </tr>\n",
       "  </thead>\n",
       "  <tbody>\n",
       "    <tr>\n",
       "      <th>MainScreenAppear</th>\n",
       "      <td>100.000000</td>\n",
       "      <td>100.000000</td>\n",
       "      <td>100.000000</td>\n",
       "    </tr>\n",
       "    <tr>\n",
       "      <th>OffersScreenAppear</th>\n",
       "      <td>62.938776</td>\n",
       "      <td>61.389338</td>\n",
       "      <td>61.411953</td>\n",
       "    </tr>\n",
       "    <tr>\n",
       "      <th>CartScreenAppear</th>\n",
       "      <td>51.673469</td>\n",
       "      <td>50.000000</td>\n",
       "      <td>49.338147</td>\n",
       "    </tr>\n",
       "    <tr>\n",
       "      <th>PaymentScreenSuccessful</th>\n",
       "      <td>48.979592</td>\n",
       "      <td>46.768982</td>\n",
       "      <td>47.372643</td>\n",
       "    </tr>\n",
       "  </tbody>\n",
       "</table>\n",
       "</div>"
      ],
      "text/plain": [
       "                                 A1          A2           B\n",
       "event_name                                                 \n",
       "MainScreenAppear         100.000000  100.000000  100.000000\n",
       "OffersScreenAppear        62.938776   61.389338   61.411953\n",
       "CartScreenAppear          51.673469   50.000000   49.338147\n",
       "PaymentScreenSuccessful   48.979592   46.768982   47.372643"
      ]
     },
     "execution_count": 49,
     "metadata": {},
     "output_type": "execute_result"
    }
   ],
   "source": [
    "funnel"
   ]
  },
  {
   "cell_type": "code",
   "execution_count": 59,
   "metadata": {},
   "outputs": [],
   "source": [
    "# Funcion para pruebas de hipotesis\n",
    "\n",
    "def prueba_ab(evento, g1, g2, alpha = 0.05):\n",
    "\n",
    "    # Exitos muestra 1\n",
    "\n",
    "    p_1 = funnel.loc[evento,g1] / 100\n",
    "    suc_1 = int(p_1*general_n[g1])\n",
    "\n",
    "    # Exitos muestra 2\n",
    "\n",
    "    p_2 = funnel.loc[evento,g2] / 100\n",
    "    suc_2 = int(p_2*general_n[g2])\n",
    "\n",
    "    # Consolidar en una lista los exitos y las observaciones\n",
    "\n",
    "    suc = [suc_1, suc_2]\n",
    "    obs = [general_n[g1], general_n[g2]]\n",
    "\n",
    "    # Ejecutar la prueba de hipotesis con test z de proporciones\n",
    "\n",
    "    z_stat, pval = proportions_ztest(\n",
    "        count=suc,\n",
    "        nobs=obs,\n",
    "        alternative='two-sided')\n",
    "    \n",
    "    print(f\"Valor p: {pval:.1%}\")\n",
    "\n",
    "    if pval < alpha:\n",
    "        print(\"Rechazamos hipótesis nula: Las tasas de conversión son diferentes\", flush=True)\n",
    "    else:\n",
    "        print(\"No podemos rechazar hipótesis nula: Las tasas de conversión son iguales\", flush=True)\n",
    "\n",
    "    return pval\n"
   ]
  },
  {
   "cell_type": "code",
   "execution_count": 52,
   "metadata": {},
   "outputs": [
    {
     "data": {
      "application/vnd.microsoft.datawrangler.viewer.v0+json": {
       "columns": [
        {
         "name": "event_name",
         "rawType": "object",
         "type": "string"
        },
        {
         "name": "A1",
         "rawType": "float64",
         "type": "float"
        },
        {
         "name": "A2",
         "rawType": "float64",
         "type": "float"
        },
        {
         "name": "B",
         "rawType": "float64",
         "type": "float"
        }
       ],
       "conversionMethod": "pd.DataFrame",
       "ref": "fb1845ba-4e58-42df-a8ab-941a1ceb10a5",
       "rows": [
        [
         "MainScreenAppear",
         "100.0",
         "100.0",
         "100.0"
        ],
        [
         "OffersScreenAppear",
         "62.93877551020408",
         "61.38933764135703",
         "61.4119534697152"
        ],
        [
         "CartScreenAppear",
         "51.673469387755105",
         "50.0",
         "49.338146811071"
        ],
        [
         "PaymentScreenSuccessful",
         "48.97959183673469",
         "46.76898222940226",
         "47.372643401524265"
        ]
       ],
       "shape": {
        "columns": 3,
        "rows": 4
       }
      },
      "text/html": [
       "<div>\n",
       "<style scoped>\n",
       "    .dataframe tbody tr th:only-of-type {\n",
       "        vertical-align: middle;\n",
       "    }\n",
       "\n",
       "    .dataframe tbody tr th {\n",
       "        vertical-align: top;\n",
       "    }\n",
       "\n",
       "    .dataframe thead th {\n",
       "        text-align: right;\n",
       "    }\n",
       "</style>\n",
       "<table border=\"1\" class=\"dataframe\">\n",
       "  <thead>\n",
       "    <tr style=\"text-align: right;\">\n",
       "      <th></th>\n",
       "      <th>A1</th>\n",
       "      <th>A2</th>\n",
       "      <th>B</th>\n",
       "    </tr>\n",
       "    <tr>\n",
       "      <th>event_name</th>\n",
       "      <th></th>\n",
       "      <th></th>\n",
       "      <th></th>\n",
       "    </tr>\n",
       "  </thead>\n",
       "  <tbody>\n",
       "    <tr>\n",
       "      <th>MainScreenAppear</th>\n",
       "      <td>100.000000</td>\n",
       "      <td>100.000000</td>\n",
       "      <td>100.000000</td>\n",
       "    </tr>\n",
       "    <tr>\n",
       "      <th>OffersScreenAppear</th>\n",
       "      <td>62.938776</td>\n",
       "      <td>61.389338</td>\n",
       "      <td>61.411953</td>\n",
       "    </tr>\n",
       "    <tr>\n",
       "      <th>CartScreenAppear</th>\n",
       "      <td>51.673469</td>\n",
       "      <td>50.000000</td>\n",
       "      <td>49.338147</td>\n",
       "    </tr>\n",
       "    <tr>\n",
       "      <th>PaymentScreenSuccessful</th>\n",
       "      <td>48.979592</td>\n",
       "      <td>46.768982</td>\n",
       "      <td>47.372643</td>\n",
       "    </tr>\n",
       "  </tbody>\n",
       "</table>\n",
       "</div>"
      ],
      "text/plain": [
       "                                 A1          A2           B\n",
       "event_name                                                 \n",
       "MainScreenAppear         100.000000  100.000000  100.000000\n",
       "OffersScreenAppear        62.938776   61.389338   61.411953\n",
       "CartScreenAppear          51.673469   50.000000   49.338147\n",
       "PaymentScreenSuccessful   48.979592   46.768982   47.372643"
      ]
     },
     "execution_count": 52,
     "metadata": {},
     "output_type": "execute_result"
    }
   ],
   "source": [
    "funnel"
   ]
  },
  {
   "cell_type": "code",
   "execution_count": 63,
   "metadata": {},
   "outputs": [
    {
     "name": "stdout",
     "output_type": "stream",
     "text": [
      "COMPARACIÓN A1 vs A2\n",
      "################\n",
      "\n",
      "\n",
      "Evento: OffersScreenAppear\n",
      "==============\n",
      "Valor p: 26.2%\n",
      "No podemos rechazar hipótesis nula: Las tasas de conversión son iguales\n",
      "\n",
      "\n",
      "Evento: CartScreenAppear\n",
      "==============\n",
      "Valor p: 24.0%\n",
      "No podemos rechazar hipótesis nula: Las tasas de conversión son iguales\n",
      "\n",
      "\n",
      "Evento: PaymentScreenSuccessful\n",
      "==============\n",
      "Valor p: 12.0%\n",
      "No podemos rechazar hipótesis nula: Las tasas de conversión son iguales\n",
      "\n",
      "\n"
     ]
    }
   ],
   "source": [
    "# Pruebas A1 vs A2\n",
    "\n",
    "print(\"COMPARACIÓN A1 vs A2\")\n",
    "print(\"################\")\n",
    "print(\"\\n\")\n",
    "\n",
    "for event in funnel.index[1:]:\n",
    "    print(f\"Evento: {event}\")\n",
    "    print(\"==============\")\n",
    "    prueba_ab(event, 'A1', 'A2')\n",
    "    print(\"\\n\")\n"
   ]
  },
  {
   "cell_type": "code",
   "execution_count": 64,
   "metadata": {},
   "outputs": [
    {
     "name": "stdout",
     "output_type": "stream",
     "text": [
      "COMPARACIÓN A1 vs B\n",
      "################\n",
      "\n",
      "\n",
      "Evento: OffersScreenAppear\n",
      "==============\n",
      "Valor p: 25.6%\n",
      "No podemos rechazar hipótesis nula: Las tasas de conversión son iguales\n",
      "\n",
      "\n",
      "Evento: CartScreenAppear\n",
      "==============\n",
      "Valor p: 10.1%\n",
      "No podemos rechazar hipótesis nula: Las tasas de conversión son iguales\n",
      "\n",
      "\n",
      "Evento: PaymentScreenSuccessful\n",
      "==============\n",
      "Valor p: 25.8%\n",
      "No podemos rechazar hipótesis nula: Las tasas de conversión son iguales\n",
      "\n",
      "\n"
     ]
    }
   ],
   "source": [
    "# Pruebas A1 vs B\n",
    "\n",
    "print(\"COMPARACIÓN A1 vs B\")\n",
    "print(\"################\")\n",
    "print(\"\\n\")\n",
    "\n",
    "for event in funnel.index[1:]:\n",
    "    print(f\"Evento: {event}\")\n",
    "    print(\"==============\")\n",
    "    prueba_ab(event, 'A1', 'B')\n",
    "    print(\"\\n\")"
   ]
  },
  {
   "cell_type": "code",
   "execution_count": 65,
   "metadata": {},
   "outputs": [
    {
     "name": "stdout",
     "output_type": "stream",
     "text": [
      "COMPARACIÓN A2 vs B\n",
      "################\n",
      "\n",
      "\n",
      "Evento: OffersScreenAppear\n",
      "==============\n",
      "Valor p: 99.0%\n",
      "No podemos rechazar hipótesis nula: Las tasas de conversión son iguales\n",
      "\n",
      "\n",
      "Evento: CartScreenAppear\n",
      "==============\n",
      "Valor p: 64.1%\n",
      "No podemos rechazar hipótesis nula: Las tasas de conversión son iguales\n",
      "\n",
      "\n",
      "Evento: PaymentScreenSuccessful\n",
      "==============\n",
      "Valor p: 67.0%\n",
      "No podemos rechazar hipótesis nula: Las tasas de conversión son iguales\n",
      "\n",
      "\n"
     ]
    }
   ],
   "source": [
    "# Pruebas A2 vs B\n",
    "\n",
    "print(\"COMPARACIÓN A2 vs B\")\n",
    "print(\"################\")\n",
    "print(\"\\n\")\n",
    "\n",
    "for event in funnel.index[1:]:\n",
    "    print(f\"Evento: {event}\")\n",
    "    print(\"==============\")\n",
    "    prueba_ab(event, 'A2', 'B')\n",
    "    print(\"\\n\")"
   ]
  },
  {
   "cell_type": "markdown",
   "metadata": {},
   "source": [
    "# Conclusión"
   ]
  },
  {
   "cell_type": "markdown",
   "metadata": {},
   "source": [
    "- Con las pruebas realizadas, primero que nada, me da la impresión que los grupos de control están bien realizados, puesto que no presentan mayores diferencias y se comportan similares estadísticamente hablando.\n",
    "- Con esta base, podemos proceder a realizar la comparación de cualquiera de los grupos de control vs el grupo de tratamiento, en este caso, decidí hacer ambos porque ya tenía todo hecho, nada me costaba y sirve que hacia un poco más de labor curiosa.\n",
    "- Aplicando todas las pruebas en las tasas de conversión, puedo concluir que el cambio en la tipografía de la aplicación parece ser irrelevante al momento de obtener clientes.\n",
    "- Lo único que valdría la pena explorar es por qué hay ciertas pruebas que tienen pvalues bajos, las cuales, si hubiéramos establecido un valor de significancia más alto, probablemente no habrían pasado la prueba.\n",
    "- Esto último claro, dependerá de qué tan minuciosos queramos ser con nuestras pruebas a futuro y según los intereses de la empresa que nos contrató"
   ]
  }
 ],
 "metadata": {
  "kernelspec": {
   "display_name": "Python 3",
   "language": "python",
   "name": "python3"
  },
  "language_info": {
   "codemirror_mode": {
    "name": "ipython",
    "version": 3
   },
   "file_extension": ".py",
   "mimetype": "text/x-python",
   "name": "python",
   "nbconvert_exporter": "python",
   "pygments_lexer": "ipython3",
   "version": "3.12.6"
  }
 },
 "nbformat": 4,
 "nbformat_minor": 2
}
