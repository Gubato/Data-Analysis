{
 "cells": [
  {
   "cell_type": "markdown",
   "id": "020449b9",
   "metadata": {},
   "source": [
    "# Dashboard Tableau\n",
    "\n",
    "https://public.tableau.com/app/profile/luis.gutierrez2670/viz/Trendingbytime_17442284945450/Dashboard1"
   ]
  }
 ],
 "metadata": {
  "language_info": {
   "name": "python"
  }
 },
 "nbformat": 4,
 "nbformat_minor": 5
}
